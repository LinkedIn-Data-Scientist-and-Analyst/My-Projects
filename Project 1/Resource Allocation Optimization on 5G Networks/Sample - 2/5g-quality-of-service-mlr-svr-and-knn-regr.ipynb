{
 "cells": [
  {
   "cell_type": "markdown",
   "id": "f01072c3",
   "metadata": {
    "papermill": {
     "duration": 0.027578,
     "end_time": "2023-09-04T15:27:14.931109",
     "exception": false,
     "start_time": "2023-09-04T15:27:14.903531",
     "status": "completed"
    },
    "tags": []
   },
   "source": [
    "# **Resource Allocation in 5G Network Service**"
   ]
  },
  {
   "cell_type": "code",
   "execution_count": 1,
   "id": "dc1c8470",
   "metadata": {
    "execution": {
     "iopub.execute_input": "2023-09-04T15:27:14.985803Z",
     "iopub.status.busy": "2023-09-04T15:27:14.985079Z",
     "iopub.status.idle": "2023-09-04T15:27:16.869921Z",
     "shell.execute_reply": "2023-09-04T15:27:16.868633Z"
    },
    "papermill": {
     "duration": 1.915436,
     "end_time": "2023-09-04T15:27:16.872822",
     "exception": false,
     "start_time": "2023-09-04T15:27:14.957386",
     "status": "completed"
    },
    "tags": []
   },
   "outputs": [],
   "source": [
    "import pandas as pd\n",
    "import numpy as np\n",
    "import matplotlib.pyplot as plt\n",
    "import seaborn as sns"
   ]
  },
  {
   "cell_type": "code",
   "execution_count": 2,
   "id": "af4cbf02",
   "metadata": {
    "execution": {
     "iopub.execute_input": "2023-09-04T15:27:16.929827Z",
     "iopub.status.busy": "2023-09-04T15:27:16.929270Z",
     "iopub.status.idle": "2023-09-04T15:27:16.951546Z",
     "shell.execute_reply": "2023-09-04T15:27:16.950472Z"
    },
    "papermill": {
     "duration": 0.054227,
     "end_time": "2023-09-04T15:27:16.954281",
     "exception": false,
     "start_time": "2023-09-04T15:27:16.900054",
     "status": "completed"
    },
    "tags": []
   },
   "outputs": [],
   "source": [
    "df = pd.read_csv('/kaggle/input/5g-quality-of-service/Quality of Service 5G.csv')"
   ]
  },
  {
   "cell_type": "code",
   "execution_count": 3,
   "id": "6b3ba2b9",
   "metadata": {
    "execution": {
     "iopub.execute_input": "2023-09-04T15:27:17.009775Z",
     "iopub.status.busy": "2023-09-04T15:27:17.009358Z",
     "iopub.status.idle": "2023-09-04T15:27:17.035881Z",
     "shell.execute_reply": "2023-09-04T15:27:17.034722Z"
    },
    "papermill": {
     "duration": 0.058108,
     "end_time": "2023-09-04T15:27:17.039043",
     "exception": false,
     "start_time": "2023-09-04T15:27:16.980935",
     "status": "completed"
    },
    "tags": []
   },
   "outputs": [
    {
     "data": {
      "text/html": [
       "<div>\n",
       "<style scoped>\n",
       "    .dataframe tbody tr th:only-of-type {\n",
       "        vertical-align: middle;\n",
       "    }\n",
       "\n",
       "    .dataframe tbody tr th {\n",
       "        vertical-align: top;\n",
       "    }\n",
       "\n",
       "    .dataframe thead th {\n",
       "        text-align: right;\n",
       "    }\n",
       "</style>\n",
       "<table border=\"1\" class=\"dataframe\">\n",
       "  <thead>\n",
       "    <tr style=\"text-align: right;\">\n",
       "      <th></th>\n",
       "      <th>Timestamp</th>\n",
       "      <th>User_ID</th>\n",
       "      <th>Application_Type</th>\n",
       "      <th>Signal_Strength</th>\n",
       "      <th>Latency</th>\n",
       "      <th>Required_Bandwidth</th>\n",
       "      <th>Allocated_Bandwidth</th>\n",
       "      <th>Resource_Allocation</th>\n",
       "    </tr>\n",
       "  </thead>\n",
       "  <tbody>\n",
       "    <tr>\n",
       "      <th>0</th>\n",
       "      <td>9/3/2023 10:00</td>\n",
       "      <td>User_1</td>\n",
       "      <td>Video_Call</td>\n",
       "      <td>-75 dBm</td>\n",
       "      <td>30 ms</td>\n",
       "      <td>10 Mbps</td>\n",
       "      <td>15 Mbps</td>\n",
       "      <td>70%</td>\n",
       "    </tr>\n",
       "    <tr>\n",
       "      <th>1</th>\n",
       "      <td>9/3/2023 10:00</td>\n",
       "      <td>User_2</td>\n",
       "      <td>Voice_Call</td>\n",
       "      <td>-80 dBm</td>\n",
       "      <td>20 ms</td>\n",
       "      <td>100 Kbps</td>\n",
       "      <td>120 Kbps</td>\n",
       "      <td>80%</td>\n",
       "    </tr>\n",
       "    <tr>\n",
       "      <th>2</th>\n",
       "      <td>9/3/2023 10:00</td>\n",
       "      <td>User_3</td>\n",
       "      <td>Streaming</td>\n",
       "      <td>-85 dBm</td>\n",
       "      <td>40 ms</td>\n",
       "      <td>5 Mbps</td>\n",
       "      <td>6 Mbps</td>\n",
       "      <td>75%</td>\n",
       "    </tr>\n",
       "    <tr>\n",
       "      <th>3</th>\n",
       "      <td>9/3/2023 10:00</td>\n",
       "      <td>User_4</td>\n",
       "      <td>Emergency_Service</td>\n",
       "      <td>-70 dBm</td>\n",
       "      <td>10 ms</td>\n",
       "      <td>1 Mbps</td>\n",
       "      <td>1.5 Mbps</td>\n",
       "      <td>90%</td>\n",
       "    </tr>\n",
       "    <tr>\n",
       "      <th>4</th>\n",
       "      <td>9/3/2023 10:00</td>\n",
       "      <td>User_5</td>\n",
       "      <td>Online_Gaming</td>\n",
       "      <td>-78 dBm</td>\n",
       "      <td>25 ms</td>\n",
       "      <td>2 Mbps</td>\n",
       "      <td>3 Mbps</td>\n",
       "      <td>85%</td>\n",
       "    </tr>\n",
       "    <tr>\n",
       "      <th>...</th>\n",
       "      <td>...</td>\n",
       "      <td>...</td>\n",
       "      <td>...</td>\n",
       "      <td>...</td>\n",
       "      <td>...</td>\n",
       "      <td>...</td>\n",
       "      <td>...</td>\n",
       "      <td>...</td>\n",
       "    </tr>\n",
       "    <tr>\n",
       "      <th>395</th>\n",
       "      <td>9/3/2023 10:06</td>\n",
       "      <td>User_396</td>\n",
       "      <td>Streaming</td>\n",
       "      <td>-110 dBm</td>\n",
       "      <td>61 ms</td>\n",
       "      <td>1.3 Mbps</td>\n",
       "      <td>1.8 Mbps</td>\n",
       "      <td>85%</td>\n",
       "    </tr>\n",
       "    <tr>\n",
       "      <th>396</th>\n",
       "      <td>9/3/2023 10:06</td>\n",
       "      <td>User_397</td>\n",
       "      <td>Video_Call</td>\n",
       "      <td>-40 dBm</td>\n",
       "      <td>53 ms</td>\n",
       "      <td>14.5 Mbps</td>\n",
       "      <td>15.8 Mbps</td>\n",
       "      <td>75%</td>\n",
       "    </tr>\n",
       "    <tr>\n",
       "      <th>397</th>\n",
       "      <td>9/3/2023 10:06</td>\n",
       "      <td>User_398</td>\n",
       "      <td>Video_Streaming</td>\n",
       "      <td>-113 dBm</td>\n",
       "      <td>58 ms</td>\n",
       "      <td>1.0 Mbps</td>\n",
       "      <td>1.4 Mbps</td>\n",
       "      <td>70%</td>\n",
       "    </tr>\n",
       "    <tr>\n",
       "      <th>398</th>\n",
       "      <td>9/3/2023 10:06</td>\n",
       "      <td>User_399</td>\n",
       "      <td>Emergency_Service</td>\n",
       "      <td>-40 dBm</td>\n",
       "      <td>5 ms</td>\n",
       "      <td>0.4 Mbps</td>\n",
       "      <td>0.4 Mbps</td>\n",
       "      <td>70%</td>\n",
       "    </tr>\n",
       "    <tr>\n",
       "      <th>399</th>\n",
       "      <td>9/3/2023 10:06</td>\n",
       "      <td>User_400</td>\n",
       "      <td>Web_Browsing</td>\n",
       "      <td>-113 dBm</td>\n",
       "      <td>0 ms</td>\n",
       "      <td>0.1 Mbps</td>\n",
       "      <td>0.1 Mbps</td>\n",
       "      <td>70%</td>\n",
       "    </tr>\n",
       "  </tbody>\n",
       "</table>\n",
       "<p>400 rows × 8 columns</p>\n",
       "</div>"
      ],
      "text/plain": [
       "          Timestamp   User_ID   Application_Type Signal_Strength Latency  \\\n",
       "0    9/3/2023 10:00    User_1         Video_Call         -75 dBm   30 ms   \n",
       "1    9/3/2023 10:00    User_2         Voice_Call         -80 dBm   20 ms   \n",
       "2    9/3/2023 10:00    User_3          Streaming         -85 dBm   40 ms   \n",
       "3    9/3/2023 10:00    User_4  Emergency_Service         -70 dBm   10 ms   \n",
       "4    9/3/2023 10:00    User_5      Online_Gaming         -78 dBm   25 ms   \n",
       "..              ...       ...                ...             ...     ...   \n",
       "395  9/3/2023 10:06  User_396          Streaming        -110 dBm   61 ms   \n",
       "396  9/3/2023 10:06  User_397         Video_Call         -40 dBm   53 ms   \n",
       "397  9/3/2023 10:06  User_398    Video_Streaming        -113 dBm   58 ms   \n",
       "398  9/3/2023 10:06  User_399  Emergency_Service         -40 dBm    5 ms   \n",
       "399  9/3/2023 10:06  User_400       Web_Browsing        -113 dBm    0 ms   \n",
       "\n",
       "    Required_Bandwidth Allocated_Bandwidth Resource_Allocation  \n",
       "0              10 Mbps             15 Mbps                 70%  \n",
       "1             100 Kbps            120 Kbps                 80%  \n",
       "2               5 Mbps              6 Mbps                 75%  \n",
       "3               1 Mbps            1.5 Mbps                 90%  \n",
       "4               2 Mbps              3 Mbps                 85%  \n",
       "..                 ...                 ...                 ...  \n",
       "395           1.3 Mbps            1.8 Mbps                 85%  \n",
       "396          14.5 Mbps           15.8 Mbps                 75%  \n",
       "397           1.0 Mbps            1.4 Mbps                 70%  \n",
       "398           0.4 Mbps            0.4 Mbps                 70%  \n",
       "399           0.1 Mbps            0.1 Mbps                 70%  \n",
       "\n",
       "[400 rows x 8 columns]"
      ]
     },
     "execution_count": 3,
     "metadata": {},
     "output_type": "execute_result"
    }
   ],
   "source": [
    "df"
   ]
  },
  {
   "cell_type": "markdown",
   "id": "4ace94cd",
   "metadata": {
    "papermill": {
     "duration": 0.027971,
     "end_time": "2023-09-04T15:27:17.093957",
     "exception": false,
     "start_time": "2023-09-04T15:27:17.065986",
     "status": "completed"
    },
    "tags": []
   },
   "source": [
    "> **1. Data Pre-Processing :**"
   ]
  },
  {
   "cell_type": "code",
   "execution_count": 4,
   "id": "6ff12f5e",
   "metadata": {
    "execution": {
     "iopub.execute_input": "2023-09-04T15:27:17.149984Z",
     "iopub.status.busy": "2023-09-04T15:27:17.149610Z",
     "iopub.status.idle": "2023-09-04T15:27:17.176445Z",
     "shell.execute_reply": "2023-09-04T15:27:17.175241Z"
    },
    "papermill": {
     "duration": 0.058667,
     "end_time": "2023-09-04T15:27:17.179533",
     "exception": false,
     "start_time": "2023-09-04T15:27:17.120866",
     "status": "completed"
    },
    "tags": []
   },
   "outputs": [
    {
     "name": "stdout",
     "output_type": "stream",
     "text": [
      "<class 'pandas.core.frame.DataFrame'>\n",
      "RangeIndex: 400 entries, 0 to 399\n",
      "Data columns (total 8 columns):\n",
      " #   Column               Non-Null Count  Dtype \n",
      "---  ------               --------------  ----- \n",
      " 0   Timestamp            400 non-null    object\n",
      " 1   User_ID              400 non-null    object\n",
      " 2   Application_Type     400 non-null    object\n",
      " 3   Signal_Strength      400 non-null    object\n",
      " 4   Latency              400 non-null    object\n",
      " 5   Required_Bandwidth   400 non-null    object\n",
      " 6   Allocated_Bandwidth  400 non-null    object\n",
      " 7   Resource_Allocation  400 non-null    object\n",
      "dtypes: object(8)\n",
      "memory usage: 25.1+ KB\n"
     ]
    }
   ],
   "source": [
    "# Get all insights from the DataFrame\n",
    "df.info()"
   ]
  },
  {
   "cell_type": "code",
   "execution_count": 5,
   "id": "e339c3ef",
   "metadata": {
    "execution": {
     "iopub.execute_input": "2023-09-04T15:27:17.235857Z",
     "iopub.status.busy": "2023-09-04T15:27:17.235452Z",
     "iopub.status.idle": "2023-09-04T15:27:17.244400Z",
     "shell.execute_reply": "2023-09-04T15:27:17.243267Z"
    },
    "papermill": {
     "duration": 0.039275,
     "end_time": "2023-09-04T15:27:17.246660",
     "exception": false,
     "start_time": "2023-09-04T15:27:17.207385",
     "status": "completed"
    },
    "tags": []
   },
   "outputs": [
    {
     "data": {
      "text/plain": [
       "Timestamp              0\n",
       "User_ID                0\n",
       "Application_Type       0\n",
       "Signal_Strength        0\n",
       "Latency                0\n",
       "Required_Bandwidth     0\n",
       "Allocated_Bandwidth    0\n",
       "Resource_Allocation    0\n",
       "dtype: int64"
      ]
     },
     "execution_count": 5,
     "metadata": {},
     "output_type": "execute_result"
    }
   ],
   "source": [
    "# Check for NULL Values\n",
    "df.isna().sum()"
   ]
  },
  {
   "cell_type": "code",
   "execution_count": 6,
   "id": "ba10d995",
   "metadata": {
    "execution": {
     "iopub.execute_input": "2023-09-04T15:27:17.363756Z",
     "iopub.status.busy": "2023-09-04T15:27:17.363357Z",
     "iopub.status.idle": "2023-09-04T15:27:17.375292Z",
     "shell.execute_reply": "2023-09-04T15:27:17.374190Z"
    },
    "papermill": {
     "duration": 0.042585,
     "end_time": "2023-09-04T15:27:17.377675",
     "exception": false,
     "start_time": "2023-09-04T15:27:17.335090",
     "status": "completed"
    },
    "tags": []
   },
   "outputs": [
    {
     "data": {
      "text/plain": [
       "0"
      ]
     },
     "execution_count": 6,
     "metadata": {},
     "output_type": "execute_result"
    }
   ],
   "source": [
    "# Check for Duplicates\n",
    "df.duplicated().sum()"
   ]
  },
  {
   "cell_type": "code",
   "execution_count": 7,
   "id": "b7419b08",
   "metadata": {
    "execution": {
     "iopub.execute_input": "2023-09-04T15:27:17.435087Z",
     "iopub.status.busy": "2023-09-04T15:27:17.434675Z",
     "iopub.status.idle": "2023-09-04T15:27:17.442667Z",
     "shell.execute_reply": "2023-09-04T15:27:17.441827Z"
    },
    "papermill": {
     "duration": 0.039155,
     "end_time": "2023-09-04T15:27:17.444867",
     "exception": false,
     "start_time": "2023-09-04T15:27:17.405712",
     "status": "completed"
    },
    "tags": []
   },
   "outputs": [
    {
     "data": {
      "text/plain": [
       "array(['Video_Call', 'Voice_Call', 'Streaming', 'Emergency_Service',\n",
       "       'Online_Gaming', 'Background_Download', 'Web_Browsing',\n",
       "       'IoT_Temperature', 'Video_Streaming', 'File_Download', 'VoIP_Call'],\n",
       "      dtype=object)"
      ]
     },
     "execution_count": 7,
     "metadata": {},
     "output_type": "execute_result"
    }
   ],
   "source": [
    "# Start with encoding df['Application_Type']\n",
    "\n",
    "df['Application_Type'].unique()"
   ]
  },
  {
   "cell_type": "markdown",
   "id": "e54a673b",
   "metadata": {
    "papermill": {
     "duration": 0.026745,
     "end_time": "2023-09-04T15:27:17.498733",
     "exception": false,
     "start_time": "2023-09-04T15:27:17.471988",
     "status": "completed"
    },
    "tags": []
   },
   "source": [
    "> **df['Application_Type']**\n",
    "\n",
    "* Contains the following unique values: ['Video_Call', 'Voice_Call', 'Streaming', 'Emergency_Service', 'Online_Gaming', 'Background_Download', 'Web_Browsing', 'IoT_Temperature', 'Video_Streaming', 'File_Download', 'VoIP_Call']\n",
    "\n",
    "* These all categories can be arranged in increasing Ordered form of Resource requirement: \n",
    "    1. IoT_Temperature\n",
    "    2. Web_Browsing\n",
    "    3. VoIP_Call \n",
    "    4. Video_Call\n",
    "    5. File_Download\n",
    "    6. Background_Download\n",
    "    7. Streaming \n",
    "    8. Video_Streaming\n",
    "    9. Online_Gaming\n",
    "    10. Emergency_Service\n",
    "\n",
    "* So, use Ordinal Encoding technique to transform the text data to numeric values."
   ]
  },
  {
   "cell_type": "code",
   "execution_count": 8,
   "id": "e82ff1cc",
   "metadata": {
    "execution": {
     "iopub.execute_input": "2023-09-04T15:27:17.555494Z",
     "iopub.status.busy": "2023-09-04T15:27:17.555107Z",
     "iopub.status.idle": "2023-09-04T15:27:17.701816Z",
     "shell.execute_reply": "2023-09-04T15:27:17.700614Z"
    },
    "papermill": {
     "duration": 0.178037,
     "end_time": "2023-09-04T15:27:17.704310",
     "exception": false,
     "start_time": "2023-09-04T15:27:17.526273",
     "status": "completed"
    },
    "tags": []
   },
   "outputs": [
    {
     "name": "stdout",
     "output_type": "stream",
     "text": [
      "['Video_Call' 'Voice_Call' 'Streaming' 'Emergency_Service' 'Online_Gaming'\n",
      " 'Background_Download' 'Web_Browsing' 'IoT_Temperature' 'Video_Streaming'\n",
      " 'File_Download' 'VoIP_Call']\n",
      "[ 4.  3.  7. 10.  9.  6.  1.  0.  8.  5.  2.]\n"
     ]
    }
   ],
   "source": [
    "from sklearn.preprocessing import OrdinalEncoder\n",
    "\n",
    "# Arrange data in ordered categories\n",
    "data = [['IoT_Temperature', 'Web_Browsing', 'VoIP_Call', 'Voice_Call', 'Video_Call', 'File_Download',\n",
    "    'Background_Download', 'Streaming', 'Video_Streaming', 'Online_Gaming', 'Emergency_Service']]\n",
    "\n",
    "encoder = OrdinalEncoder(categories=data)\n",
    "\n",
    "print(df['Application_Type'].unique())\n",
    "df['Application_Type'] = encoder.fit_transform(np.array(df['Application_Type']).reshape(-1,1))\n",
    "print(df['Application_Type'].unique())"
   ]
  },
  {
   "cell_type": "code",
   "execution_count": 9,
   "id": "c9ee3630",
   "metadata": {
    "execution": {
     "iopub.execute_input": "2023-09-04T15:27:17.761436Z",
     "iopub.status.busy": "2023-09-04T15:27:17.761021Z",
     "iopub.status.idle": "2023-09-04T15:27:17.768018Z",
     "shell.execute_reply": "2023-09-04T15:27:17.766892Z"
    },
    "papermill": {
     "duration": 0.03824,
     "end_time": "2023-09-04T15:27:17.770384",
     "exception": false,
     "start_time": "2023-09-04T15:27:17.732144",
     "status": "completed"
    },
    "tags": []
   },
   "outputs": [],
   "source": [
    "# Remove unwanted substr and convert df['Resource_Allocation'] to int dtype\n",
    "\n",
    "df['Resource_Allocation'] = df['Resource_Allocation'].str.replace('%','').astype('int')"
   ]
  },
  {
   "cell_type": "code",
   "execution_count": 10,
   "id": "8302f27e",
   "metadata": {
    "execution": {
     "iopub.execute_input": "2023-09-04T15:27:17.828320Z",
     "iopub.status.busy": "2023-09-04T15:27:17.827911Z",
     "iopub.status.idle": "2023-09-04T15:27:17.834989Z",
     "shell.execute_reply": "2023-09-04T15:27:17.833859Z"
    },
    "papermill": {
     "duration": 0.038645,
     "end_time": "2023-09-04T15:27:17.837439",
     "exception": false,
     "start_time": "2023-09-04T15:27:17.798794",
     "status": "completed"
    },
    "tags": []
   },
   "outputs": [],
   "source": [
    "# Remove unwanted substr and convert df['User_ID'] to int dtype\n",
    "\n",
    "df['User_ID'] = df['User_ID'].str.replace('User_','').astype('int')"
   ]
  },
  {
   "cell_type": "code",
   "execution_count": 11,
   "id": "7543d48a",
   "metadata": {
    "execution": {
     "iopub.execute_input": "2023-09-04T15:27:17.895614Z",
     "iopub.status.busy": "2023-09-04T15:27:17.894735Z",
     "iopub.status.idle": "2023-09-04T15:27:17.903711Z",
     "shell.execute_reply": "2023-09-04T15:27:17.902649Z"
    },
    "papermill": {
     "duration": 0.040379,
     "end_time": "2023-09-04T15:27:17.906077",
     "exception": false,
     "start_time": "2023-09-04T15:27:17.865698",
     "status": "completed"
    },
    "tags": []
   },
   "outputs": [],
   "source": [
    "# Bandwidth contains 2 units : Kbps and Mbps, where Kbps=1000*Mbps\n",
    "# Mbps : Convert to Kbps\n",
    "# Kbps : Leave as it is\n",
    "\n",
    "def mbps_to_kbps(value):  \n",
    "    if 'Mbps' in value:\n",
    "        n = float(value.replace(' Mbps',''))\n",
    "        return str(n*1000)+' Kbps'\n",
    "    else:\n",
    "        return value\n",
    "\n",
    "\n",
    "df['Required_Bandwidth'] = df['Required_Bandwidth'].map(mbps_to_kbps)\n",
    "df['Allocated_Bandwidth'] = df['Allocated_Bandwidth'].map(mbps_to_kbps)\n"
   ]
  },
  {
   "cell_type": "code",
   "execution_count": 12,
   "id": "79f6c0ac",
   "metadata": {
    "execution": {
     "iopub.execute_input": "2023-09-04T15:27:17.963702Z",
     "iopub.status.busy": "2023-09-04T15:27:17.962939Z",
     "iopub.status.idle": "2023-09-04T15:27:17.971100Z",
     "shell.execute_reply": "2023-09-04T15:27:17.970101Z"
    },
    "papermill": {
     "duration": 0.039624,
     "end_time": "2023-09-04T15:27:17.973429",
     "exception": false,
     "start_time": "2023-09-04T15:27:17.933805",
     "status": "completed"
    },
    "tags": []
   },
   "outputs": [],
   "source": [
    "# Remove unwanted substr and convert df['Required_Bandwidth'] and \n",
    "# df['Allocated_Bandwidth'] to int dtype\n",
    "\n",
    "df['Required_Bandwidth'] = df['Required_Bandwidth'].str.replace(' Kbps','').astype('float')\n",
    "df['Allocated_Bandwidth'] = df['Allocated_Bandwidth'].str.replace(' Kbps','').astype('float')"
   ]
  },
  {
   "cell_type": "code",
   "execution_count": 13,
   "id": "b51754f6",
   "metadata": {
    "execution": {
     "iopub.execute_input": "2023-09-04T15:27:18.030985Z",
     "iopub.status.busy": "2023-09-04T15:27:18.030535Z",
     "iopub.status.idle": "2023-09-04T15:27:18.037087Z",
     "shell.execute_reply": "2023-09-04T15:27:18.036162Z"
    },
    "papermill": {
     "duration": 0.037802,
     "end_time": "2023-09-04T15:27:18.039339",
     "exception": false,
     "start_time": "2023-09-04T15:27:18.001537",
     "status": "completed"
    },
    "tags": []
   },
   "outputs": [],
   "source": [
    "# Remove unwanted substr and convert df['Latency'] to int dtype\n",
    "df['Latency'] = df['Latency'].str.replace(' ms','').astype('int')"
   ]
  },
  {
   "cell_type": "code",
   "execution_count": 14,
   "id": "2bfd677f",
   "metadata": {
    "execution": {
     "iopub.execute_input": "2023-09-04T15:27:18.099319Z",
     "iopub.status.busy": "2023-09-04T15:27:18.098535Z",
     "iopub.status.idle": "2023-09-04T15:27:18.104860Z",
     "shell.execute_reply": "2023-09-04T15:27:18.104055Z"
    },
    "papermill": {
     "duration": 0.039904,
     "end_time": "2023-09-04T15:27:18.106877",
     "exception": false,
     "start_time": "2023-09-04T15:27:18.066973",
     "status": "completed"
    },
    "tags": []
   },
   "outputs": [],
   "source": [
    "# Remove unwanted substr and convert df['Signal_Strength'] to int dtype\n",
    "df['Signal_Strength'] = df['Signal_Strength'].str.replace(' dBm','').astype('int')"
   ]
  },
  {
   "cell_type": "code",
   "execution_count": 15,
   "id": "28e677eb",
   "metadata": {
    "execution": {
     "iopub.execute_input": "2023-09-04T15:27:18.165385Z",
     "iopub.status.busy": "2023-09-04T15:27:18.164195Z",
     "iopub.status.idle": "2023-09-04T15:27:18.176641Z",
     "shell.execute_reply": "2023-09-04T15:27:18.175478Z"
    },
    "papermill": {
     "duration": 0.044599,
     "end_time": "2023-09-04T15:27:18.179279",
     "exception": false,
     "start_time": "2023-09-04T15:27:18.134680",
     "status": "completed"
    },
    "tags": []
   },
   "outputs": [],
   "source": [
    "# Cast 'Timestamp' col dtype from object to datetime\n",
    "df['Timestamp'] = pd.to_datetime(df['Timestamp'])"
   ]
  },
  {
   "cell_type": "code",
   "execution_count": 16,
   "id": "c746707a",
   "metadata": {
    "execution": {
     "iopub.execute_input": "2023-09-04T15:27:18.237216Z",
     "iopub.status.busy": "2023-09-04T15:27:18.236802Z",
     "iopub.status.idle": "2023-09-04T15:27:18.249646Z",
     "shell.execute_reply": "2023-09-04T15:27:18.248365Z"
    },
    "papermill": {
     "duration": 0.044923,
     "end_time": "2023-09-04T15:27:18.251867",
     "exception": false,
     "start_time": "2023-09-04T15:27:18.206944",
     "status": "completed"
    },
    "tags": []
   },
   "outputs": [
    {
     "name": "stdout",
     "output_type": "stream",
     "text": [
      "<class 'pandas.core.frame.DataFrame'>\n",
      "RangeIndex: 400 entries, 0 to 399\n",
      "Data columns (total 8 columns):\n",
      " #   Column               Non-Null Count  Dtype         \n",
      "---  ------               --------------  -----         \n",
      " 0   Timestamp            400 non-null    datetime64[ns]\n",
      " 1   User_ID              400 non-null    int64         \n",
      " 2   Application_Type     400 non-null    float64       \n",
      " 3   Signal_Strength      400 non-null    int64         \n",
      " 4   Latency              400 non-null    int64         \n",
      " 5   Required_Bandwidth   400 non-null    float64       \n",
      " 6   Allocated_Bandwidth  400 non-null    float64       \n",
      " 7   Resource_Allocation  400 non-null    int64         \n",
      "dtypes: datetime64[ns](1), float64(3), int64(4)\n",
      "memory usage: 25.1 KB\n"
     ]
    }
   ],
   "source": [
    "df.info()"
   ]
  },
  {
   "cell_type": "code",
   "execution_count": 17,
   "id": "f0dc6f5b",
   "metadata": {
    "execution": {
     "iopub.execute_input": "2023-09-04T15:27:18.310879Z",
     "iopub.status.busy": "2023-09-04T15:27:18.309866Z",
     "iopub.status.idle": "2023-09-04T15:27:18.325583Z",
     "shell.execute_reply": "2023-09-04T15:27:18.324791Z"
    },
    "papermill": {
     "duration": 0.047477,
     "end_time": "2023-09-04T15:27:18.327833",
     "exception": false,
     "start_time": "2023-09-04T15:27:18.280356",
     "status": "completed"
    },
    "tags": []
   },
   "outputs": [
    {
     "data": {
      "text/html": [
       "<div>\n",
       "<style scoped>\n",
       "    .dataframe tbody tr th:only-of-type {\n",
       "        vertical-align: middle;\n",
       "    }\n",
       "\n",
       "    .dataframe tbody tr th {\n",
       "        vertical-align: top;\n",
       "    }\n",
       "\n",
       "    .dataframe thead th {\n",
       "        text-align: right;\n",
       "    }\n",
       "</style>\n",
       "<table border=\"1\" class=\"dataframe\">\n",
       "  <thead>\n",
       "    <tr style=\"text-align: right;\">\n",
       "      <th></th>\n",
       "      <th>Timestamp</th>\n",
       "      <th>User_ID</th>\n",
       "      <th>Application_Type</th>\n",
       "      <th>Signal_Strength</th>\n",
       "      <th>Latency</th>\n",
       "      <th>Required_Bandwidth</th>\n",
       "      <th>Allocated_Bandwidth</th>\n",
       "      <th>Resource_Allocation</th>\n",
       "    </tr>\n",
       "  </thead>\n",
       "  <tbody>\n",
       "    <tr>\n",
       "      <th>0</th>\n",
       "      <td>2023-09-03 10:00:00</td>\n",
       "      <td>1</td>\n",
       "      <td>4.0</td>\n",
       "      <td>-75</td>\n",
       "      <td>30</td>\n",
       "      <td>10000.0</td>\n",
       "      <td>15000.0</td>\n",
       "      <td>70</td>\n",
       "    </tr>\n",
       "    <tr>\n",
       "      <th>1</th>\n",
       "      <td>2023-09-03 10:00:00</td>\n",
       "      <td>2</td>\n",
       "      <td>3.0</td>\n",
       "      <td>-80</td>\n",
       "      <td>20</td>\n",
       "      <td>100.0</td>\n",
       "      <td>120.0</td>\n",
       "      <td>80</td>\n",
       "    </tr>\n",
       "    <tr>\n",
       "      <th>2</th>\n",
       "      <td>2023-09-03 10:00:00</td>\n",
       "      <td>3</td>\n",
       "      <td>7.0</td>\n",
       "      <td>-85</td>\n",
       "      <td>40</td>\n",
       "      <td>5000.0</td>\n",
       "      <td>6000.0</td>\n",
       "      <td>75</td>\n",
       "    </tr>\n",
       "    <tr>\n",
       "      <th>3</th>\n",
       "      <td>2023-09-03 10:00:00</td>\n",
       "      <td>4</td>\n",
       "      <td>10.0</td>\n",
       "      <td>-70</td>\n",
       "      <td>10</td>\n",
       "      <td>1000.0</td>\n",
       "      <td>1500.0</td>\n",
       "      <td>90</td>\n",
       "    </tr>\n",
       "    <tr>\n",
       "      <th>4</th>\n",
       "      <td>2023-09-03 10:00:00</td>\n",
       "      <td>5</td>\n",
       "      <td>9.0</td>\n",
       "      <td>-78</td>\n",
       "      <td>25</td>\n",
       "      <td>2000.0</td>\n",
       "      <td>3000.0</td>\n",
       "      <td>85</td>\n",
       "    </tr>\n",
       "  </tbody>\n",
       "</table>\n",
       "</div>"
      ],
      "text/plain": [
       "            Timestamp  User_ID  Application_Type  Signal_Strength  Latency  \\\n",
       "0 2023-09-03 10:00:00        1               4.0              -75       30   \n",
       "1 2023-09-03 10:00:00        2               3.0              -80       20   \n",
       "2 2023-09-03 10:00:00        3               7.0              -85       40   \n",
       "3 2023-09-03 10:00:00        4              10.0              -70       10   \n",
       "4 2023-09-03 10:00:00        5               9.0              -78       25   \n",
       "\n",
       "   Required_Bandwidth  Allocated_Bandwidth  Resource_Allocation  \n",
       "0             10000.0              15000.0                   70  \n",
       "1               100.0                120.0                   80  \n",
       "2              5000.0               6000.0                   75  \n",
       "3              1000.0               1500.0                   90  \n",
       "4              2000.0               3000.0                   85  "
      ]
     },
     "execution_count": 17,
     "metadata": {},
     "output_type": "execute_result"
    }
   ],
   "source": [
    "df.head()"
   ]
  },
  {
   "cell_type": "code",
   "execution_count": 18,
   "id": "5981d789",
   "metadata": {
    "execution": {
     "iopub.execute_input": "2023-09-04T15:27:18.387406Z",
     "iopub.status.busy": "2023-09-04T15:27:18.386747Z",
     "iopub.status.idle": "2023-09-04T15:27:18.401401Z",
     "shell.execute_reply": "2023-09-04T15:27:18.400212Z"
    },
    "papermill": {
     "duration": 0.046846,
     "end_time": "2023-09-04T15:27:18.403980",
     "exception": false,
     "start_time": "2023-09-04T15:27:18.357134",
     "status": "completed"
    },
    "tags": []
   },
   "outputs": [
    {
     "data": {
      "text/html": [
       "<div>\n",
       "<style scoped>\n",
       "    .dataframe tbody tr th:only-of-type {\n",
       "        vertical-align: middle;\n",
       "    }\n",
       "\n",
       "    .dataframe tbody tr th {\n",
       "        vertical-align: top;\n",
       "    }\n",
       "\n",
       "    .dataframe thead th {\n",
       "        text-align: right;\n",
       "    }\n",
       "</style>\n",
       "<table border=\"1\" class=\"dataframe\">\n",
       "  <thead>\n",
       "    <tr style=\"text-align: right;\">\n",
       "      <th></th>\n",
       "      <th>Timestamp</th>\n",
       "      <th>User_ID</th>\n",
       "      <th>Application_Type</th>\n",
       "      <th>Signal_Strength</th>\n",
       "      <th>Latency</th>\n",
       "      <th>Required_Bandwidth</th>\n",
       "      <th>Allocated_Bandwidth</th>\n",
       "      <th>Resource_Allocation</th>\n",
       "    </tr>\n",
       "  </thead>\n",
       "  <tbody>\n",
       "    <tr>\n",
       "      <th>395</th>\n",
       "      <td>2023-09-03 10:06:00</td>\n",
       "      <td>396</td>\n",
       "      <td>7.0</td>\n",
       "      <td>-110</td>\n",
       "      <td>61</td>\n",
       "      <td>1300.0</td>\n",
       "      <td>1800.0</td>\n",
       "      <td>85</td>\n",
       "    </tr>\n",
       "    <tr>\n",
       "      <th>396</th>\n",
       "      <td>2023-09-03 10:06:00</td>\n",
       "      <td>397</td>\n",
       "      <td>4.0</td>\n",
       "      <td>-40</td>\n",
       "      <td>53</td>\n",
       "      <td>14500.0</td>\n",
       "      <td>15800.0</td>\n",
       "      <td>75</td>\n",
       "    </tr>\n",
       "    <tr>\n",
       "      <th>397</th>\n",
       "      <td>2023-09-03 10:06:00</td>\n",
       "      <td>398</td>\n",
       "      <td>8.0</td>\n",
       "      <td>-113</td>\n",
       "      <td>58</td>\n",
       "      <td>1000.0</td>\n",
       "      <td>1400.0</td>\n",
       "      <td>70</td>\n",
       "    </tr>\n",
       "    <tr>\n",
       "      <th>398</th>\n",
       "      <td>2023-09-03 10:06:00</td>\n",
       "      <td>399</td>\n",
       "      <td>10.0</td>\n",
       "      <td>-40</td>\n",
       "      <td>5</td>\n",
       "      <td>400.0</td>\n",
       "      <td>400.0</td>\n",
       "      <td>70</td>\n",
       "    </tr>\n",
       "    <tr>\n",
       "      <th>399</th>\n",
       "      <td>2023-09-03 10:06:00</td>\n",
       "      <td>400</td>\n",
       "      <td>1.0</td>\n",
       "      <td>-113</td>\n",
       "      <td>0</td>\n",
       "      <td>100.0</td>\n",
       "      <td>100.0</td>\n",
       "      <td>70</td>\n",
       "    </tr>\n",
       "  </tbody>\n",
       "</table>\n",
       "</div>"
      ],
      "text/plain": [
       "              Timestamp  User_ID  Application_Type  Signal_Strength  Latency  \\\n",
       "395 2023-09-03 10:06:00      396               7.0             -110       61   \n",
       "396 2023-09-03 10:06:00      397               4.0              -40       53   \n",
       "397 2023-09-03 10:06:00      398               8.0             -113       58   \n",
       "398 2023-09-03 10:06:00      399              10.0              -40        5   \n",
       "399 2023-09-03 10:06:00      400               1.0             -113        0   \n",
       "\n",
       "     Required_Bandwidth  Allocated_Bandwidth  Resource_Allocation  \n",
       "395              1300.0               1800.0                   85  \n",
       "396             14500.0              15800.0                   75  \n",
       "397              1000.0               1400.0                   70  \n",
       "398               400.0                400.0                   70  \n",
       "399               100.0                100.0                   70  "
      ]
     },
     "execution_count": 18,
     "metadata": {},
     "output_type": "execute_result"
    }
   ],
   "source": [
    "df.tail()"
   ]
  },
  {
   "cell_type": "code",
   "execution_count": 19,
   "id": "f7653aef",
   "metadata": {
    "execution": {
     "iopub.execute_input": "2023-09-04T15:27:18.463767Z",
     "iopub.status.busy": "2023-09-04T15:27:18.462952Z",
     "iopub.status.idle": "2023-09-04T15:27:18.503860Z",
     "shell.execute_reply": "2023-09-04T15:27:18.502548Z"
    },
    "papermill": {
     "duration": 0.073797,
     "end_time": "2023-09-04T15:27:18.506519",
     "exception": false,
     "start_time": "2023-09-04T15:27:18.432722",
     "status": "completed"
    },
    "tags": []
   },
   "outputs": [
    {
     "data": {
      "text/html": [
       "<div>\n",
       "<style scoped>\n",
       "    .dataframe tbody tr th:only-of-type {\n",
       "        vertical-align: middle;\n",
       "    }\n",
       "\n",
       "    .dataframe tbody tr th {\n",
       "        vertical-align: top;\n",
       "    }\n",
       "\n",
       "    .dataframe thead th {\n",
       "        text-align: right;\n",
       "    }\n",
       "</style>\n",
       "<table border=\"1\" class=\"dataframe\">\n",
       "  <thead>\n",
       "    <tr style=\"text-align: right;\">\n",
       "      <th></th>\n",
       "      <th>Timestamp</th>\n",
       "      <th>User_ID</th>\n",
       "      <th>Application_Type</th>\n",
       "      <th>Signal_Strength</th>\n",
       "      <th>Latency</th>\n",
       "      <th>Required_Bandwidth</th>\n",
       "      <th>Allocated_Bandwidth</th>\n",
       "      <th>Resource_Allocation</th>\n",
       "    </tr>\n",
       "  </thead>\n",
       "  <tbody>\n",
       "    <tr>\n",
       "      <th>count</th>\n",
       "      <td>400</td>\n",
       "      <td>400.000000</td>\n",
       "      <td>400.000000</td>\n",
       "      <td>400.000000</td>\n",
       "      <td>400.000000</td>\n",
       "      <td>400.000000</td>\n",
       "      <td>400.00000</td>\n",
       "      <td>400.000000</td>\n",
       "    </tr>\n",
       "    <tr>\n",
       "      <th>mean</th>\n",
       "      <td>2023-09-03 10:03:00</td>\n",
       "      <td>200.500000</td>\n",
       "      <td>5.605000</td>\n",
       "      <td>-80.495000</td>\n",
       "      <td>33.825000</td>\n",
       "      <td>3135.512500</td>\n",
       "      <td>3502.38000</td>\n",
       "      <td>74.712500</td>\n",
       "    </tr>\n",
       "    <tr>\n",
       "      <th>min</th>\n",
       "      <td>2023-09-03 10:00:00</td>\n",
       "      <td>1.000000</td>\n",
       "      <td>0.000000</td>\n",
       "      <td>-123.000000</td>\n",
       "      <td>0.000000</td>\n",
       "      <td>0.000000</td>\n",
       "      <td>0.00000</td>\n",
       "      <td>50.000000</td>\n",
       "    </tr>\n",
       "    <tr>\n",
       "      <th>25%</th>\n",
       "      <td>2023-09-03 10:01:00</td>\n",
       "      <td>100.750000</td>\n",
       "      <td>2.000000</td>\n",
       "      <td>-98.000000</td>\n",
       "      <td>21.750000</td>\n",
       "      <td>417.500000</td>\n",
       "      <td>417.50000</td>\n",
       "      <td>70.000000</td>\n",
       "    </tr>\n",
       "    <tr>\n",
       "      <th>50%</th>\n",
       "      <td>2023-09-03 10:03:00</td>\n",
       "      <td>200.500000</td>\n",
       "      <td>6.000000</td>\n",
       "      <td>-83.000000</td>\n",
       "      <td>31.000000</td>\n",
       "      <td>1200.000000</td>\n",
       "      <td>1350.00000</td>\n",
       "      <td>70.000000</td>\n",
       "    </tr>\n",
       "    <tr>\n",
       "      <th>75%</th>\n",
       "      <td>2023-09-03 10:05:00</td>\n",
       "      <td>300.250000</td>\n",
       "      <td>8.000000</td>\n",
       "      <td>-64.000000</td>\n",
       "      <td>45.000000</td>\n",
       "      <td>4100.000000</td>\n",
       "      <td>4425.00000</td>\n",
       "      <td>80.000000</td>\n",
       "    </tr>\n",
       "    <tr>\n",
       "      <th>max</th>\n",
       "      <td>2023-09-03 10:06:00</td>\n",
       "      <td>400.000000</td>\n",
       "      <td>10.000000</td>\n",
       "      <td>-40.000000</td>\n",
       "      <td>110.000000</td>\n",
       "      <td>14500.000000</td>\n",
       "      <td>15800.00000</td>\n",
       "      <td>90.000000</td>\n",
       "    </tr>\n",
       "    <tr>\n",
       "      <th>std</th>\n",
       "      <td>NaN</td>\n",
       "      <td>115.614301</td>\n",
       "      <td>3.156562</td>\n",
       "      <td>20.701119</td>\n",
       "      <td>21.122139</td>\n",
       "      <td>3984.096715</td>\n",
       "      <td>4460.80117</td>\n",
       "      <td>8.982291</td>\n",
       "    </tr>\n",
       "  </tbody>\n",
       "</table>\n",
       "</div>"
      ],
      "text/plain": [
       "                 Timestamp     User_ID  Application_Type  Signal_Strength  \\\n",
       "count                  400  400.000000        400.000000       400.000000   \n",
       "mean   2023-09-03 10:03:00  200.500000          5.605000       -80.495000   \n",
       "min    2023-09-03 10:00:00    1.000000          0.000000      -123.000000   \n",
       "25%    2023-09-03 10:01:00  100.750000          2.000000       -98.000000   \n",
       "50%    2023-09-03 10:03:00  200.500000          6.000000       -83.000000   \n",
       "75%    2023-09-03 10:05:00  300.250000          8.000000       -64.000000   \n",
       "max    2023-09-03 10:06:00  400.000000         10.000000       -40.000000   \n",
       "std                    NaN  115.614301          3.156562        20.701119   \n",
       "\n",
       "          Latency  Required_Bandwidth  Allocated_Bandwidth  \\\n",
       "count  400.000000          400.000000            400.00000   \n",
       "mean    33.825000         3135.512500           3502.38000   \n",
       "min      0.000000            0.000000              0.00000   \n",
       "25%     21.750000          417.500000            417.50000   \n",
       "50%     31.000000         1200.000000           1350.00000   \n",
       "75%     45.000000         4100.000000           4425.00000   \n",
       "max    110.000000        14500.000000          15800.00000   \n",
       "std     21.122139         3984.096715           4460.80117   \n",
       "\n",
       "       Resource_Allocation  \n",
       "count           400.000000  \n",
       "mean             74.712500  \n",
       "min              50.000000  \n",
       "25%              70.000000  \n",
       "50%              70.000000  \n",
       "75%              80.000000  \n",
       "max              90.000000  \n",
       "std               8.982291  "
      ]
     },
     "execution_count": 19,
     "metadata": {},
     "output_type": "execute_result"
    }
   ],
   "source": [
    "df.describe()"
   ]
  },
  {
   "cell_type": "code",
   "execution_count": 20,
   "id": "546f6651",
   "metadata": {
    "execution": {
     "iopub.execute_input": "2023-09-04T15:27:18.566194Z",
     "iopub.status.busy": "2023-09-04T15:27:18.565811Z",
     "iopub.status.idle": "2023-09-04T15:27:18.571498Z",
     "shell.execute_reply": "2023-09-04T15:27:18.570487Z"
    },
    "papermill": {
     "duration": 0.038374,
     "end_time": "2023-09-04T15:27:18.573851",
     "exception": false,
     "start_time": "2023-09-04T15:27:18.535477",
     "status": "completed"
    },
    "tags": []
   },
   "outputs": [],
   "source": [
    "# 'User_ID' having very less effect on result, so remove it\n",
    "df.drop('User_ID', axis=1, inplace=True)"
   ]
  },
  {
   "cell_type": "code",
   "execution_count": 21,
   "id": "8e123e81",
   "metadata": {
    "execution": {
     "iopub.execute_input": "2023-09-04T15:27:18.633276Z",
     "iopub.status.busy": "2023-09-04T15:27:18.632890Z",
     "iopub.status.idle": "2023-09-04T15:27:18.653156Z",
     "shell.execute_reply": "2023-09-04T15:27:18.652147Z"
    },
    "papermill": {
     "duration": 0.052633,
     "end_time": "2023-09-04T15:27:18.655240",
     "exception": false,
     "start_time": "2023-09-04T15:27:18.602607",
     "status": "completed"
    },
    "tags": []
   },
   "outputs": [
    {
     "data": {
      "text/html": [
       "<div>\n",
       "<style scoped>\n",
       "    .dataframe tbody tr th:only-of-type {\n",
       "        vertical-align: middle;\n",
       "    }\n",
       "\n",
       "    .dataframe tbody tr th {\n",
       "        vertical-align: top;\n",
       "    }\n",
       "\n",
       "    .dataframe thead th {\n",
       "        text-align: right;\n",
       "    }\n",
       "</style>\n",
       "<table border=\"1\" class=\"dataframe\">\n",
       "  <thead>\n",
       "    <tr style=\"text-align: right;\">\n",
       "      <th></th>\n",
       "      <th>Timestamp</th>\n",
       "      <th>Application_Type</th>\n",
       "      <th>Signal_Strength</th>\n",
       "      <th>Latency</th>\n",
       "      <th>Required_Bandwidth</th>\n",
       "      <th>Allocated_Bandwidth</th>\n",
       "      <th>Resource_Allocation</th>\n",
       "    </tr>\n",
       "  </thead>\n",
       "  <tbody>\n",
       "    <tr>\n",
       "      <th>0</th>\n",
       "      <td>2023-09-03 10:00:00</td>\n",
       "      <td>4.0</td>\n",
       "      <td>-75</td>\n",
       "      <td>30</td>\n",
       "      <td>10000.0</td>\n",
       "      <td>15000.0</td>\n",
       "      <td>70</td>\n",
       "    </tr>\n",
       "    <tr>\n",
       "      <th>1</th>\n",
       "      <td>2023-09-03 10:00:00</td>\n",
       "      <td>3.0</td>\n",
       "      <td>-80</td>\n",
       "      <td>20</td>\n",
       "      <td>100.0</td>\n",
       "      <td>120.0</td>\n",
       "      <td>80</td>\n",
       "    </tr>\n",
       "    <tr>\n",
       "      <th>2</th>\n",
       "      <td>2023-09-03 10:00:00</td>\n",
       "      <td>7.0</td>\n",
       "      <td>-85</td>\n",
       "      <td>40</td>\n",
       "      <td>5000.0</td>\n",
       "      <td>6000.0</td>\n",
       "      <td>75</td>\n",
       "    </tr>\n",
       "    <tr>\n",
       "      <th>3</th>\n",
       "      <td>2023-09-03 10:00:00</td>\n",
       "      <td>10.0</td>\n",
       "      <td>-70</td>\n",
       "      <td>10</td>\n",
       "      <td>1000.0</td>\n",
       "      <td>1500.0</td>\n",
       "      <td>90</td>\n",
       "    </tr>\n",
       "    <tr>\n",
       "      <th>4</th>\n",
       "      <td>2023-09-03 10:00:00</td>\n",
       "      <td>9.0</td>\n",
       "      <td>-78</td>\n",
       "      <td>25</td>\n",
       "      <td>2000.0</td>\n",
       "      <td>3000.0</td>\n",
       "      <td>85</td>\n",
       "    </tr>\n",
       "    <tr>\n",
       "      <th>...</th>\n",
       "      <td>...</td>\n",
       "      <td>...</td>\n",
       "      <td>...</td>\n",
       "      <td>...</td>\n",
       "      <td>...</td>\n",
       "      <td>...</td>\n",
       "      <td>...</td>\n",
       "    </tr>\n",
       "    <tr>\n",
       "      <th>395</th>\n",
       "      <td>2023-09-03 10:06:00</td>\n",
       "      <td>7.0</td>\n",
       "      <td>-110</td>\n",
       "      <td>61</td>\n",
       "      <td>1300.0</td>\n",
       "      <td>1800.0</td>\n",
       "      <td>85</td>\n",
       "    </tr>\n",
       "    <tr>\n",
       "      <th>396</th>\n",
       "      <td>2023-09-03 10:06:00</td>\n",
       "      <td>4.0</td>\n",
       "      <td>-40</td>\n",
       "      <td>53</td>\n",
       "      <td>14500.0</td>\n",
       "      <td>15800.0</td>\n",
       "      <td>75</td>\n",
       "    </tr>\n",
       "    <tr>\n",
       "      <th>397</th>\n",
       "      <td>2023-09-03 10:06:00</td>\n",
       "      <td>8.0</td>\n",
       "      <td>-113</td>\n",
       "      <td>58</td>\n",
       "      <td>1000.0</td>\n",
       "      <td>1400.0</td>\n",
       "      <td>70</td>\n",
       "    </tr>\n",
       "    <tr>\n",
       "      <th>398</th>\n",
       "      <td>2023-09-03 10:06:00</td>\n",
       "      <td>10.0</td>\n",
       "      <td>-40</td>\n",
       "      <td>5</td>\n",
       "      <td>400.0</td>\n",
       "      <td>400.0</td>\n",
       "      <td>70</td>\n",
       "    </tr>\n",
       "    <tr>\n",
       "      <th>399</th>\n",
       "      <td>2023-09-03 10:06:00</td>\n",
       "      <td>1.0</td>\n",
       "      <td>-113</td>\n",
       "      <td>0</td>\n",
       "      <td>100.0</td>\n",
       "      <td>100.0</td>\n",
       "      <td>70</td>\n",
       "    </tr>\n",
       "  </tbody>\n",
       "</table>\n",
       "<p>400 rows × 7 columns</p>\n",
       "</div>"
      ],
      "text/plain": [
       "              Timestamp  Application_Type  Signal_Strength  Latency  \\\n",
       "0   2023-09-03 10:00:00               4.0              -75       30   \n",
       "1   2023-09-03 10:00:00               3.0              -80       20   \n",
       "2   2023-09-03 10:00:00               7.0              -85       40   \n",
       "3   2023-09-03 10:00:00              10.0              -70       10   \n",
       "4   2023-09-03 10:00:00               9.0              -78       25   \n",
       "..                  ...               ...              ...      ...   \n",
       "395 2023-09-03 10:06:00               7.0             -110       61   \n",
       "396 2023-09-03 10:06:00               4.0              -40       53   \n",
       "397 2023-09-03 10:06:00               8.0             -113       58   \n",
       "398 2023-09-03 10:06:00              10.0              -40        5   \n",
       "399 2023-09-03 10:06:00               1.0             -113        0   \n",
       "\n",
       "     Required_Bandwidth  Allocated_Bandwidth  Resource_Allocation  \n",
       "0               10000.0              15000.0                   70  \n",
       "1                 100.0                120.0                   80  \n",
       "2                5000.0               6000.0                   75  \n",
       "3                1000.0               1500.0                   90  \n",
       "4                2000.0               3000.0                   85  \n",
       "..                  ...                  ...                  ...  \n",
       "395              1300.0               1800.0                   85  \n",
       "396             14500.0              15800.0                   75  \n",
       "397              1000.0               1400.0                   70  \n",
       "398               400.0                400.0                   70  \n",
       "399               100.0                100.0                   70  \n",
       "\n",
       "[400 rows x 7 columns]"
      ]
     },
     "execution_count": 21,
     "metadata": {},
     "output_type": "execute_result"
    }
   ],
   "source": [
    "df"
   ]
  },
  {
   "cell_type": "markdown",
   "id": "493b438e",
   "metadata": {
    "papermill": {
     "duration": 0.02878,
     "end_time": "2023-09-04T15:27:18.713049",
     "exception": false,
     "start_time": "2023-09-04T15:27:18.684269",
     "status": "completed"
    },
    "tags": []
   },
   "source": [
    "> **Data Visualization :**"
   ]
  },
  {
   "cell_type": "code",
   "execution_count": 22,
   "id": "0ceb5313",
   "metadata": {
    "execution": {
     "iopub.execute_input": "2023-09-04T15:27:18.773211Z",
     "iopub.status.busy": "2023-09-04T15:27:18.772788Z",
     "iopub.status.idle": "2023-09-04T15:27:19.116321Z",
     "shell.execute_reply": "2023-09-04T15:27:19.114975Z"
    },
    "papermill": {
     "duration": 0.376799,
     "end_time": "2023-09-04T15:27:19.118955",
     "exception": false,
     "start_time": "2023-09-04T15:27:18.742156",
     "status": "completed"
    },
    "tags": []
   },
   "outputs": [
    {
     "data": {
      "text/plain": [
       "<Axes: xlabel='Resource_Allocation', ylabel='count'>"
      ]
     },
     "execution_count": 22,
     "metadata": {},
     "output_type": "execute_result"
    },
    {
     "data": {
      "image/png": "[encoded data removed]",
      "text/plain": [
       "<Figure size 640x480 with 1 Axes>"
      ]
     },
     "metadata": {},
     "output_type": "display_data"
    }
   ],
   "source": [
    "# Find count of values in target variable\n",
    "sns.countplot(x=df['Resource_Allocation'])"
   ]
  },
  {
   "cell_type": "code",
   "execution_count": 23,
   "id": "15e1a911",
   "metadata": {
    "execution": {
     "iopub.execute_input": "2023-09-04T15:27:19.180298Z",
     "iopub.status.busy": "2023-09-04T15:27:19.179855Z",
     "iopub.status.idle": "2023-09-04T15:27:19.528065Z",
     "shell.execute_reply": "2023-09-04T15:27:19.526919Z"
    },
    "papermill": {
     "duration": 0.382002,
     "end_time": "2023-09-04T15:27:19.530426",
     "exception": false,
     "start_time": "2023-09-04T15:27:19.148424",
     "status": "completed"
    },
    "tags": []
   },
   "outputs": [
    {
     "data": {
      "text/plain": [
       "<Axes: >"
      ]
     },
     "execution_count": 23,
     "metadata": {},
     "output_type": "execute_result"
    },
    {
     "data": {
      "image/png": "[encoded data removed]",
      "text/plain": [
       "<Figure size 640x480 with 1 Axes>"
      ]
     },
     "metadata": {},
     "output_type": "display_data"
    }
   ],
   "source": [
    "# Finding Outliers\n",
    "\n",
    "sns.boxplot(data=df, orient=\"h\", palette=\"Set2\")  # Use sns.violinplot() for a violin plot\n"
   ]
  },
  {
   "cell_type": "code",
   "execution_count": 24,
   "id": "04784c14",
   "metadata": {
    "execution": {
     "iopub.execute_input": "2023-09-04T15:27:19.593721Z",
     "iopub.status.busy": "2023-09-04T15:27:19.593311Z",
     "iopub.status.idle": "2023-09-04T15:27:19.805513Z",
     "shell.execute_reply": "2023-09-04T15:27:19.804329Z"
    },
    "papermill": {
     "duration": 0.248221,
     "end_time": "2023-09-04T15:27:19.809354",
     "exception": false,
     "start_time": "2023-09-04T15:27:19.561133",
     "status": "completed"
    },
    "tags": []
   },
   "outputs": [
    {
     "data": {
      "text/plain": [
       "<Axes: >"
      ]
     },
     "execution_count": 24,
     "metadata": {},
     "output_type": "execute_result"
    },
    {
     "data": {
      "image/png": "[encoded data removed]",
      "text/plain": [
       "<Figure size 640x480 with 1 Axes>"
      ]
     },
     "metadata": {},
     "output_type": "display_data"
    }
   ],
   "source": [
    "sns.boxplot(data=df['Signal_Strength'])\n",
    "# No outtliers present"
   ]
  },
  {
   "cell_type": "code",
   "execution_count": 25,
   "id": "d45ace8f",
   "metadata": {
    "execution": {
     "iopub.execute_input": "2023-09-04T15:27:19.873907Z",
     "iopub.status.busy": "2023-09-04T15:27:19.873478Z",
     "iopub.status.idle": "2023-09-04T15:27:20.092009Z",
     "shell.execute_reply": "2023-09-04T15:27:20.090904Z"
    },
    "papermill": {
     "duration": 0.253385,
     "end_time": "2023-09-04T15:27:20.094589",
     "exception": false,
     "start_time": "2023-09-04T15:27:19.841204",
     "status": "completed"
    },
    "tags": []
   },
   "outputs": [
    {
     "data": {
      "text/plain": [
       "<Axes: >"
      ]
     },
     "execution_count": 25,
     "metadata": {},
     "output_type": "execute_result"
    },
    {
     "data": {
      "image/png": "[encoded data removed]",
      "text/plain": [
       "<Figure size 640x480 with 1 Axes>"
      ]
     },
     "metadata": {},
     "output_type": "display_data"
    }
   ],
   "source": [
    "sns.boxplot(data=df['Latency']) \n",
    "# Outliers present on positive side"
   ]
  },
  {
   "cell_type": "code",
   "execution_count": 26,
   "id": "6e6b5afa",
   "metadata": {
    "execution": {
     "iopub.execute_input": "2023-09-04T15:27:20.160744Z",
     "iopub.status.busy": "2023-09-04T15:27:20.160328Z",
     "iopub.status.idle": "2023-09-04T15:27:20.172151Z",
     "shell.execute_reply": "2023-09-04T15:27:20.171027Z"
    },
    "papermill": {
     "duration": 0.046809,
     "end_time": "2023-09-04T15:27:20.174402",
     "exception": false,
     "start_time": "2023-09-04T15:27:20.127593",
     "status": "completed"
    },
    "tags": []
   },
   "outputs": [],
   "source": [
    "# Cannot transform latency data to handle outliers=> Leads to greater number of outliers\n",
    "# So, Removing outliers from 'Latency'\n",
    "\n",
    "Q1 = np.percentile(df['Latency'], 25, method='midpoint')\n",
    "Q3 = np.percentile(df['Latency'], 75, method='midpoint')\n",
    "\n",
    "IQR = Q3-Q1\n",
    "\n",
    "upper = Q3 + 1.5*IQR\n",
    "lower = Q1 - 1.5*IQR\n",
    "\n",
    "upper_val = np.where(df['Latency'] >= upper)\n",
    "lower_val = np.where(df['Latency'] <= lower)\n",
    "\n",
    "# Removing the outliers\n",
    "df.drop(upper_val[0], inplace=True)\n",
    "df.drop(lower_val[0], inplace=True)"
   ]
  },
  {
   "cell_type": "code",
   "execution_count": 27,
   "id": "8a5c8f24",
   "metadata": {
    "execution": {
     "iopub.execute_input": "2023-09-04T15:27:20.238666Z",
     "iopub.status.busy": "2023-09-04T15:27:20.237814Z",
     "iopub.status.idle": "2023-09-04T15:27:20.474279Z",
     "shell.execute_reply": "2023-09-04T15:27:20.473092Z"
    },
    "papermill": {
     "duration": 0.271565,
     "end_time": "2023-09-04T15:27:20.476913",
     "exception": false,
     "start_time": "2023-09-04T15:27:20.205348",
     "status": "completed"
    },
    "tags": []
   },
   "outputs": [
    {
     "data": {
      "text/plain": [
       "<Axes: >"
      ]
     },
     "execution_count": 27,
     "metadata": {},
     "output_type": "execute_result"
    },
    {
     "data": {
      "image/png": "[encoded data removed]",
      "text/plain": [
       "<Figure size 640x480 with 1 Axes>"
      ]
     },
     "metadata": {},
     "output_type": "display_data"
    }
   ],
   "source": [
    "sns.boxplot(data=df['Latency']) "
   ]
  },
  {
   "cell_type": "code",
   "execution_count": 28,
   "id": "29761a7d",
   "metadata": {
    "execution": {
     "iopub.execute_input": "2023-09-04T15:27:20.541676Z",
     "iopub.status.busy": "2023-09-04T15:27:20.541236Z",
     "iopub.status.idle": "2023-09-04T15:27:20.549400Z",
     "shell.execute_reply": "2023-09-04T15:27:20.548325Z"
    },
    "papermill": {
     "duration": 0.043727,
     "end_time": "2023-09-04T15:27:20.551738",
     "exception": false,
     "start_time": "2023-09-04T15:27:20.508011",
     "status": "completed"
    },
    "tags": []
   },
   "outputs": [
    {
     "data": {
      "text/plain": [
       "(387, 7)"
      ]
     },
     "execution_count": 28,
     "metadata": {},
     "output_type": "execute_result"
    }
   ],
   "source": [
    "df.shape"
   ]
  },
  {
   "cell_type": "code",
   "execution_count": 29,
   "id": "42f9006a",
   "metadata": {
    "execution": {
     "iopub.execute_input": "2023-09-04T15:27:20.615755Z",
     "iopub.status.busy": "2023-09-04T15:27:20.615321Z",
     "iopub.status.idle": "2023-09-04T15:27:20.846593Z",
     "shell.execute_reply": "2023-09-04T15:27:20.845715Z"
    },
    "papermill": {
     "duration": 0.2661,
     "end_time": "2023-09-04T15:27:20.849117",
     "exception": false,
     "start_time": "2023-09-04T15:27:20.583017",
     "status": "completed"
    },
    "tags": []
   },
   "outputs": [
    {
     "data": {
      "text/plain": [
       "<Axes: >"
      ]
     },
     "execution_count": 29,
     "metadata": {},
     "output_type": "execute_result"
    },
    {
     "data": {
      "image/png": "[encoded data removed]",
      "text/plain": [
       "<Figure size 640x480 with 1 Axes>"
      ]
     },
     "metadata": {},
     "output_type": "display_data"
    }
   ],
   "source": [
    "sns.boxplot(data=df['Required_Bandwidth']) \n",
    "# Outliers present on positive side"
   ]
  },
  {
   "cell_type": "code",
   "execution_count": 30,
   "id": "0f5b160d",
   "metadata": {
    "execution": {
     "iopub.execute_input": "2023-09-04T15:27:20.915392Z",
     "iopub.status.busy": "2023-09-04T15:27:20.915024Z",
     "iopub.status.idle": "2023-09-04T15:27:21.145868Z",
     "shell.execute_reply": "2023-09-04T15:27:21.144743Z"
    },
    "papermill": {
     "duration": 0.266951,
     "end_time": "2023-09-04T15:27:21.148389",
     "exception": false,
     "start_time": "2023-09-04T15:27:20.881438",
     "status": "completed"
    },
    "tags": []
   },
   "outputs": [
    {
     "data": {
      "text/plain": [
       "<Axes: >"
      ]
     },
     "execution_count": 30,
     "metadata": {},
     "output_type": "execute_result"
    },
    {
     "data": {
      "image/png": "[encoded data removed]",
      "text/plain": [
       "<Figure size 640x480 with 1 Axes>"
      ]
     },
     "metadata": {},
     "output_type": "display_data"
    }
   ],
   "source": [
    "# Can handle outliers in 'Required_Bandwidth', using Transformation\n",
    "# So, use \"Square Root Transformation (np.sqrt())\"\"\n",
    "\n",
    "df['Required_Bandwidth'] = np.sqrt(df['Required_Bandwidth'])\n",
    "\n",
    "sns.boxplot(data=df['Required_Bandwidth']) "
   ]
  },
  {
   "cell_type": "code",
   "execution_count": 31,
   "id": "5135b8bd",
   "metadata": {
    "execution": {
     "iopub.execute_input": "2023-09-04T15:27:21.228325Z",
     "iopub.status.busy": "2023-09-04T15:27:21.227892Z",
     "iopub.status.idle": "2023-09-04T15:27:21.453469Z",
     "shell.execute_reply": "2023-09-04T15:27:21.452389Z"
    },
    "papermill": {
     "duration": 0.272887,
     "end_time": "2023-09-04T15:27:21.456078",
     "exception": false,
     "start_time": "2023-09-04T15:27:21.183191",
     "status": "completed"
    },
    "tags": []
   },
   "outputs": [
    {
     "data": {
      "text/plain": [
       "<Axes: >"
      ]
     },
     "execution_count": 31,
     "metadata": {},
     "output_type": "execute_result"
    },
    {
     "data": {
      "image/png": "[encoded data removed]",
      "text/plain": [
       "<Figure size 640x480 with 1 Axes>"
      ]
     },
     "metadata": {},
     "output_type": "display_data"
    }
   ],
   "source": [
    "df['Allocated_Bandwidth'] = np.sqrt(df['Allocated_Bandwidth'])\n",
    "\n",
    "sns.boxplot(data=df['Allocated_Bandwidth']) "
   ]
  },
  {
   "cell_type": "code",
   "execution_count": 32,
   "id": "1876d496",
   "metadata": {
    "execution": {
     "iopub.execute_input": "2023-09-04T15:27:21.523547Z",
     "iopub.status.busy": "2023-09-04T15:27:21.523128Z",
     "iopub.status.idle": "2023-09-04T15:27:21.843422Z",
     "shell.execute_reply": "2023-09-04T15:27:21.842157Z"
    },
    "papermill": {
     "duration": 0.356845,
     "end_time": "2023-09-04T15:27:21.846047",
     "exception": false,
     "start_time": "2023-09-04T15:27:21.489202",
     "status": "completed"
    },
    "tags": []
   },
   "outputs": [
    {
     "data": {
      "text/plain": [
       "<Axes: >"
      ]
     },
     "execution_count": 32,
     "metadata": {},
     "output_type": "execute_result"
    },
    {
     "data": {
      "image/png": "[encoded data removed]",
      "text/plain": [
       "<Figure size 640x480 with 1 Axes>"
      ]
     },
     "metadata": {},
     "output_type": "display_data"
    }
   ],
   "source": [
    "sns.boxplot(data=df) \n",
    "# Outliers removed from all the columns\n",
    "# But data is present over very wide ranges\n",
    "# So, have to normalize data to one range"
   ]
  },
  {
   "cell_type": "code",
   "execution_count": 33,
   "id": "57b5cbe0",
   "metadata": {
    "execution": {
     "iopub.execute_input": "2023-09-04T15:27:21.915013Z",
     "iopub.status.busy": "2023-09-04T15:27:21.914605Z",
     "iopub.status.idle": "2023-09-04T15:27:22.180277Z",
     "shell.execute_reply": "2023-09-04T15:27:22.179118Z"
    },
    "papermill": {
     "duration": 0.303199,
     "end_time": "2023-09-04T15:27:22.182800",
     "exception": false,
     "start_time": "2023-09-04T15:27:21.879601",
     "status": "completed"
    },
    "tags": []
   },
   "outputs": [
    {
     "data": {
      "image/png": "[encoded data removed]",
      "text/plain": [
       "<Figure size 1200x600 with 1 Axes>"
      ]
     },
     "metadata": {},
     "output_type": "display_data"
    }
   ],
   "source": [
    "# Define the min-max scaling function\n",
    "def min_max_scaling(column):\n",
    "    min_val = column.min()\n",
    "    max_val = column.max()\n",
    "    return (column - min_val) / (max_val - min_val)\n",
    "\n",
    "Transformed_df = df\n",
    "\n",
    "Transformed_df['Signal_Strength'] = min_max_scaling(df['Signal_Strength'])\n",
    "Transformed_df['Latency'] = min_max_scaling(df['Latency'])\n",
    "Transformed_df['Required_Bandwidth'] = min_max_scaling(df['Required_Bandwidth'])\n",
    "Transformed_df['Allocated_Bandwidth'] = min_max_scaling(df['Allocated_Bandwidth'])\n",
    "Transformed_df['Resource_Allocation'] = min_max_scaling(df['Resource_Allocation'])\n",
    "Transformed_df['Application_Type'] = min_max_scaling(df['Application_Type'])\n",
    "\n",
    "Transformed_df.drop('Timestamp', axis=1, inplace=True)\n",
    "\n",
    "plt.figure(figsize=(12,6))\n",
    "sns.boxplot(data=Transformed_df)\n",
    "plt.show()\n",
    "\n",
    "# Thus, all columns data now comes in same range"
   ]
  },
  {
   "cell_type": "code",
   "execution_count": 34,
   "id": "aec07d8c",
   "metadata": {
    "execution": {
     "iopub.execute_input": "2023-09-04T15:27:22.258151Z",
     "iopub.status.busy": "2023-09-04T15:27:22.257779Z",
     "iopub.status.idle": "2023-09-04T15:27:22.269088Z",
     "shell.execute_reply": "2023-09-04T15:27:22.267994Z"
    },
    "papermill": {
     "duration": 0.051213,
     "end_time": "2023-09-04T15:27:22.271561",
     "exception": false,
     "start_time": "2023-09-04T15:27:22.220348",
     "status": "completed"
    },
    "tags": []
   },
   "outputs": [
    {
     "name": "stdout",
     "output_type": "stream",
     "text": [
      "<class 'pandas.core.frame.DataFrame'>\n",
      "Index: 387 entries, 0 to 399\n",
      "Data columns (total 6 columns):\n",
      " #   Column               Non-Null Count  Dtype  \n",
      "---  ------               --------------  -----  \n",
      " 0   Application_Type     387 non-null    float64\n",
      " 1   Signal_Strength      387 non-null    float64\n",
      " 2   Latency              387 non-null    float64\n",
      " 3   Required_Bandwidth   387 non-null    float64\n",
      " 4   Allocated_Bandwidth  387 non-null    float64\n",
      " 5   Resource_Allocation  387 non-null    float64\n",
      "dtypes: float64(6)\n",
      "memory usage: 29.3 KB\n"
     ]
    }
   ],
   "source": [
    "Transformed_df.info()"
   ]
  },
  {
   "cell_type": "code",
   "execution_count": 35,
   "id": "81d2a7dc",
   "metadata": {
    "execution": {
     "iopub.execute_input": "2023-09-04T15:27:22.341041Z",
     "iopub.status.busy": "2023-09-04T15:27:22.340471Z",
     "iopub.status.idle": "2023-09-04T15:27:22.369570Z",
     "shell.execute_reply": "2023-09-04T15:27:22.368702Z"
    },
    "papermill": {
     "duration": 0.066195,
     "end_time": "2023-09-04T15:27:22.371696",
     "exception": false,
     "start_time": "2023-09-04T15:27:22.305501",
     "status": "completed"
    },
    "tags": []
   },
   "outputs": [
    {
     "data": {
      "text/html": [
       "<div>\n",
       "<style scoped>\n",
       "    .dataframe tbody tr th:only-of-type {\n",
       "        vertical-align: middle;\n",
       "    }\n",
       "\n",
       "    .dataframe tbody tr th {\n",
       "        vertical-align: top;\n",
       "    }\n",
       "\n",
       "    .dataframe thead th {\n",
       "        text-align: right;\n",
       "    }\n",
       "</style>\n",
       "<table border=\"1\" class=\"dataframe\">\n",
       "  <thead>\n",
       "    <tr style=\"text-align: right;\">\n",
       "      <th></th>\n",
       "      <th>Application_Type</th>\n",
       "      <th>Signal_Strength</th>\n",
       "      <th>Latency</th>\n",
       "      <th>Required_Bandwidth</th>\n",
       "      <th>Allocated_Bandwidth</th>\n",
       "      <th>Resource_Allocation</th>\n",
       "    </tr>\n",
       "  </thead>\n",
       "  <tbody>\n",
       "    <tr>\n",
       "      <th>count</th>\n",
       "      <td>387.000000</td>\n",
       "      <td>387.000000</td>\n",
       "      <td>387.000000</td>\n",
       "      <td>387.000000</td>\n",
       "      <td>387.000000</td>\n",
       "      <td>387.000000</td>\n",
       "    </tr>\n",
       "    <tr>\n",
       "      <th>mean</th>\n",
       "      <td>0.532587</td>\n",
       "      <td>0.520096</td>\n",
       "      <td>0.404227</td>\n",
       "      <td>0.386077</td>\n",
       "      <td>0.390511</td>\n",
       "      <td>0.567368</td>\n",
       "    </tr>\n",
       "    <tr>\n",
       "      <th>std</th>\n",
       "      <td>0.337124</td>\n",
       "      <td>0.249585</td>\n",
       "      <td>0.221440</td>\n",
       "      <td>0.273194</td>\n",
       "      <td>0.277136</td>\n",
       "      <td>0.257148</td>\n",
       "    </tr>\n",
       "    <tr>\n",
       "      <th>min</th>\n",
       "      <td>0.000000</td>\n",
       "      <td>0.000000</td>\n",
       "      <td>0.000000</td>\n",
       "      <td>0.000000</td>\n",
       "      <td>0.000000</td>\n",
       "      <td>0.000000</td>\n",
       "    </tr>\n",
       "    <tr>\n",
       "      <th>25%</th>\n",
       "      <td>0.333333</td>\n",
       "      <td>0.313253</td>\n",
       "      <td>0.269231</td>\n",
       "      <td>0.185695</td>\n",
       "      <td>0.177892</td>\n",
       "      <td>0.428571</td>\n",
       "    </tr>\n",
       "    <tr>\n",
       "      <th>50%</th>\n",
       "      <td>0.555556</td>\n",
       "      <td>0.493976</td>\n",
       "      <td>0.397436</td>\n",
       "      <td>0.310728</td>\n",
       "      <td>0.328017</td>\n",
       "      <td>0.428571</td>\n",
       "    </tr>\n",
       "    <tr>\n",
       "      <th>75%</th>\n",
       "      <td>0.777778</td>\n",
       "      <td>0.722892</td>\n",
       "      <td>0.564103</td>\n",
       "      <td>0.531751</td>\n",
       "      <td>0.536625</td>\n",
       "      <td>0.714286</td>\n",
       "    </tr>\n",
       "    <tr>\n",
       "      <th>max</th>\n",
       "      <td>1.000000</td>\n",
       "      <td>1.000000</td>\n",
       "      <td>1.000000</td>\n",
       "      <td>1.000000</td>\n",
       "      <td>1.000000</td>\n",
       "      <td>1.000000</td>\n",
       "    </tr>\n",
       "  </tbody>\n",
       "</table>\n",
       "</div>"
      ],
      "text/plain": [
       "       Application_Type  Signal_Strength     Latency  Required_Bandwidth  \\\n",
       "count        387.000000       387.000000  387.000000          387.000000   \n",
       "mean           0.532587         0.520096    0.404227            0.386077   \n",
       "std            0.337124         0.249585    0.221440            0.273194   \n",
       "min            0.000000         0.000000    0.000000            0.000000   \n",
       "25%            0.333333         0.313253    0.269231            0.185695   \n",
       "50%            0.555556         0.493976    0.397436            0.310728   \n",
       "75%            0.777778         0.722892    0.564103            0.531751   \n",
       "max            1.000000         1.000000    1.000000            1.000000   \n",
       "\n",
       "       Allocated_Bandwidth  Resource_Allocation  \n",
       "count           387.000000           387.000000  \n",
       "mean              0.390511             0.567368  \n",
       "std               0.277136             0.257148  \n",
       "min               0.000000             0.000000  \n",
       "25%               0.177892             0.428571  \n",
       "50%               0.328017             0.428571  \n",
       "75%               0.536625             0.714286  \n",
       "max               1.000000             1.000000  "
      ]
     },
     "execution_count": 35,
     "metadata": {},
     "output_type": "execute_result"
    }
   ],
   "source": [
    "Transformed_df.describe()"
   ]
  },
  {
   "cell_type": "markdown",
   "id": "6a0bf767",
   "metadata": {
    "papermill": {
     "duration": 0.034008,
     "end_time": "2023-09-04T15:27:22.440044",
     "exception": false,
     "start_time": "2023-09-04T15:27:22.406036",
     "status": "completed"
    },
    "tags": []
   },
   "source": [
    "> **Split the DataFrame :**"
   ]
  },
  {
   "cell_type": "code",
   "execution_count": 36,
   "id": "e353e3ae",
   "metadata": {
    "execution": {
     "iopub.execute_input": "2023-09-04T15:27:22.509862Z",
     "iopub.status.busy": "2023-09-04T15:27:22.509422Z",
     "iopub.status.idle": "2023-09-04T15:27:22.514894Z",
     "shell.execute_reply": "2023-09-04T15:27:22.514093Z"
    },
    "papermill": {
     "duration": 0.042948,
     "end_time": "2023-09-04T15:27:22.516991",
     "exception": false,
     "start_time": "2023-09-04T15:27:22.474043",
     "status": "completed"
    },
    "tags": []
   },
   "outputs": [],
   "source": [
    "X = Transformed_df.drop('Resource_Allocation', axis=1)\n",
    "Y = Transformed_df['Resource_Allocation']"
   ]
  },
  {
   "cell_type": "code",
   "execution_count": 37,
   "id": "0b70646a",
   "metadata": {
    "execution": {
     "iopub.execute_input": "2023-09-04T15:27:22.589114Z",
     "iopub.status.busy": "2023-09-04T15:27:22.588417Z",
     "iopub.status.idle": "2023-09-04T15:27:22.674627Z",
     "shell.execute_reply": "2023-09-04T15:27:22.673606Z"
    },
    "papermill": {
     "duration": 0.12493,
     "end_time": "2023-09-04T15:27:22.677354",
     "exception": false,
     "start_time": "2023-09-04T15:27:22.552424",
     "status": "completed"
    },
    "tags": []
   },
   "outputs": [],
   "source": [
    "from sklearn.model_selection import train_test_split\n",
    "\n",
    "x_train,x_test,y_train,y_test = train_test_split(X, Y, test_size=0.20, random_state=42)"
   ]
  },
  {
   "cell_type": "code",
   "execution_count": 38,
   "id": "33a53dab",
   "metadata": {
    "execution": {
     "iopub.execute_input": "2023-09-04T15:27:22.747716Z",
     "iopub.status.busy": "2023-09-04T15:27:22.747301Z",
     "iopub.status.idle": "2023-09-04T15:27:22.755096Z",
     "shell.execute_reply": "2023-09-04T15:27:22.754026Z"
    },
    "papermill": {
     "duration": 0.045374,
     "end_time": "2023-09-04T15:27:22.757132",
     "exception": false,
     "start_time": "2023-09-04T15:27:22.711758",
     "status": "completed"
    },
    "tags": []
   },
   "outputs": [
    {
     "data": {
      "text/plain": [
       "((309, 5), (78, 5), (309,), (78,))"
      ]
     },
     "execution_count": 38,
     "metadata": {},
     "output_type": "execute_result"
    }
   ],
   "source": [
    "x_train.shape,x_test.shape,y_train.shape,y_test.shape"
   ]
  },
  {
   "cell_type": "markdown",
   "id": "99dd0c2e",
   "metadata": {
    "papermill": {
     "duration": 0.034739,
     "end_time": "2023-09-04T15:27:22.826489",
     "exception": false,
     "start_time": "2023-09-04T15:27:22.791750",
     "status": "completed"
    },
    "tags": []
   },
   "source": [
    "# **Linear Regression Model :**"
   ]
  },
  {
   "cell_type": "markdown",
   "id": "a298d2dc",
   "metadata": {
    "papermill": {
     "duration": 0.033873,
     "end_time": "2023-09-04T15:27:22.894524",
     "exception": false,
     "start_time": "2023-09-04T15:27:22.860651",
     "status": "completed"
    },
    "tags": []
   },
   "source": [
    "> **Create and Train the Model :**"
   ]
  },
  {
   "cell_type": "code",
   "execution_count": 39,
   "id": "7e7d2094",
   "metadata": {
    "execution": {
     "iopub.execute_input": "2023-09-04T15:27:22.964861Z",
     "iopub.status.busy": "2023-09-04T15:27:22.963758Z",
     "iopub.status.idle": "2023-09-04T15:27:23.048037Z",
     "shell.execute_reply": "2023-09-04T15:27:23.047032Z"
    },
    "papermill": {
     "duration": 0.12239,
     "end_time": "2023-09-04T15:27:23.050674",
     "exception": false,
     "start_time": "2023-09-04T15:27:22.928284",
     "status": "completed"
    },
    "tags": []
   },
   "outputs": [],
   "source": [
    "from sklearn.linear_model import LinearRegression"
   ]
  },
  {
   "cell_type": "code",
   "execution_count": 40,
   "id": "0640c8c5",
   "metadata": {
    "execution": {
     "iopub.execute_input": "2023-09-04T15:27:23.123374Z",
     "iopub.status.busy": "2023-09-04T15:27:23.122984Z",
     "iopub.status.idle": "2023-09-04T15:27:23.156152Z",
     "shell.execute_reply": "2023-09-04T15:27:23.154653Z"
    },
    "papermill": {
     "duration": 0.072854,
     "end_time": "2023-09-04T15:27:23.158733",
     "exception": false,
     "start_time": "2023-09-04T15:27:23.085879",
     "status": "completed"
    },
    "tags": []
   },
   "outputs": [
    {
     "data": {
      "text/html": [
       "<style>#sk-container-id-1 {color: black;background-color: white;}#sk-container-id-1 pre{padding: 0;}#sk-container-id-1 div.sk-toggleable {background-color: white;}#sk-container-id-1 label.sk-toggleable__label {cursor: pointer;display: block;width: 100%;margin-bottom: 0;padding: 0.3em;box-sizing: border-box;text-align: center;}#sk-container-id-1 label.sk-toggleable__label-arrow:before {content: \"▸\";float: left;margin-right: 0.25em;color: #696969;}#sk-container-id-1 label.sk-toggleable__label-arrow:hover:before {color: black;}#sk-container-id-1 div.sk-estimator:hover label.sk-toggleable__label-arrow:before {color: black;}#sk-container-id-1 div.sk-toggleable__content {max-height: 0;max-width: 0;overflow: hidden;text-align: left;background-color: #f0f8ff;}#sk-container-id-1 div.sk-toggleable__content pre {margin: 0.2em;color: black;border-radius: 0.25em;background-color: #f0f8ff;}#sk-container-id-1 input.sk-toggleable__control:checked~div.sk-toggleable__content {max-height: 200px;max-width: 100%;overflow: auto;}#sk-container-id-1 input.sk-toggleable__control:checked~label.sk-toggleable__label-arrow:before {content: \"▾\";}#sk-container-id-1 div.sk-estimator input.sk-toggleable__control:checked~label.sk-toggleable__label {background-color: #d4ebff;}#sk-container-id-1 div.sk-label input.sk-toggleable__control:checked~label.sk-toggleable__label {background-color: #d4ebff;}#sk-container-id-1 input.sk-hidden--visually {border: 0;clip: rect(1px 1px 1px 1px);clip: rect(1px, 1px, 1px, 1px);height: 1px;margin: -1px;overflow: hidden;padding: 0;position: absolute;width: 1px;}#sk-container-id-1 div.sk-estimator {font-family: monospace;background-color: #f0f8ff;border: 1px dotted black;border-radius: 0.25em;box-sizing: border-box;margin-bottom: 0.5em;}#sk-container-id-1 div.sk-estimator:hover {background-color: #d4ebff;}#sk-container-id-1 div.sk-parallel-item::after {content: \"\";width: 100%;border-bottom: 1px solid gray;flex-grow: 1;}#sk-container-id-1 div.sk-label:hover label.sk-toggleable__label {background-color: #d4ebff;}#sk-container-id-1 div.sk-serial::before {content: \"\";position: absolute;border-left: 1px solid gray;box-sizing: border-box;top: 0;bottom: 0;left: 50%;z-index: 0;}#sk-container-id-1 div.sk-serial {display: flex;flex-direction: column;align-items: center;background-color: white;padding-right: 0.2em;padding-left: 0.2em;position: relative;}#sk-container-id-1 div.sk-item {position: relative;z-index: 1;}#sk-container-id-1 div.sk-parallel {display: flex;align-items: stretch;justify-content: center;background-color: white;position: relative;}#sk-container-id-1 div.sk-item::before, #sk-container-id-1 div.sk-parallel-item::before {content: \"\";position: absolute;border-left: 1px solid gray;box-sizing: border-box;top: 0;bottom: 0;left: 50%;z-index: -1;}#sk-container-id-1 div.sk-parallel-item {display: flex;flex-direction: column;z-index: 1;position: relative;background-color: white;}#sk-container-id-1 div.sk-parallel-item:first-child::after {align-self: flex-end;width: 50%;}#sk-container-id-1 div.sk-parallel-item:last-child::after {align-self: flex-start;width: 50%;}#sk-container-id-1 div.sk-parallel-item:only-child::after {width: 0;}#sk-container-id-1 div.sk-dashed-wrapped {border: 1px dashed gray;margin: 0 0.4em 0.5em 0.4em;box-sizing: border-box;padding-bottom: 0.4em;background-color: white;}#sk-container-id-1 div.sk-label label {font-family: monospace;font-weight: bold;display: inline-block;line-height: 1.2em;}#sk-container-id-1 div.sk-label-container {text-align: center;}#sk-container-id-1 div.sk-container {/* jupyter's `normalize.less` sets `[hidden] { display: none; }` but bootstrap.min.css set `[hidden] { display: none !important; }` so we also need the `!important` here to be able to override the default hidden behavior on the sphinx rendered scikit-learn.org. See: https://github.com/scikit-learn/scikit-learn/issues/21755 */display: inline-block !important;position: relative;}#sk-container-id-1 div.sk-text-repr-fallback {display: none;}</style><div id=\"sk-container-id-1\" class=\"sk-top-container\"><div class=\"sk-text-repr-fallback\"><pre>LinearRegression()</pre><b>In a Jupyter environment, please rerun this cell to show the HTML representation or trust the notebook. <br />On GitHub, the HTML representation is unable to render, please try loading this page with nbviewer.org.</b></div><div class=\"sk-container\" hidden><div class=\"sk-item\"><div class=\"sk-estimator sk-toggleable\"><input class=\"sk-toggleable__control sk-hidden--visually\" id=\"sk-estimator-id-1\" type=\"checkbox\" checked><label for=\"sk-estimator-id-1\" class=\"sk-toggleable__label sk-toggleable__label-arrow\">LinearRegression</label><div class=\"sk-toggleable__content\"><pre>LinearRegression()</pre></div></div></div></div></div>"
      ],
      "text/plain": [
       "LinearRegression()"
      ]
     },
     "execution_count": 40,
     "metadata": {},
     "output_type": "execute_result"
    }
   ],
   "source": [
    "lin_regressor = LinearRegression()\n",
    "lin_regressor.fit(x_train,y_train)"
   ]
  },
  {
   "cell_type": "markdown",
   "id": "09aeaf82",
   "metadata": {
    "papermill": {
     "duration": 0.035225,
     "end_time": "2023-09-04T15:27:23.229139",
     "exception": false,
     "start_time": "2023-09-04T15:27:23.193914",
     "status": "completed"
    },
    "tags": []
   },
   "source": [
    "> **Predict Test Set Results :**"
   ]
  },
  {
   "cell_type": "code",
   "execution_count": 41,
   "id": "af429c4b",
   "metadata": {
    "execution": {
     "iopub.execute_input": "2023-09-04T15:27:23.302177Z",
     "iopub.status.busy": "2023-09-04T15:27:23.301111Z",
     "iopub.status.idle": "2023-09-04T15:27:23.308122Z",
     "shell.execute_reply": "2023-09-04T15:27:23.307358Z"
    },
    "papermill": {
     "duration": 0.045443,
     "end_time": "2023-09-04T15:27:23.310248",
     "exception": false,
     "start_time": "2023-09-04T15:27:23.264805",
     "status": "completed"
    },
    "tags": []
   },
   "outputs": [],
   "source": [
    "lin_regressor_y_pred = lin_regressor.predict(x_test)"
   ]
  },
  {
   "cell_type": "markdown",
   "id": "ea3ab59b",
   "metadata": {
    "papermill": {
     "duration": 0.034108,
     "end_time": "2023-09-04T15:27:23.379454",
     "exception": false,
     "start_time": "2023-09-04T15:27:23.345346",
     "status": "completed"
    },
    "tags": []
   },
   "source": [
    "> **Evaluation of Model Performance :**"
   ]
  },
  {
   "cell_type": "code",
   "execution_count": 42,
   "id": "f1800794",
   "metadata": {
    "execution": {
     "iopub.execute_input": "2023-09-04T15:27:23.451936Z",
     "iopub.status.busy": "2023-09-04T15:27:23.451041Z",
     "iopub.status.idle": "2023-09-04T15:27:23.455820Z",
     "shell.execute_reply": "2023-09-04T15:27:23.454971Z"
    },
    "papermill": {
     "duration": 0.043549,
     "end_time": "2023-09-04T15:27:23.457927",
     "exception": false,
     "start_time": "2023-09-04T15:27:23.414378",
     "status": "completed"
    },
    "tags": []
   },
   "outputs": [],
   "source": [
    "from sklearn.metrics import r2_score, mean_squared_error"
   ]
  },
  {
   "cell_type": "code",
   "execution_count": 43,
   "id": "509f96a7",
   "metadata": {
    "execution": {
     "iopub.execute_input": "2023-09-04T15:27:23.530688Z",
     "iopub.status.busy": "2023-09-04T15:27:23.529625Z",
     "iopub.status.idle": "2023-09-04T15:27:23.538945Z",
     "shell.execute_reply": "2023-09-04T15:27:23.537903Z"
    },
    "papermill": {
     "duration": 0.047898,
     "end_time": "2023-09-04T15:27:23.541078",
     "exception": false,
     "start_time": "2023-09-04T15:27:23.493180",
     "status": "completed"
    },
    "tags": []
   },
   "outputs": [
    {
     "data": {
      "text/plain": [
       "-0.048720141610214984"
      ]
     },
     "execution_count": 43,
     "metadata": {},
     "output_type": "execute_result"
    }
   ],
   "source": [
    "lin_regressor_r2 = r2_score(y_test, lin_regressor_y_pred)\n",
    "lin_regressor_r2"
   ]
  },
  {
   "cell_type": "code",
   "execution_count": 44,
   "id": "9475ce8c",
   "metadata": {
    "execution": {
     "iopub.execute_input": "2023-09-04T15:27:23.613083Z",
     "iopub.status.busy": "2023-09-04T15:27:23.612120Z",
     "iopub.status.idle": "2023-09-04T15:27:23.619814Z",
     "shell.execute_reply": "2023-09-04T15:27:23.618769Z"
    },
    "papermill": {
     "duration": 0.046096,
     "end_time": "2023-09-04T15:27:23.621914",
     "exception": false,
     "start_time": "2023-09-04T15:27:23.575818",
     "status": "completed"
    },
    "tags": []
   },
   "outputs": [
    {
     "data": {
      "text/plain": [
       "0.07650919226033008"
      ]
     },
     "execution_count": 44,
     "metadata": {},
     "output_type": "execute_result"
    }
   ],
   "source": [
    "lin_regressor_mse = mean_squared_error(y_test, lin_regressor_y_pred)\n",
    "lin_regressor_mse"
   ]
  },
  {
   "cell_type": "code",
   "execution_count": 45,
   "id": "2a151cd8",
   "metadata": {
    "execution": {
     "iopub.execute_input": "2023-09-04T15:27:23.693602Z",
     "iopub.status.busy": "2023-09-04T15:27:23.692993Z",
     "iopub.status.idle": "2023-09-04T15:27:23.700132Z",
     "shell.execute_reply": "2023-09-04T15:27:23.698788Z"
    },
    "papermill": {
     "duration": 0.045856,
     "end_time": "2023-09-04T15:27:23.702517",
     "exception": false,
     "start_time": "2023-09-04T15:27:23.656661",
     "status": "completed"
    },
    "tags": []
   },
   "outputs": [
    {
     "data": {
      "text/plain": [
       "0.2766029505633121"
      ]
     },
     "execution_count": 45,
     "metadata": {},
     "output_type": "execute_result"
    }
   ],
   "source": [
    "lin_regressor_rmse = np.sqrt(lin_regressor_mse)\n",
    "lin_regressor_rmse"
   ]
  },
  {
   "cell_type": "markdown",
   "id": "317da86f",
   "metadata": {
    "papermill": {
     "duration": 0.034735,
     "end_time": "2023-09-04T15:27:23.772283",
     "exception": false,
     "start_time": "2023-09-04T15:27:23.737548",
     "status": "completed"
    },
    "tags": []
   },
   "source": [
    "> **Visualize the Results of the Prediction :**"
   ]
  },
  {
   "cell_type": "code",
   "execution_count": 46,
   "id": "cb274afd",
   "metadata": {
    "execution": {
     "iopub.execute_input": "2023-09-04T15:27:23.844452Z",
     "iopub.status.busy": "2023-09-04T15:27:23.844045Z",
     "iopub.status.idle": "2023-09-04T15:27:24.151737Z",
     "shell.execute_reply": "2023-09-04T15:27:24.150382Z"
    },
    "papermill": {
     "duration": 0.347001,
     "end_time": "2023-09-04T15:27:24.154244",
     "exception": false,
     "start_time": "2023-09-04T15:27:23.807243",
     "status": "completed"
    },
    "tags": []
   },
   "outputs": [
    {
     "data": {
      "image/png": "[encoded data removed]",
      "text/plain": [
       "<Figure size 640x480 with 1 Axes>"
      ]
     },
     "metadata": {},
     "output_type": "display_data"
    }
   ],
   "source": [
    "plt.scatter(y_test, lin_regressor_y_pred)\n",
    "plt.show()"
   ]
  },
  {
   "cell_type": "code",
   "execution_count": 47,
   "id": "57ad3316",
   "metadata": {
    "execution": {
     "iopub.execute_input": "2023-09-04T15:27:24.226924Z",
     "iopub.status.busy": "2023-09-04T15:27:24.226501Z",
     "iopub.status.idle": "2023-09-04T15:27:26.124981Z",
     "shell.execute_reply": "2023-09-04T15:27:26.123810Z"
    },
    "papermill": {
     "duration": 1.937806,
     "end_time": "2023-09-04T15:27:26.127723",
     "exception": false,
     "start_time": "2023-09-04T15:27:24.189917",
     "status": "completed"
    },
    "tags": []
   },
   "outputs": [
    {
     "name": "stderr",
     "output_type": "stream",
     "text": [
      "/opt/conda/lib/python3.10/site-packages/seaborn/axisgrid.py:118: UserWarning: The figure layout has changed to tight\n",
      "  self._figure.tight_layout(*args, **kwargs)\n",
      "/opt/conda/lib/python3.10/site-packages/seaborn/axisgrid.py:118: UserWarning: The figure layout has changed to tight\n",
      "  self._figure.tight_layout(*args, **kwargs)\n",
      "/opt/conda/lib/python3.10/site-packages/seaborn/axisgrid.py:118: UserWarning: The figure layout has changed to tight\n",
      "  self._figure.tight_layout(*args, **kwargs)\n",
      "/opt/conda/lib/python3.10/site-packages/seaborn/axisgrid.py:118: UserWarning: The figure layout has changed to tight\n",
      "  self._figure.tight_layout(*args, **kwargs)\n"
     ]
    },
    {
     "data": {
      "image/png": "[encoded data removed]",
      "text/plain": [
       "<Figure size 500x500 with 1 Axes>"
      ]
     },
     "metadata": {},
     "output_type": "display_data"
    },
    {
     "data": {
      "image/png": "[encoded data removed]",
      "text/plain": [
       "<Figure size 500x500 with 1 Axes>"
      ]
     },
     "metadata": {},
     "output_type": "display_data"
    },
    {
     "data": {
      "image/png": "[encoded data removed]",
      "text/plain": [
       "<Figure size 500x500 with 1 Axes>"
      ]
     },
     "metadata": {},
     "output_type": "display_data"
    },
    {
     "data": {
      "image/png": "[encoded data removed]",
      "text/plain": [
       "<Figure size 500x500 with 1 Axes>"
      ]
     },
     "metadata": {},
     "output_type": "display_data"
    }
   ],
   "source": [
    "# Scatter Plots of each feature vs predicted value with regression line\n",
    "\n",
    "lin_regressor_plot = x_test\n",
    "lin_regressor_plot['Y_Predicted'] = lin_regressor_y_pred\n",
    "\n",
    "sns.lmplot(x='Signal_Strength', y='Y_Predicted', data=lin_regressor_plot)\n",
    "\n",
    "sns.lmplot(x='Latency', y='Y_Predicted', data=lin_regressor_plot)\n",
    "\n",
    "sns.lmplot(x='Required_Bandwidth', y='Y_Predicted', data=lin_regressor_plot)\n",
    "\n",
    "sns.lmplot(x='Allocated_Bandwidth', y='Y_Predicted', data=lin_regressor_plot)\n",
    "\n",
    "plt.show()"
   ]
  },
  {
   "cell_type": "code",
   "execution_count": null,
   "id": "3917642f",
   "metadata": {
    "papermill": {
     "duration": 0.038782,
     "end_time": "2023-09-04T15:27:26.205629",
     "exception": false,
     "start_time": "2023-09-04T15:27:26.166847",
     "status": "completed"
    },
    "tags": []
   },
   "outputs": [],
   "source": []
  },
  {
   "cell_type": "markdown",
   "id": "94eaa4f5",
   "metadata": {
    "papermill": {
     "duration": 0.038253,
     "end_time": "2023-09-04T15:27:26.282783",
     "exception": false,
     "start_time": "2023-09-04T15:27:26.244530",
     "status": "completed"
    },
    "tags": []
   },
   "source": [
    "# **SVM Regression Model :**"
   ]
  },
  {
   "cell_type": "markdown",
   "id": "eb685e74",
   "metadata": {
    "papermill": {
     "duration": 0.037974,
     "end_time": "2023-09-04T15:27:26.358973",
     "exception": false,
     "start_time": "2023-09-04T15:27:26.320999",
     "status": "completed"
    },
    "tags": []
   },
   "source": [
    "> **Create and Train the Model :**"
   ]
  },
  {
   "cell_type": "code",
   "execution_count": 48,
   "id": "d12c5ad8",
   "metadata": {
    "execution": {
     "iopub.execute_input": "2023-09-04T15:27:26.437876Z",
     "iopub.status.busy": "2023-09-04T15:27:26.437451Z",
     "iopub.status.idle": "2023-09-04T15:27:26.442743Z",
     "shell.execute_reply": "2023-09-04T15:27:26.441575Z"
    },
    "papermill": {
     "duration": 0.047636,
     "end_time": "2023-09-04T15:27:26.445119",
     "exception": false,
     "start_time": "2023-09-04T15:27:26.397483",
     "status": "completed"
    },
    "tags": []
   },
   "outputs": [],
   "source": [
    "from sklearn.svm import SVR"
   ]
  },
  {
   "cell_type": "code",
   "execution_count": 49,
   "id": "c3e4f752",
   "metadata": {
    "execution": {
     "iopub.execute_input": "2023-09-04T15:27:26.525686Z",
     "iopub.status.busy": "2023-09-04T15:27:26.525253Z",
     "iopub.status.idle": "2023-09-04T15:27:26.585879Z",
     "shell.execute_reply": "2023-09-04T15:27:26.584643Z"
    },
    "papermill": {
     "duration": 0.10358,
     "end_time": "2023-09-04T15:27:26.588393",
     "exception": false,
     "start_time": "2023-09-04T15:27:26.484813",
     "status": "completed"
    },
    "tags": []
   },
   "outputs": [
    {
     "data": {
      "text/html": [
       "<style>#sk-container-id-2 {color: black;background-color: white;}#sk-container-id-2 pre{padding: 0;}#sk-container-id-2 div.sk-toggleable {background-color: white;}#sk-container-id-2 label.sk-toggleable__label {cursor: pointer;display: block;width: 100%;margin-bottom: 0;padding: 0.3em;box-sizing: border-box;text-align: center;}#sk-container-id-2 label.sk-toggleable__label-arrow:before {content: \"▸\";float: left;margin-right: 0.25em;color: #696969;}#sk-container-id-2 label.sk-toggleable__label-arrow:hover:before {color: black;}#sk-container-id-2 div.sk-estimator:hover label.sk-toggleable__label-arrow:before {color: black;}#sk-container-id-2 div.sk-toggleable__content {max-height: 0;max-width: 0;overflow: hidden;text-align: left;background-color: #f0f8ff;}#sk-container-id-2 div.sk-toggleable__content pre {margin: 0.2em;color: black;border-radius: 0.25em;background-color: #f0f8ff;}#sk-container-id-2 input.sk-toggleable__control:checked~div.sk-toggleable__content {max-height: 200px;max-width: 100%;overflow: auto;}#sk-container-id-2 input.sk-toggleable__control:checked~label.sk-toggleable__label-arrow:before {content: \"▾\";}#sk-container-id-2 div.sk-estimator input.sk-toggleable__control:checked~label.sk-toggleable__label {background-color: #d4ebff;}#sk-container-id-2 div.sk-label input.sk-toggleable__control:checked~label.sk-toggleable__label {background-color: #d4ebff;}#sk-container-id-2 input.sk-hidden--visually {border: 0;clip: rect(1px 1px 1px 1px);clip: rect(1px, 1px, 1px, 1px);height: 1px;margin: -1px;overflow: hidden;padding: 0;position: absolute;width: 1px;}#sk-container-id-2 div.sk-estimator {font-family: monospace;background-color: #f0f8ff;border: 1px dotted black;border-radius: 0.25em;box-sizing: border-box;margin-bottom: 0.5em;}#sk-container-id-2 div.sk-estimator:hover {background-color: #d4ebff;}#sk-container-id-2 div.sk-parallel-item::after {content: \"\";width: 100%;border-bottom: 1px solid gray;flex-grow: 1;}#sk-container-id-2 div.sk-label:hover label.sk-toggleable__label {background-color: #d4ebff;}#sk-container-id-2 div.sk-serial::before {content: \"\";position: absolute;border-left: 1px solid gray;box-sizing: border-box;top: 0;bottom: 0;left: 50%;z-index: 0;}#sk-container-id-2 div.sk-serial {display: flex;flex-direction: column;align-items: center;background-color: white;padding-right: 0.2em;padding-left: 0.2em;position: relative;}#sk-container-id-2 div.sk-item {position: relative;z-index: 1;}#sk-container-id-2 div.sk-parallel {display: flex;align-items: stretch;justify-content: center;background-color: white;position: relative;}#sk-container-id-2 div.sk-item::before, #sk-container-id-2 div.sk-parallel-item::before {content: \"\";position: absolute;border-left: 1px solid gray;box-sizing: border-box;top: 0;bottom: 0;left: 50%;z-index: -1;}#sk-container-id-2 div.sk-parallel-item {display: flex;flex-direction: column;z-index: 1;position: relative;background-color: white;}#sk-container-id-2 div.sk-parallel-item:first-child::after {align-self: flex-end;width: 50%;}#sk-container-id-2 div.sk-parallel-item:last-child::after {align-self: flex-start;width: 50%;}#sk-container-id-2 div.sk-parallel-item:only-child::after {width: 0;}#sk-container-id-2 div.sk-dashed-wrapped {border: 1px dashed gray;margin: 0 0.4em 0.5em 0.4em;box-sizing: border-box;padding-bottom: 0.4em;background-color: white;}#sk-container-id-2 div.sk-label label {font-family: monospace;font-weight: bold;display: inline-block;line-height: 1.2em;}#sk-container-id-2 div.sk-label-container {text-align: center;}#sk-container-id-2 div.sk-container {/* jupyter's `normalize.less` sets `[hidden] { display: none; }` but bootstrap.min.css set `[hidden] { display: none !important; }` so we also need the `!important` here to be able to override the default hidden behavior on the sphinx rendered scikit-learn.org. See: https://github.com/scikit-learn/scikit-learn/issues/21755 */display: inline-block !important;position: relative;}#sk-container-id-2 div.sk-text-repr-fallback {display: none;}</style><div id=\"sk-container-id-2\" class=\"sk-top-container\"><div class=\"sk-text-repr-fallback\"><pre>SVR(kernel=&#x27;poly&#x27;)</pre><b>In a Jupyter environment, please rerun this cell to show the HTML representation or trust the notebook. <br />On GitHub, the HTML representation is unable to render, please try loading this page with nbviewer.org.</b></div><div class=\"sk-container\" hidden><div class=\"sk-item\"><div class=\"sk-estimator sk-toggleable\"><input class=\"sk-toggleable__control sk-hidden--visually\" id=\"sk-estimator-id-2\" type=\"checkbox\" checked><label for=\"sk-estimator-id-2\" class=\"sk-toggleable__label sk-toggleable__label-arrow\">SVR</label><div class=\"sk-toggleable__content\"><pre>SVR(kernel=&#x27;poly&#x27;)</pre></div></div></div></div></div>"
      ],
      "text/plain": [
       "SVR(kernel='poly')"
      ]
     },
     "execution_count": 49,
     "metadata": {},
     "output_type": "execute_result"
    }
   ],
   "source": [
    "svr = SVR(kernel='poly')\n",
    "svr.fit(x_train, y_train)"
   ]
  },
  {
   "cell_type": "markdown",
   "id": "98e9b9e4",
   "metadata": {
    "papermill": {
     "duration": 0.038373,
     "end_time": "2023-09-04T15:27:26.665412",
     "exception": false,
     "start_time": "2023-09-04T15:27:26.627039",
     "status": "completed"
    },
    "tags": []
   },
   "source": [
    "> **Predict Test Set Results :**"
   ]
  },
  {
   "cell_type": "code",
   "execution_count": 50,
   "id": "423e4537",
   "metadata": {
    "execution": {
     "iopub.execute_input": "2023-09-04T15:27:26.744132Z",
     "iopub.status.busy": "2023-09-04T15:27:26.743690Z",
     "iopub.status.idle": "2023-09-04T15:27:26.749901Z",
     "shell.execute_reply": "2023-09-04T15:27:26.748878Z"
    },
    "papermill": {
     "duration": 0.04832,
     "end_time": "2023-09-04T15:27:26.752215",
     "exception": false,
     "start_time": "2023-09-04T15:27:26.703895",
     "status": "completed"
    },
    "tags": []
   },
   "outputs": [],
   "source": [
    "x_test.drop('Y_Predicted', axis=1, inplace=True)"
   ]
  },
  {
   "cell_type": "code",
   "execution_count": 51,
   "id": "39285d33",
   "metadata": {
    "execution": {
     "iopub.execute_input": "2023-09-04T15:27:26.833310Z",
     "iopub.status.busy": "2023-09-04T15:27:26.832702Z",
     "iopub.status.idle": "2023-09-04T15:27:26.839072Z",
     "shell.execute_reply": "2023-09-04T15:27:26.838195Z"
    },
    "papermill": {
     "duration": 0.049952,
     "end_time": "2023-09-04T15:27:26.841392",
     "exception": false,
     "start_time": "2023-09-04T15:27:26.791440",
     "status": "completed"
    },
    "tags": []
   },
   "outputs": [],
   "source": [
    "svr_y_pred = svr.predict(x_test)"
   ]
  },
  {
   "cell_type": "markdown",
   "id": "6b97c507",
   "metadata": {
    "papermill": {
     "duration": 0.039531,
     "end_time": "2023-09-04T15:27:26.921550",
     "exception": false,
     "start_time": "2023-09-04T15:27:26.882019",
     "status": "completed"
    },
    "tags": []
   },
   "source": [
    "> **Evaluation of Model Performance :**"
   ]
  },
  {
   "cell_type": "code",
   "execution_count": 52,
   "id": "f16ee680",
   "metadata": {
    "execution": {
     "iopub.execute_input": "2023-09-04T15:27:27.001344Z",
     "iopub.status.busy": "2023-09-04T15:27:27.000704Z",
     "iopub.status.idle": "2023-09-04T15:27:27.007487Z",
     "shell.execute_reply": "2023-09-04T15:27:27.006705Z"
    },
    "papermill": {
     "duration": 0.049497,
     "end_time": "2023-09-04T15:27:27.009791",
     "exception": false,
     "start_time": "2023-09-04T15:27:26.960294",
     "status": "completed"
    },
    "tags": []
   },
   "outputs": [
    {
     "data": {
      "text/plain": [
       "0.5166550618405741"
      ]
     },
     "execution_count": 52,
     "metadata": {},
     "output_type": "execute_result"
    }
   ],
   "source": [
    "svr_r2 = r2_score(y_test, svr_y_pred)\n",
    "svr_r2"
   ]
  },
  {
   "cell_type": "code",
   "execution_count": 53,
   "id": "441d7def",
   "metadata": {
    "execution": {
     "iopub.execute_input": "2023-09-04T15:27:27.091526Z",
     "iopub.status.busy": "2023-09-04T15:27:27.090901Z",
     "iopub.status.idle": "2023-09-04T15:27:27.097491Z",
     "shell.execute_reply": "2023-09-04T15:27:27.096621Z"
    },
    "papermill": {
     "duration": 0.050753,
     "end_time": "2023-09-04T15:27:27.099623",
     "exception": false,
     "start_time": "2023-09-04T15:27:27.048870",
     "status": "completed"
    },
    "tags": []
   },
   "outputs": [
    {
     "data": {
      "text/plain": [
       "0.035262344389530756"
      ]
     },
     "execution_count": 53,
     "metadata": {},
     "output_type": "execute_result"
    }
   ],
   "source": [
    "svr_mse = mean_squared_error(y_test, svr_y_pred)\n",
    "svr_mse"
   ]
  },
  {
   "cell_type": "code",
   "execution_count": 54,
   "id": "cd6999eb",
   "metadata": {
    "execution": {
     "iopub.execute_input": "2023-09-04T15:27:27.181374Z",
     "iopub.status.busy": "2023-09-04T15:27:27.180774Z",
     "iopub.status.idle": "2023-09-04T15:27:27.187098Z",
     "shell.execute_reply": "2023-09-04T15:27:27.185942Z"
    },
    "papermill": {
     "duration": 0.050426,
     "end_time": "2023-09-04T15:27:27.189347",
     "exception": false,
     "start_time": "2023-09-04T15:27:27.138921",
     "status": "completed"
    },
    "tags": []
   },
   "outputs": [
    {
     "data": {
      "text/plain": [
       "0.1877827052460656"
      ]
     },
     "execution_count": 54,
     "metadata": {},
     "output_type": "execute_result"
    }
   ],
   "source": [
    "svr_rmse = np.sqrt(svr_mse)\n",
    "svr_rmse"
   ]
  },
  {
   "cell_type": "markdown",
   "id": "43ee84ee",
   "metadata": {
    "papermill": {
     "duration": 0.039298,
     "end_time": "2023-09-04T15:27:27.267800",
     "exception": false,
     "start_time": "2023-09-04T15:27:27.228502",
     "status": "completed"
    },
    "tags": []
   },
   "source": [
    "> **Visualize the Results of the Prediction :**"
   ]
  },
  {
   "cell_type": "code",
   "execution_count": 55,
   "id": "178853a9",
   "metadata": {
    "execution": {
     "iopub.execute_input": "2023-09-04T15:27:27.349910Z",
     "iopub.status.busy": "2023-09-04T15:27:27.349477Z",
     "iopub.status.idle": "2023-09-04T15:27:27.614657Z",
     "shell.execute_reply": "2023-09-04T15:27:27.613573Z"
    },
    "papermill": {
     "duration": 0.309027,
     "end_time": "2023-09-04T15:27:27.617139",
     "exception": false,
     "start_time": "2023-09-04T15:27:27.308112",
     "status": "completed"
    },
    "tags": []
   },
   "outputs": [
    {
     "data": {
      "image/png": "[encoded data removed]",
      "text/plain": [
       "<Figure size 640x480 with 1 Axes>"
      ]
     },
     "metadata": {},
     "output_type": "display_data"
    }
   ],
   "source": [
    "# Plot Actual vs Predicted Values\n",
    "\n",
    "plt.scatter(y_test, svr_y_pred)\n",
    "plt.show()"
   ]
  },
  {
   "cell_type": "code",
   "execution_count": 56,
   "id": "860aea8b",
   "metadata": {
    "execution": {
     "iopub.execute_input": "2023-09-04T15:27:27.700529Z",
     "iopub.status.busy": "2023-09-04T15:27:27.700123Z",
     "iopub.status.idle": "2023-09-04T15:27:29.908307Z",
     "shell.execute_reply": "2023-09-04T15:27:29.907078Z"
    },
    "papermill": {
     "duration": 2.253117,
     "end_time": "2023-09-04T15:27:29.911063",
     "exception": false,
     "start_time": "2023-09-04T15:27:27.657946",
     "status": "completed"
    },
    "tags": []
   },
   "outputs": [
    {
     "name": "stderr",
     "output_type": "stream",
     "text": [
      "/opt/conda/lib/python3.10/site-packages/seaborn/axisgrid.py:118: UserWarning: The figure layout has changed to tight\n",
      "  self._figure.tight_layout(*args, **kwargs)\n",
      "/opt/conda/lib/python3.10/site-packages/seaborn/axisgrid.py:118: UserWarning: The figure layout has changed to tight\n",
      "  self._figure.tight_layout(*args, **kwargs)\n",
      "/opt/conda/lib/python3.10/site-packages/seaborn/axisgrid.py:118: UserWarning: The figure layout has changed to tight\n",
      "  self._figure.tight_layout(*args, **kwargs)\n",
      "/opt/conda/lib/python3.10/site-packages/seaborn/axisgrid.py:118: UserWarning: The figure layout has changed to tight\n",
      "  self._figure.tight_layout(*args, **kwargs)\n",
      "/tmp/ipykernel_20/4005064551.py:14: UserWarning: The figure layout has changed to tight\n",
      "  plt.tight_layout()\n"
     ]
    },
    {
     "data": {
      "image/png": "[encoded data removed]",
      "text/plain": [
       "<Figure size 500x500 with 1 Axes>"
      ]
     },
     "metadata": {},
     "output_type": "display_data"
    },
    {
     "data": {
      "image/png": "[encoded data removed]",
      "text/plain": [
       "<Figure size 500x500 with 1 Axes>"
      ]
     },
     "metadata": {},
     "output_type": "display_data"
    },
    {
     "data": {
      "image/png": "[encoded data removed]",
      "text/plain": [
       "<Figure size 500x500 with 1 Axes>"
      ]
     },
     "metadata": {},
     "output_type": "display_data"
    },
    {
     "data": {
      "image/png": "[encoded data removed]",
      "text/plain": [
       "<Figure size 500x500 with 1 Axes>"
      ]
     },
     "metadata": {},
     "output_type": "display_data"
    }
   ],
   "source": [
    "# Scatter Plots of each feature vs predicted value with regression line\n",
    "\n",
    "lin_regressor_plot = x_test\n",
    "lin_regressor_plot['Y_Predicted'] = svr_y_pred\n",
    "\n",
    "sns.lmplot(x='Signal_Strength', y='Y_Predicted', data=lin_regressor_plot)\n",
    "\n",
    "sns.lmplot(x='Latency', y='Y_Predicted', data=lin_regressor_plot)\n",
    "\n",
    "sns.lmplot(x='Required_Bandwidth', y='Y_Predicted', data=lin_regressor_plot)\n",
    "\n",
    "sns.lmplot(x='Allocated_Bandwidth', y='Y_Predicted', data=lin_regressor_plot)\n",
    "\n",
    "plt.tight_layout()\n",
    "plt.show()"
   ]
  },
  {
   "cell_type": "markdown",
   "id": "2ec0162f",
   "metadata": {
    "papermill": {
     "duration": 0.041616,
     "end_time": "2023-09-04T15:27:29.994905",
     "exception": false,
     "start_time": "2023-09-04T15:27:29.953289",
     "status": "completed"
    },
    "tags": []
   },
   "source": [
    "# **KNN Regression Model**"
   ]
  },
  {
   "cell_type": "markdown",
   "id": "8b05107a",
   "metadata": {
    "papermill": {
     "duration": 0.042112,
     "end_time": "2023-09-04T15:27:30.078418",
     "exception": false,
     "start_time": "2023-09-04T15:27:30.036306",
     "status": "completed"
    },
    "tags": []
   },
   "source": [
    "> **Create and Train the Model :**"
   ]
  },
  {
   "cell_type": "code",
   "execution_count": 57,
   "id": "d139ee27",
   "metadata": {
    "execution": {
     "iopub.execute_input": "2023-09-04T15:27:30.167618Z",
     "iopub.status.busy": "2023-09-04T15:27:30.167199Z",
     "iopub.status.idle": "2023-09-04T15:27:30.289009Z",
     "shell.execute_reply": "2023-09-04T15:27:30.287877Z"
    },
    "papermill": {
     "duration": 0.170336,
     "end_time": "2023-09-04T15:27:30.291660",
     "exception": false,
     "start_time": "2023-09-04T15:27:30.121324",
     "status": "completed"
    },
    "tags": []
   },
   "outputs": [],
   "source": [
    "from sklearn.neighbors import KNeighborsRegressor"
   ]
  },
  {
   "cell_type": "code",
   "execution_count": 58,
   "id": "31f6e657",
   "metadata": {
    "execution": {
     "iopub.execute_input": "2023-09-04T15:27:30.377369Z",
     "iopub.status.busy": "2023-09-04T15:27:30.376988Z",
     "iopub.status.idle": "2023-09-04T15:27:30.388988Z",
     "shell.execute_reply": "2023-09-04T15:27:30.387818Z"
    },
    "papermill": {
     "duration": 0.057868,
     "end_time": "2023-09-04T15:27:30.391605",
     "exception": false,
     "start_time": "2023-09-04T15:27:30.333737",
     "status": "completed"
    },
    "tags": []
   },
   "outputs": [
    {
     "data": {
      "text/html": [
       "<style>#sk-container-id-3 {color: black;background-color: white;}#sk-container-id-3 pre{padding: 0;}#sk-container-id-3 div.sk-toggleable {background-color: white;}#sk-container-id-3 label.sk-toggleable__label {cursor: pointer;display: block;width: 100%;margin-bottom: 0;padding: 0.3em;box-sizing: border-box;text-align: center;}#sk-container-id-3 label.sk-toggleable__label-arrow:before {content: \"▸\";float: left;margin-right: 0.25em;color: #696969;}#sk-container-id-3 label.sk-toggleable__label-arrow:hover:before {color: black;}#sk-container-id-3 div.sk-estimator:hover label.sk-toggleable__label-arrow:before {color: black;}#sk-container-id-3 div.sk-toggleable__content {max-height: 0;max-width: 0;overflow: hidden;text-align: left;background-color: #f0f8ff;}#sk-container-id-3 div.sk-toggleable__content pre {margin: 0.2em;color: black;border-radius: 0.25em;background-color: #f0f8ff;}#sk-container-id-3 input.sk-toggleable__control:checked~div.sk-toggleable__content {max-height: 200px;max-width: 100%;overflow: auto;}#sk-container-id-3 input.sk-toggleable__control:checked~label.sk-toggleable__label-arrow:before {content: \"▾\";}#sk-container-id-3 div.sk-estimator input.sk-toggleable__control:checked~label.sk-toggleable__label {background-color: #d4ebff;}#sk-container-id-3 div.sk-label input.sk-toggleable__control:checked~label.sk-toggleable__label {background-color: #d4ebff;}#sk-container-id-3 input.sk-hidden--visually {border: 0;clip: rect(1px 1px 1px 1px);clip: rect(1px, 1px, 1px, 1px);height: 1px;margin: -1px;overflow: hidden;padding: 0;position: absolute;width: 1px;}#sk-container-id-3 div.sk-estimator {font-family: monospace;background-color: #f0f8ff;border: 1px dotted black;border-radius: 0.25em;box-sizing: border-box;margin-bottom: 0.5em;}#sk-container-id-3 div.sk-estimator:hover {background-color: #d4ebff;}#sk-container-id-3 div.sk-parallel-item::after {content: \"\";width: 100%;border-bottom: 1px solid gray;flex-grow: 1;}#sk-container-id-3 div.sk-label:hover label.sk-toggleable__label {background-color: #d4ebff;}#sk-container-id-3 div.sk-serial::before {content: \"\";position: absolute;border-left: 1px solid gray;box-sizing: border-box;top: 0;bottom: 0;left: 50%;z-index: 0;}#sk-container-id-3 div.sk-serial {display: flex;flex-direction: column;align-items: center;background-color: white;padding-right: 0.2em;padding-left: 0.2em;position: relative;}#sk-container-id-3 div.sk-item {position: relative;z-index: 1;}#sk-container-id-3 div.sk-parallel {display: flex;align-items: stretch;justify-content: center;background-color: white;position: relative;}#sk-container-id-3 div.sk-item::before, #sk-container-id-3 div.sk-parallel-item::before {content: \"\";position: absolute;border-left: 1px solid gray;box-sizing: border-box;top: 0;bottom: 0;left: 50%;z-index: -1;}#sk-container-id-3 div.sk-parallel-item {display: flex;flex-direction: column;z-index: 1;position: relative;background-color: white;}#sk-container-id-3 div.sk-parallel-item:first-child::after {align-self: flex-end;width: 50%;}#sk-container-id-3 div.sk-parallel-item:last-child::after {align-self: flex-start;width: 50%;}#sk-container-id-3 div.sk-parallel-item:only-child::after {width: 0;}#sk-container-id-3 div.sk-dashed-wrapped {border: 1px dashed gray;margin: 0 0.4em 0.5em 0.4em;box-sizing: border-box;padding-bottom: 0.4em;background-color: white;}#sk-container-id-3 div.sk-label label {font-family: monospace;font-weight: bold;display: inline-block;line-height: 1.2em;}#sk-container-id-3 div.sk-label-container {text-align: center;}#sk-container-id-3 div.sk-container {/* jupyter's `normalize.less` sets `[hidden] { display: none; }` but bootstrap.min.css set `[hidden] { display: none !important; }` so we also need the `!important` here to be able to override the default hidden behavior on the sphinx rendered scikit-learn.org. See: https://github.com/scikit-learn/scikit-learn/issues/21755 */display: inline-block !important;position: relative;}#sk-container-id-3 div.sk-text-repr-fallback {display: none;}</style><div id=\"sk-container-id-3\" class=\"sk-top-container\"><div class=\"sk-text-repr-fallback\"><pre>KNeighborsRegressor()</pre><b>In a Jupyter environment, please rerun this cell to show the HTML representation or trust the notebook. <br />On GitHub, the HTML representation is unable to render, please try loading this page with nbviewer.org.</b></div><div class=\"sk-container\" hidden><div class=\"sk-item\"><div class=\"sk-estimator sk-toggleable\"><input class=\"sk-toggleable__control sk-hidden--visually\" id=\"sk-estimator-id-3\" type=\"checkbox\" checked><label for=\"sk-estimator-id-3\" class=\"sk-toggleable__label sk-toggleable__label-arrow\">KNeighborsRegressor</label><div class=\"sk-toggleable__content\"><pre>KNeighborsRegressor()</pre></div></div></div></div></div>"
      ],
      "text/plain": [
       "KNeighborsRegressor()"
      ]
     },
     "execution_count": 58,
     "metadata": {},
     "output_type": "execute_result"
    }
   ],
   "source": [
    "knn_regr = KNeighborsRegressor(n_neighbors=5)\n",
    "knn_regr.fit(x_train, y_train)"
   ]
  },
  {
   "cell_type": "markdown",
   "id": "c530ef55",
   "metadata": {
    "papermill": {
     "duration": 0.041917,
     "end_time": "2023-09-04T15:27:30.476070",
     "exception": false,
     "start_time": "2023-09-04T15:27:30.434153",
     "status": "completed"
    },
    "tags": []
   },
   "source": [
    "> **Predict Test Set Results :**"
   ]
  },
  {
   "cell_type": "code",
   "execution_count": 59,
   "id": "cae497c2",
   "metadata": {
    "execution": {
     "iopub.execute_input": "2023-09-04T15:27:30.563749Z",
     "iopub.status.busy": "2023-09-04T15:27:30.562386Z",
     "iopub.status.idle": "2023-09-04T15:27:30.569246Z",
     "shell.execute_reply": "2023-09-04T15:27:30.568238Z"
    },
    "papermill": {
     "duration": 0.052803,
     "end_time": "2023-09-04T15:27:30.571505",
     "exception": false,
     "start_time": "2023-09-04T15:27:30.518702",
     "status": "completed"
    },
    "tags": []
   },
   "outputs": [],
   "source": [
    "x_test.drop('Y_Predicted', axis=1, inplace=True)"
   ]
  },
  {
   "cell_type": "code",
   "execution_count": 60,
   "id": "3d2f88c7",
   "metadata": {
    "execution": {
     "iopub.execute_input": "2023-09-04T15:27:30.659474Z",
     "iopub.status.busy": "2023-09-04T15:27:30.658529Z",
     "iopub.status.idle": "2023-09-04T15:27:30.665187Z",
     "shell.execute_reply": "2023-09-04T15:27:30.664407Z"
    },
    "papermill": {
     "duration": 0.053155,
     "end_time": "2023-09-04T15:27:30.667317",
     "exception": false,
     "start_time": "2023-09-04T15:27:30.614162",
     "status": "completed"
    },
    "tags": []
   },
   "outputs": [],
   "source": [
    "knn_y_pred = svr.predict(x_test)"
   ]
  },
  {
   "cell_type": "markdown",
   "id": "db1eea7a",
   "metadata": {
    "papermill": {
     "duration": 0.042396,
     "end_time": "2023-09-04T15:27:30.752324",
     "exception": false,
     "start_time": "2023-09-04T15:27:30.709928",
     "status": "completed"
    },
    "tags": []
   },
   "source": [
    "> **Evaluation of Model Performance :**"
   ]
  },
  {
   "cell_type": "code",
   "execution_count": 61,
   "id": "4170109f",
   "metadata": {
    "execution": {
     "iopub.execute_input": "2023-09-04T15:27:30.840404Z",
     "iopub.status.busy": "2023-09-04T15:27:30.839661Z",
     "iopub.status.idle": "2023-09-04T15:27:30.846605Z",
     "shell.execute_reply": "2023-09-04T15:27:30.845776Z"
    },
    "papermill": {
     "duration": 0.053917,
     "end_time": "2023-09-04T15:27:30.848740",
     "exception": false,
     "start_time": "2023-09-04T15:27:30.794823",
     "status": "completed"
    },
    "tags": []
   },
   "outputs": [
    {
     "data": {
      "text/plain": [
       "0.5166550618405741"
      ]
     },
     "execution_count": 61,
     "metadata": {},
     "output_type": "execute_result"
    }
   ],
   "source": [
    "knn_r2 = r2_score(y_test, knn_y_pred)\n",
    "knn_r2"
   ]
  },
  {
   "cell_type": "code",
   "execution_count": 62,
   "id": "8f966508",
   "metadata": {
    "execution": {
     "iopub.execute_input": "2023-09-04T15:27:30.936653Z",
     "iopub.status.busy": "2023-09-04T15:27:30.936225Z",
     "iopub.status.idle": "2023-09-04T15:27:30.943468Z",
     "shell.execute_reply": "2023-09-04T15:27:30.942647Z"
    },
    "papermill": {
     "duration": 0.053988,
     "end_time": "2023-09-04T15:27:30.945534",
     "exception": false,
     "start_time": "2023-09-04T15:27:30.891546",
     "status": "completed"
    },
    "tags": []
   },
   "outputs": [
    {
     "data": {
      "text/plain": [
       "0.035262344389530756"
      ]
     },
     "execution_count": 62,
     "metadata": {},
     "output_type": "execute_result"
    }
   ],
   "source": [
    "knn_mse = mean_squared_error(y_test, knn_y_pred)\n",
    "knn_mse"
   ]
  },
  {
   "cell_type": "code",
   "execution_count": 63,
   "id": "acf19b5a",
   "metadata": {
    "execution": {
     "iopub.execute_input": "2023-09-04T15:27:31.035468Z",
     "iopub.status.busy": "2023-09-04T15:27:31.033796Z",
     "iopub.status.idle": "2023-09-04T15:27:31.041670Z",
     "shell.execute_reply": "2023-09-04T15:27:31.040617Z"
    },
    "papermill": {
     "duration": 0.055524,
     "end_time": "2023-09-04T15:27:31.043923",
     "exception": false,
     "start_time": "2023-09-04T15:27:30.988399",
     "status": "completed"
    },
    "tags": []
   },
   "outputs": [
    {
     "data": {
      "text/plain": [
       "0.1877827052460656"
      ]
     },
     "execution_count": 63,
     "metadata": {},
     "output_type": "execute_result"
    }
   ],
   "source": [
    "knn_rmse = np.sqrt(knn_mse)\n",
    "knn_rmse"
   ]
  },
  {
   "cell_type": "markdown",
   "id": "952d3221",
   "metadata": {
    "papermill": {
     "duration": 0.043188,
     "end_time": "2023-09-04T15:27:31.132995",
     "exception": false,
     "start_time": "2023-09-04T15:27:31.089807",
     "status": "completed"
    },
    "tags": []
   },
   "source": [
    "> **Visualize the Results of the Prediction :**"
   ]
  },
  {
   "cell_type": "code",
   "execution_count": 64,
   "id": "15611877",
   "metadata": {
    "execution": {
     "iopub.execute_input": "2023-09-04T15:27:31.241425Z",
     "iopub.status.busy": "2023-09-04T15:27:31.240458Z",
     "iopub.status.idle": "2023-09-04T15:27:31.489141Z",
     "shell.execute_reply": "2023-09-04T15:27:31.488050Z"
    },
    "papermill": {
     "duration": 0.309782,
     "end_time": "2023-09-04T15:27:31.491426",
     "exception": false,
     "start_time": "2023-09-04T15:27:31.181644",
     "status": "completed"
    },
    "tags": []
   },
   "outputs": [
    {
     "data": {
      "image/png": "[encoded data removed]",
      "text/plain": [
       "<Figure size 640x480 with 1 Axes>"
      ]
     },
     "metadata": {},
     "output_type": "display_data"
    }
   ],
   "source": [
    "# Plot Actual vs Predicted Values\n",
    "\n",
    "plt.scatter(y_test, knn_y_pred)\n",
    "plt.show()"
   ]
  },
  {
   "cell_type": "code",
   "execution_count": 65,
   "id": "c8abbe81",
   "metadata": {
    "execution": {
     "iopub.execute_input": "2023-09-04T15:27:31.580186Z",
     "iopub.status.busy": "2023-09-04T15:27:31.579504Z",
     "iopub.status.idle": "2023-09-04T15:27:33.789774Z",
     "shell.execute_reply": "2023-09-04T15:27:33.788825Z"
    },
    "papermill": {
     "duration": 2.257774,
     "end_time": "2023-09-04T15:27:33.792192",
     "exception": false,
     "start_time": "2023-09-04T15:27:31.534418",
     "status": "completed"
    },
    "tags": []
   },
   "outputs": [
    {
     "name": "stderr",
     "output_type": "stream",
     "text": [
      "/opt/conda/lib/python3.10/site-packages/seaborn/axisgrid.py:118: UserWarning: The figure layout has changed to tight\n",
      "  self._figure.tight_layout(*args, **kwargs)\n",
      "/opt/conda/lib/python3.10/site-packages/seaborn/axisgrid.py:118: UserWarning: The figure layout has changed to tight\n",
      "  self._figure.tight_layout(*args, **kwargs)\n",
      "/opt/conda/lib/python3.10/site-packages/seaborn/axisgrid.py:118: UserWarning: The figure layout has changed to tight\n",
      "  self._figure.tight_layout(*args, **kwargs)\n",
      "/opt/conda/lib/python3.10/site-packages/seaborn/axisgrid.py:118: UserWarning: The figure layout has changed to tight\n",
      "  self._figure.tight_layout(*args, **kwargs)\n",
      "/tmp/ipykernel_20/1444102090.py:14: UserWarning: The figure layout has changed to tight\n",
      "  plt.tight_layout()\n"
     ]
    },
    {
     "data": {
      "image/png": "[encoded data removed]",
      "text/plain": [
       "<Figure size 500x500 with 1 Axes>"
      ]
     },
     "metadata": {},
     "output_type": "display_data"
    },
    {
     "data": {
      "image/png": "[encoded data removed]",
      "text/plain": [
       "<Figure size 500x500 with 1 Axes>"
      ]
     },
     "metadata": {},
     "output_type": "display_data"
    },
    {
     "data": {
      "image/png": "[encoded data removed]",
      "text/plain": [
       "<Figure size 500x500 with 1 Axes>"
      ]
     },
     "metadata": {},
     "output_type": "display_data"
    },
    {
     "data": {
      "image/png": "[encoded data removed]",
      "text/plain": [
       "<Figure size 500x500 with 1 Axes>"
      ]
     },
     "metadata": {},
     "output_type": "display_data"
    }
   ],
   "source": [
    "# Scatter Plots of each feature vs predicted value with regression line\n",
    "\n",
    "lin_regressor_plot = x_test\n",
    "lin_regressor_plot['Y_Predicted'] = knn_y_pred\n",
    "\n",
    "sns.lmplot(x='Signal_Strength', y='Y_Predicted', data=lin_regressor_plot)\n",
    "\n",
    "sns.lmplot(x='Latency', y='Y_Predicted', data=lin_regressor_plot)\n",
    "\n",
    "sns.lmplot(x='Required_Bandwidth', y='Y_Predicted', data=lin_regressor_plot)\n",
    "\n",
    "sns.lmplot(x='Allocated_Bandwidth', y='Y_Predicted', data=lin_regressor_plot)\n",
    "\n",
    "plt.tight_layout()\n",
    "plt.show()"
   ]
  },
  {
   "cell_type": "markdown",
   "id": "4c1a1928",
   "metadata": {
    "papermill": {
     "duration": 0.047198,
     "end_time": "2023-09-04T15:27:33.887223",
     "exception": false,
     "start_time": "2023-09-04T15:27:33.840025",
     "status": "completed"
    },
    "tags": []
   },
   "source": [
    "# **Comparing Results of MLR, SVM and KNN Regression Models**"
   ]
  },
  {
   "cell_type": "code",
   "execution_count": 66,
   "id": "dd40dbac",
   "metadata": {
    "execution": {
     "iopub.execute_input": "2023-09-04T15:27:33.983161Z",
     "iopub.status.busy": "2023-09-04T15:27:33.982370Z",
     "iopub.status.idle": "2023-09-04T15:27:34.289172Z",
     "shell.execute_reply": "2023-09-04T15:27:34.287791Z"
    },
    "papermill": {
     "duration": 0.358498,
     "end_time": "2023-09-04T15:27:34.292114",
     "exception": false,
     "start_time": "2023-09-04T15:27:33.933616",
     "status": "completed"
    },
    "tags": []
   },
   "outputs": [
    {
     "data": {
      "image/png": "[encoded data removed]",
      "text/plain": [
       "<Figure size 640x480 with 1 Axes>"
      ]
     },
     "metadata": {},
     "output_type": "display_data"
    }
   ],
   "source": [
    "# Create the plot with multiple lines to compare measures like: mse, rmse and r2_score\n",
    "\n",
    "categories = ['MLR', 'SVR', 'KNN']\n",
    "x = np.arange(len(categories))\n",
    "r2_scores = [lin_regressor_r2, svr_r2, knn_r2]\n",
    "mse_scores = [lin_regressor_mse, svr_mse, knn_mse]\n",
    "rmse_scores = [lin_regressor_rmse, svr_rmse, knn_rmse]\n",
    "\n",
    "width = 0.25\n",
    "fig, ax = plt.subplots()\n",
    "\n",
    "ax.bar(x, r2_scores, label='R2 Scores', width=0.25)\n",
    "ax.bar(x+width, mse_scores, label='MSE', width=0.25)\n",
    "ax.bar(x+2*width, rmse_scores, label='RMSE', width=0.25)\n",
    "\n",
    "# Customize the plot\n",
    "plt.xlabel('Model Names')\n",
    "plt.ylabel('Score')\n",
    "plt.title('Compare Evaluation Metrics of MLR, SVR and KNN')\n",
    "plt.legend()  # Show legend with labels\n",
    "ax.set_xticks(x)\n",
    "ax.set_xticklabels(categories)\n",
    "\n",
    "# Show the plot\n",
    "plt.show()"
   ]
  },
  {
   "cell_type": "code",
   "execution_count": 67,
   "id": "a754f42e",
   "metadata": {
    "execution": {
     "iopub.execute_input": "2023-09-04T15:27:34.388118Z",
     "iopub.status.busy": "2023-09-04T15:27:34.387130Z",
     "iopub.status.idle": "2023-09-04T15:27:34.392039Z",
     "shell.execute_reply": "2023-09-04T15:27:34.390904Z"
    },
    "papermill": {
     "duration": 0.05519,
     "end_time": "2023-09-04T15:27:34.394308",
     "exception": false,
     "start_time": "2023-09-04T15:27:34.339118",
     "status": "completed"
    },
    "tags": []
   },
   "outputs": [],
   "source": [
    "# Thus, we can conclude that, SVR and KNN Regressor has similar performance\n",
    "# Which is better than MLR(Multliple Linear Regression)"
   ]
  }
 ],
 "kernelspec": {
  "display_name": "Python 3",
  "language": "python",
  "name": "python3"
 },
 "language_info": {
  "codemirror_mode": {
   "name": "ipython",
   "version": 3
  },
  "file_extension": ".py",
  "mimetype": "text/x-python",
  "name": "python",
  "nbconvert_exporter": "python",
  "pygments_lexer": "ipython3",
  "version": "3.6.4"
 },
 "metadata": {
  "kernelspec": {
   "display_name": "Python 3",
   "language": "python",
   "name": "python3"
  },
  "language_info": {
   "codemirror_mode": {
    "name": "ipython",
    "version": 3
   },
   "file_extension": ".py",
   "mimetype": "text/x-python",
   "name": "python",
   "nbconvert_exporter": "python",
   "pygments_lexer": "ipython3",
   "version": "3.10.12"
  },
  "papermill": {
   "default_parameters": {},
   "duration": 23.74082,
   "end_time": "2023-09-04T15:27:35.061520",
   "environment_variables": {},
   "exception": null,
   "input_path": "__notebook__.ipynb",
   "output_path": "__notebook__.ipynb",
   "parameters": {},
   "start_time": "2023-09-04T15:27:11.320700",
   "version": "2.4.0"
  }
 },
 "nbformat": 4,
 "nbformat_minor": 5
}
