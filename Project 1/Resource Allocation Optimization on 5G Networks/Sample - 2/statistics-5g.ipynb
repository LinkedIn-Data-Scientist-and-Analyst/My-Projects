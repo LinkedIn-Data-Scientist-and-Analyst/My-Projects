{
 "cells": [
  {
   "cell_type": "code",
   "execution_count": 1,
   "id": "431800db",
   "metadata": {
    "_cell_guid": "b1076dfc-b9ad-4769-8c92-a6c4dae69d19",
    "_uuid": "8f2839f25d086af736a60e9eeb907d3b93b6e0e5",
    "execution": {
     "iopub.execute_input": "2023-09-04T13:23:27.633935Z",
     "iopub.status.busy": "2023-09-04T13:23:27.633359Z",
     "iopub.status.idle": "2023-09-04T13:23:28.032360Z",
     "shell.execute_reply": "2023-09-04T13:23:28.031246Z"
    },
    "papermill": {
     "duration": 0.411999,
     "end_time": "2023-09-04T13:23:28.034824",
     "exception": false,
     "start_time": "2023-09-04T13:23:27.622825",
     "status": "completed"
    },
    "tags": []
   },
   "outputs": [
    {
     "name": "stdout",
     "output_type": "stream",
     "text": [
      "/kaggle/input/5g-quality-of-service/Quality of Service 5G.csv\n"
     ]
    }
   ],
   "source": [
    "# This Python 3 environment comes with many helpful analytics libraries installed\n",
    "# It is defined by the kaggle/python Docker image: https://github.com/kaggle/docker-python\n",
    "# For example, here's several helpful packages to load\n",
    "\n",
    "import numpy as np # linear algebra\n",
    "import pandas as pd # data processing, CSV file I/O (e.g. pd.read_csv)\n",
    "\n",
    "# Input data files are available in the read-only \"../input/\" directory\n",
    "# For example, running this (by clicking run or pressing Shift+Enter) will list all files under the input directory\n",
    "\n",
    "import os\n",
    "for dirname, _, filenames in os.walk('/kaggle/input'):\n",
    "    for filename in filenames:\n",
    "        print(os.path.join(dirname, filename))\n",
    "\n",
    "# You can write up to 20GB to the current directory (/kaggle/working/) that gets preserved as output when you create a version using \"Save & Run All\" \n",
    "# You can also write temporary files to /kaggle/temp/, but they won't be saved outside of the current session"
   ]
  },
  {
   "cell_type": "code",
   "execution_count": 2,
   "id": "97eb512a",
   "metadata": {
    "execution": {
     "iopub.execute_input": "2023-09-04T13:23:28.051689Z",
     "iopub.status.busy": "2023-09-04T13:23:28.050972Z",
     "iopub.status.idle": "2023-09-04T13:23:28.073126Z",
     "shell.execute_reply": "2023-09-04T13:23:28.071911Z"
    },
    "papermill": {
     "duration": 0.03443,
     "end_time": "2023-09-04T13:23:28.076692",
     "exception": false,
     "start_time": "2023-09-04T13:23:28.042262",
     "status": "completed"
    },
    "tags": []
   },
   "outputs": [],
   "source": [
    "\n",
    "\n",
    "df = pd.read_csv('/kaggle/input/5g-quality-of-service/Quality of Service 5G.csv')\n",
    "\n"
   ]
  },
  {
   "cell_type": "code",
   "execution_count": 3,
   "id": "e1f4efa3",
   "metadata": {
    "execution": {
     "iopub.execute_input": "2023-09-04T13:23:28.093882Z",
     "iopub.status.busy": "2023-09-04T13:23:28.093488Z",
     "iopub.status.idle": "2023-09-04T13:23:28.128770Z",
     "shell.execute_reply": "2023-09-04T13:23:28.127330Z"
    },
    "papermill": {
     "duration": 0.046857,
     "end_time": "2023-09-04T13:23:28.131327",
     "exception": false,
     "start_time": "2023-09-04T13:23:28.084470",
     "status": "completed"
    },
    "tags": []
   },
   "outputs": [
    {
     "data": {
      "text/html": [
       "<div>\n",
       "<style scoped>\n",
       "    .dataframe tbody tr th:only-of-type {\n",
       "        vertical-align: middle;\n",
       "    }\n",
       "\n",
       "    .dataframe tbody tr th {\n",
       "        vertical-align: top;\n",
       "    }\n",
       "\n",
       "    .dataframe thead th {\n",
       "        text-align: right;\n",
       "    }\n",
       "</style>\n",
       "<table border=\"1\" class=\"dataframe\">\n",
       "  <thead>\n",
       "    <tr style=\"text-align: right;\">\n",
       "      <th></th>\n",
       "      <th>Timestamp</th>\n",
       "      <th>User_ID</th>\n",
       "      <th>Application_Type</th>\n",
       "      <th>Signal_Strength</th>\n",
       "      <th>Latency</th>\n",
       "      <th>Required_Bandwidth</th>\n",
       "      <th>Allocated_Bandwidth</th>\n",
       "      <th>Resource_Allocation</th>\n",
       "    </tr>\n",
       "  </thead>\n",
       "  <tbody>\n",
       "    <tr>\n",
       "      <th>0</th>\n",
       "      <td>9/3/2023 10:00</td>\n",
       "      <td>User_1</td>\n",
       "      <td>Video_Call</td>\n",
       "      <td>-75 dBm</td>\n",
       "      <td>30 ms</td>\n",
       "      <td>10 Mbps</td>\n",
       "      <td>15 Mbps</td>\n",
       "      <td>70%</td>\n",
       "    </tr>\n",
       "    <tr>\n",
       "      <th>1</th>\n",
       "      <td>9/3/2023 10:00</td>\n",
       "      <td>User_2</td>\n",
       "      <td>Voice_Call</td>\n",
       "      <td>-80 dBm</td>\n",
       "      <td>20 ms</td>\n",
       "      <td>100 Kbps</td>\n",
       "      <td>120 Kbps</td>\n",
       "      <td>80%</td>\n",
       "    </tr>\n",
       "    <tr>\n",
       "      <th>2</th>\n",
       "      <td>9/3/2023 10:00</td>\n",
       "      <td>User_3</td>\n",
       "      <td>Streaming</td>\n",
       "      <td>-85 dBm</td>\n",
       "      <td>40 ms</td>\n",
       "      <td>5 Mbps</td>\n",
       "      <td>6 Mbps</td>\n",
       "      <td>75%</td>\n",
       "    </tr>\n",
       "    <tr>\n",
       "      <th>3</th>\n",
       "      <td>9/3/2023 10:00</td>\n",
       "      <td>User_4</td>\n",
       "      <td>Emergency_Service</td>\n",
       "      <td>-70 dBm</td>\n",
       "      <td>10 ms</td>\n",
       "      <td>1 Mbps</td>\n",
       "      <td>1.5 Mbps</td>\n",
       "      <td>90%</td>\n",
       "    </tr>\n",
       "    <tr>\n",
       "      <th>4</th>\n",
       "      <td>9/3/2023 10:00</td>\n",
       "      <td>User_5</td>\n",
       "      <td>Online_Gaming</td>\n",
       "      <td>-78 dBm</td>\n",
       "      <td>25 ms</td>\n",
       "      <td>2 Mbps</td>\n",
       "      <td>3 Mbps</td>\n",
       "      <td>85%</td>\n",
       "    </tr>\n",
       "  </tbody>\n",
       "</table>\n",
       "</div>"
      ],
      "text/plain": [
       "        Timestamp User_ID   Application_Type Signal_Strength Latency  \\\n",
       "0  9/3/2023 10:00  User_1         Video_Call         -75 dBm   30 ms   \n",
       "1  9/3/2023 10:00  User_2         Voice_Call         -80 dBm   20 ms   \n",
       "2  9/3/2023 10:00  User_3          Streaming         -85 dBm   40 ms   \n",
       "3  9/3/2023 10:00  User_4  Emergency_Service         -70 dBm   10 ms   \n",
       "4  9/3/2023 10:00  User_5      Online_Gaming         -78 dBm   25 ms   \n",
       "\n",
       "  Required_Bandwidth Allocated_Bandwidth Resource_Allocation  \n",
       "0            10 Mbps             15 Mbps                 70%  \n",
       "1           100 Kbps            120 Kbps                 80%  \n",
       "2             5 Mbps              6 Mbps                 75%  \n",
       "3             1 Mbps            1.5 Mbps                 90%  \n",
       "4             2 Mbps              3 Mbps                 85%  "
      ]
     },
     "execution_count": 3,
     "metadata": {},
     "output_type": "execute_result"
    }
   ],
   "source": [
    "df.head()"
   ]
  },
  {
   "cell_type": "code",
   "execution_count": 4,
   "id": "ffc32ba5",
   "metadata": {
    "execution": {
     "iopub.execute_input": "2023-09-04T13:23:28.148719Z",
     "iopub.status.busy": "2023-09-04T13:23:28.148132Z",
     "iopub.status.idle": "2023-09-04T13:23:28.179725Z",
     "shell.execute_reply": "2023-09-04T13:23:28.178707Z"
    },
    "papermill": {
     "duration": 0.043037,
     "end_time": "2023-09-04T13:23:28.182197",
     "exception": false,
     "start_time": "2023-09-04T13:23:28.139160",
     "status": "completed"
    },
    "tags": []
   },
   "outputs": [
    {
     "name": "stdout",
     "output_type": "stream",
     "text": [
      "<class 'pandas.core.frame.DataFrame'>\n",
      "RangeIndex: 400 entries, 0 to 399\n",
      "Data columns (total 8 columns):\n",
      " #   Column               Non-Null Count  Dtype \n",
      "---  ------               --------------  ----- \n",
      " 0   Timestamp            400 non-null    object\n",
      " 1   User_ID              400 non-null    object\n",
      " 2   Application_Type     400 non-null    object\n",
      " 3   Signal_Strength      400 non-null    object\n",
      " 4   Latency              400 non-null    object\n",
      " 5   Required_Bandwidth   400 non-null    object\n",
      " 6   Allocated_Bandwidth  400 non-null    object\n",
      " 7   Resource_Allocation  400 non-null    object\n",
      "dtypes: object(8)\n",
      "memory usage: 25.1+ KB\n"
     ]
    }
   ],
   "source": [
    "df.info()"
   ]
  },
  {
   "cell_type": "markdown",
   "id": "e53ad8eb",
   "metadata": {
    "papermill": {
     "duration": 0.009043,
     "end_time": "2023-09-04T13:23:28.201050",
     "exception": false,
     "start_time": "2023-09-04T13:23:28.192007",
     "status": "completed"
    },
    "tags": []
   },
   "source": [
    "# 1.Statistics"
   ]
  },
  {
   "cell_type": "code",
   "execution_count": 5,
   "id": "31932228",
   "metadata": {
    "execution": {
     "iopub.execute_input": "2023-09-04T13:23:28.219913Z",
     "iopub.status.busy": "2023-09-04T13:23:28.219328Z",
     "iopub.status.idle": "2023-09-04T13:23:29.968810Z",
     "shell.execute_reply": "2023-09-04T13:23:29.967327Z"
    },
    "papermill": {
     "duration": 1.762137,
     "end_time": "2023-09-04T13:23:29.971477",
     "exception": false,
     "start_time": "2023-09-04T13:23:28.209340",
     "status": "completed"
    },
    "tags": []
   },
   "outputs": [],
   "source": [
    "import pandas as pd\n",
    "import matplotlib.pyplot as plt\n",
    "import seaborn as sns\n",
    "import re \n",
    "import warnings\n",
    "warnings.filterwarnings(\"ignore\", category=RuntimeWarning)\n"
   ]
  },
  {
   "cell_type": "code",
   "execution_count": 6,
   "id": "89bf1a7f",
   "metadata": {
    "execution": {
     "iopub.execute_input": "2023-09-04T13:23:29.989685Z",
     "iopub.status.busy": "2023-09-04T13:23:29.989208Z",
     "iopub.status.idle": "2023-09-04T13:23:30.006041Z",
     "shell.execute_reply": "2023-09-04T13:23:30.004728Z"
    },
    "papermill": {
     "duration": 0.029445,
     "end_time": "2023-09-04T13:23:30.008825",
     "exception": false,
     "start_time": "2023-09-04T13:23:29.979380",
     "status": "completed"
    },
    "tags": []
   },
   "outputs": [],
   "source": [
    "import re\n",
    "\n",
    "numerical_columns = ['Signal_Strength', 'Latency', 'Required_Bandwidth', 'Allocated_Bandwidth']\n",
    "\n",
    "# Define a function to convert dBm strings to numeric values\n",
    "def convert_to_numeric(value):\n",
    "    # Ensure that the input value is a string or bytes-like object\n",
    "    if isinstance(value, (str, bytes)):\n",
    "        # Extract numeric values from the string using regular expressions\n",
    "        numeric_values = re.findall(r'-?\\d+\\.\\d+', value)\n",
    "        \n",
    "        if numeric_values:\n",
    "            # Convert the first numeric value found to a float\n",
    "            return float(numeric_values[0])\n",
    "    # Handle cases where no numeric value is found or input is not a string\n",
    "    return None\n",
    "\n",
    "# Apply the conversion function to each numerical column\n",
    "for column in numerical_columns:\n",
    "    df[column] = df[column].apply(convert_to_numeric)\n",
    "\n"
   ]
  },
  {
   "cell_type": "code",
   "execution_count": 7,
   "id": "62b3d012",
   "metadata": {
    "execution": {
     "iopub.execute_input": "2023-09-04T13:23:30.026124Z",
     "iopub.status.busy": "2023-09-04T13:23:30.025730Z",
     "iopub.status.idle": "2023-09-04T13:23:30.056820Z",
     "shell.execute_reply": "2023-09-04T13:23:30.055634Z"
    },
    "papermill": {
     "duration": 0.042636,
     "end_time": "2023-09-04T13:23:30.059112",
     "exception": false,
     "start_time": "2023-09-04T13:23:30.016476",
     "status": "completed"
    },
    "tags": []
   },
   "outputs": [
    {
     "name": "stdout",
     "output_type": "stream",
     "text": [
      "Basic Statistics for Numerical Columns:\n",
      "        Signal_Strength  Latency  Required_Bandwidth  Allocated_Bandwidth\n",
      "mean                NaN      NaN            4.115302             4.590106\n",
      "median              NaN      NaN            3.000000             3.400000\n",
      "std                 NaN      NaN            4.166998             4.635414\n",
      "\n",
      "Summary Statistics for Categorical Columns:\n",
      "       Application_Type Resource_Allocation\n",
      "count               400                 400\n",
      "unique               11                   9\n",
      "top          Video_Call                 70%\n",
      "freq                 58                 148\n"
     ]
    }
   ],
   "source": [
    "# Calculate basic statistics for numerical columns\n",
    "basic_stats = df[numerical_columns].agg(['mean', 'median', 'std'])\n",
    "print(\"Basic Statistics for Numerical Columns:\")\n",
    "print(basic_stats)\n",
    "\n",
    "# Calculate summary statistics for categorical columns\n",
    "categorical_summary = df[['Application_Type', 'Resource_Allocation']].describe()\n",
    "print(\"\\nSummary Statistics for Categorical Columns:\")\n",
    "print(categorical_summary)\n"
   ]
  },
  {
   "cell_type": "code",
   "execution_count": 8,
   "id": "e40930d3",
   "metadata": {
    "execution": {
     "iopub.execute_input": "2023-09-04T13:23:30.076105Z",
     "iopub.status.busy": "2023-09-04T13:23:30.075669Z",
     "iopub.status.idle": "2023-09-04T13:23:30.085997Z",
     "shell.execute_reply": "2023-09-04T13:23:30.085184Z"
    },
    "papermill": {
     "duration": 0.021534,
     "end_time": "2023-09-04T13:23:30.088299",
     "exception": false,
     "start_time": "2023-09-04T13:23:30.066765",
     "status": "completed"
    },
    "tags": []
   },
   "outputs": [],
   "source": [
    "# Example: Calculate a 7-day moving average for Signal_Strength\n",
    "df['Signal_Strength_MA'] = df['Signal_Strength'].rolling(window=7).mean()\n"
   ]
  },
  {
   "cell_type": "code",
   "execution_count": 9,
   "id": "3cf3b92d",
   "metadata": {
    "execution": {
     "iopub.execute_input": "2023-09-04T13:23:30.106896Z",
     "iopub.status.busy": "2023-09-04T13:23:30.105757Z",
     "iopub.status.idle": "2023-09-04T13:23:30.944017Z",
     "shell.execute_reply": "2023-09-04T13:23:30.942949Z"
    },
    "papermill": {
     "duration": 0.850315,
     "end_time": "2023-09-04T13:23:30.946373",
     "exception": false,
     "start_time": "2023-09-04T13:23:30.096058",
     "status": "completed"
    },
    "tags": []
   },
   "outputs": [
    {
     "name": "stderr",
     "output_type": "stream",
     "text": [
      "/opt/conda/lib/python3.10/site-packages/matplotlib/axes/_base.py:2503: UserWarning: Warning: converting a masked element to nan.\n",
      "  xys = np.asarray(xys)\n"
     ]
    },
    {
     "data": {
      "image/png": "[encoded data removed]",
      "text/plain": [
       "<Figure size 640x480 with 1 Axes>"
      ]
     },
     "metadata": {},
     "output_type": "display_data"
    },
    {
     "data": {
      "image/png": "[encoded data removed]",
      "text/plain": [
       "<Figure size 640x480 with 1 Axes>"
      ]
     },
     "metadata": {},
     "output_type": "display_data"
    }
   ],
   "source": [
    "from statsmodels.graphics.tsaplots import plot_acf, plot_pacf\n",
    "\n",
    "# Example: Autocorrelation plot for Signal_Strength\n",
    "plot_acf(df['Signal_Strength'], lags=50)\n",
    "plt.title('Autocorrelation Plot')\n",
    "plt.show()\n",
    "\n",
    "# Example: Partial Autocorrelation plot for Signal_Strength\n",
    "plot_pacf(df['Signal_Strength'], lags=50)\n",
    "plt.title('Partial Autocorrelation Plot')\n",
    "plt.show()\n"
   ]
  },
  {
   "cell_type": "markdown",
   "id": "ba525eb3",
   "metadata": {
    "papermill": {
     "duration": 0.008165,
     "end_time": "2023-09-04T13:23:30.963061",
     "exception": false,
     "start_time": "2023-09-04T13:23:30.954896",
     "status": "completed"
    },
    "tags": []
   },
   "source": [
    "# 2.Visualization and Reporting"
   ]
  },
  {
   "cell_type": "code",
   "execution_count": 10,
   "id": "0480c74e",
   "metadata": {
    "execution": {
     "iopub.execute_input": "2023-09-04T13:23:30.981831Z",
     "iopub.status.busy": "2023-09-04T13:23:30.981457Z",
     "iopub.status.idle": "2023-09-04T13:23:33.696122Z",
     "shell.execute_reply": "2023-09-04T13:23:33.694924Z"
    },
    "papermill": {
     "duration": 2.726899,
     "end_time": "2023-09-04T13:23:33.698650",
     "exception": false,
     "start_time": "2023-09-04T13:23:30.971751",
     "status": "completed"
    },
    "tags": []
   },
   "outputs": [
    {
     "data": {
      "text/html": [
       "        <script type=\"text/javascript\">\n",
       "        window.PlotlyConfig = {MathJaxConfig: 'local'};\n",
       "        if (window.MathJax && window.MathJax.Hub && window.MathJax.Hub.Config) {window.MathJax.Hub.Config({SVG: {font: \"STIX-Web\"}});}\n",
       "        if (typeof require !== 'undefined') {\n",
       "        require.undef(\"plotly\");\n",
       "        requirejs.config({\n",
       "            paths: {\n",
       "                'plotly': ['https://cdn.plot.ly/plotly-2.24.1.min']\n",
       "            }\n",
       "        });\n",
       "        require(['plotly'], function(Plotly) {\n",
       "            window._Plotly = Plotly;\n",
       "        });\n",
       "        }\n",
       "        </script>\n",
       "        "
      ]
     },
     "metadata": {},
     "output_type": "display_data"
    },
    {
     "data": {
      "text/html": [
       "<div>                            <div id=\"ad435b4c-b03b-4cf6-a21c-0788a9092f18\" class=\"plotly-graph-div\" style=\"height:525px; width:100%;\"></div>            <script type=\"text/javascript\">                require([\"plotly\"], function(Plotly) {                    window.PLOTLYENV=window.PLOTLYENV || {};                                    if (document.getElementById(\"ad435b4c-b03b-4cf6-a21c-0788a9092f18\")) {                    Plotly.newPlot(                        \"ad435b4c-b03b-4cf6-a21c-0788a9092f18\",                        [{\"coloraxis\":\"coloraxis\",\"name\":\"0\",\"x\":[\"Signal_Strength\",\"Latency\",\"Required_Bandwidth\",\"Allocated_Bandwidth\"],\"y\":[\"Signal_Strength\",\"Latency\",\"Required_Bandwidth\",\"Allocated_Bandwidth\"],\"z\":[[null,null,null,null],[null,null,null,null],[null,null,1.0,0.9990845692097512],[null,null,0.9990845692097512,1.0]],\"type\":\"heatmap\",\"xaxis\":\"x\",\"yaxis\":\"y\",\"hovertemplate\":\"x: %{x}\\u003cbr\\u003ey: %{y}\\u003cbr\\u003ecolor: %{z}\\u003cextra\\u003e\\u003c\\u002fextra\\u003e\"}],                        {\"template\":{\"data\":{\"histogram2dcontour\":[{\"type\":\"histogram2dcontour\",\"colorbar\":{\"outlinewidth\":0,\"ticks\":\"\"},\"colorscale\":[[0.0,\"#0d0887\"],[0.1111111111111111,\"#46039f\"],[0.2222222222222222,\"#7201a8\"],[0.3333333333333333,\"#9c179e\"],[0.4444444444444444,\"#bd3786\"],[0.5555555555555556,\"#d8576b\"],[0.6666666666666666,\"#ed7953\"],[0.7777777777777778,\"#fb9f3a\"],[0.8888888888888888,\"#fdca26\"],[1.0,\"#f0f921\"]]}],\"choropleth\":[{\"type\":\"choropleth\",\"colorbar\":{\"outlinewidth\":0,\"ticks\":\"\"}}],\"histogram2d\":[{\"type\":\"histogram2d\",\"colorbar\":{\"outlinewidth\":0,\"ticks\":\"\"},\"colorscale\":[[0.0,\"#0d0887\"],[0.1111111111111111,\"#46039f\"],[0.2222222222222222,\"#7201a8\"],[0.3333333333333333,\"#9c179e\"],[0.4444444444444444,\"#bd3786\"],[0.5555555555555556,\"#d8576b\"],[0.6666666666666666,\"#ed7953\"],[0.7777777777777778,\"#fb9f3a\"],[0.8888888888888888,\"#fdca26\"],[1.0,\"#f0f921\"]]}],\"heatmap\":[{\"type\":\"heatmap\",\"colorbar\":{\"outlinewidth\":0,\"ticks\":\"\"},\"colorscale\":[[0.0,\"#0d0887\"],[0.1111111111111111,\"#46039f\"],[0.2222222222222222,\"#7201a8\"],[0.3333333333333333,\"#9c179e\"],[0.4444444444444444,\"#bd3786\"],[0.5555555555555556,\"#d8576b\"],[0.6666666666666666,\"#ed7953\"],[0.7777777777777778,\"#fb9f3a\"],[0.8888888888888888,\"#fdca26\"],[1.0,\"#f0f921\"]]}],\"heatmapgl\":[{\"type\":\"heatmapgl\",\"colorbar\":{\"outlinewidth\":0,\"ticks\":\"\"},\"colorscale\":[[0.0,\"#0d0887\"],[0.1111111111111111,\"#46039f\"],[0.2222222222222222,\"#7201a8\"],[0.3333333333333333,\"#9c179e\"],[0.4444444444444444,\"#bd3786\"],[0.5555555555555556,\"#d8576b\"],[0.6666666666666666,\"#ed7953\"],[0.7777777777777778,\"#fb9f3a\"],[0.8888888888888888,\"#fdca26\"],[1.0,\"#f0f921\"]]}],\"contourcarpet\":[{\"type\":\"contourcarpet\",\"colorbar\":{\"outlinewidth\":0,\"ticks\":\"\"}}],\"contour\":[{\"type\":\"contour\",\"colorbar\":{\"outlinewidth\":0,\"ticks\":\"\"},\"colorscale\":[[0.0,\"#0d0887\"],[0.1111111111111111,\"#46039f\"],[0.2222222222222222,\"#7201a8\"],[0.3333333333333333,\"#9c179e\"],[0.4444444444444444,\"#bd3786\"],[0.5555555555555556,\"#d8576b\"],[0.6666666666666666,\"#ed7953\"],[0.7777777777777778,\"#fb9f3a\"],[0.8888888888888888,\"#fdca26\"],[1.0,\"#f0f921\"]]}],\"surface\":[{\"type\":\"surface\",\"colorbar\":{\"outlinewidth\":0,\"ticks\":\"\"},\"colorscale\":[[0.0,\"#0d0887\"],[0.1111111111111111,\"#46039f\"],[0.2222222222222222,\"#7201a8\"],[0.3333333333333333,\"#9c179e\"],[0.4444444444444444,\"#bd3786\"],[0.5555555555555556,\"#d8576b\"],[0.6666666666666666,\"#ed7953\"],[0.7777777777777778,\"#fb9f3a\"],[0.8888888888888888,\"#fdca26\"],[1.0,\"#f0f921\"]]}],\"mesh3d\":[{\"type\":\"mesh3d\",\"colorbar\":{\"outlinewidth\":0,\"ticks\":\"\"}}],\"scatter\":[{\"fillpattern\":{\"fillmode\":\"overlay\",\"size\":10,\"solidity\":0.2},\"type\":\"scatter\"}],\"parcoords\":[{\"type\":\"parcoords\",\"line\":{\"colorbar\":{\"outlinewidth\":0,\"ticks\":\"\"}}}],\"scatterpolargl\":[{\"type\":\"scatterpolargl\",\"marker\":{\"colorbar\":{\"outlinewidth\":0,\"ticks\":\"\"}}}],\"bar\":[{\"error_x\":{\"color\":\"#2a3f5f\"},\"error_y\":{\"color\":\"#2a3f5f\"},\"marker\":{\"line\":{\"color\":\"#E5ECF6\",\"width\":0.5},\"pattern\":{\"fillmode\":\"overlay\",\"size\":10,\"solidity\":0.2}},\"type\":\"bar\"}],\"scattergeo\":[{\"type\":\"scattergeo\",\"marker\":{\"colorbar\":{\"outlinewidth\":0,\"ticks\":\"\"}}}],\"scatterpolar\":[{\"type\":\"scatterpolar\",\"marker\":{\"colorbar\":{\"outlinewidth\":0,\"ticks\":\"\"}}}],\"histogram\":[{\"marker\":{\"pattern\":{\"fillmode\":\"overlay\",\"size\":10,\"solidity\":0.2}},\"type\":\"histogram\"}],\"scattergl\":[{\"type\":\"scattergl\",\"marker\":{\"colorbar\":{\"outlinewidth\":0,\"ticks\":\"\"}}}],\"scatter3d\":[{\"type\":\"scatter3d\",\"line\":{\"colorbar\":{\"outlinewidth\":0,\"ticks\":\"\"}},\"marker\":{\"colorbar\":{\"outlinewidth\":0,\"ticks\":\"\"}}}],\"scattermapbox\":[{\"type\":\"scattermapbox\",\"marker\":{\"colorbar\":{\"outlinewidth\":0,\"ticks\":\"\"}}}],\"scatterternary\":[{\"type\":\"scatterternary\",\"marker\":{\"colorbar\":{\"outlinewidth\":0,\"ticks\":\"\"}}}],\"scattercarpet\":[{\"type\":\"scattercarpet\",\"marker\":{\"colorbar\":{\"outlinewidth\":0,\"ticks\":\"\"}}}],\"carpet\":[{\"aaxis\":{\"endlinecolor\":\"#2a3f5f\",\"gridcolor\":\"white\",\"linecolor\":\"white\",\"minorgridcolor\":\"white\",\"startlinecolor\":\"#2a3f5f\"},\"baxis\":{\"endlinecolor\":\"#2a3f5f\",\"gridcolor\":\"white\",\"linecolor\":\"white\",\"minorgridcolor\":\"white\",\"startlinecolor\":\"#2a3f5f\"},\"type\":\"carpet\"}],\"table\":[{\"cells\":{\"fill\":{\"color\":\"#EBF0F8\"},\"line\":{\"color\":\"white\"}},\"header\":{\"fill\":{\"color\":\"#C8D4E3\"},\"line\":{\"color\":\"white\"}},\"type\":\"table\"}],\"barpolar\":[{\"marker\":{\"line\":{\"color\":\"#E5ECF6\",\"width\":0.5},\"pattern\":{\"fillmode\":\"overlay\",\"size\":10,\"solidity\":0.2}},\"type\":\"barpolar\"}],\"pie\":[{\"automargin\":true,\"type\":\"pie\"}]},\"layout\":{\"autotypenumbers\":\"strict\",\"colorway\":[\"#636efa\",\"#EF553B\",\"#00cc96\",\"#ab63fa\",\"#FFA15A\",\"#19d3f3\",\"#FF6692\",\"#B6E880\",\"#FF97FF\",\"#FECB52\"],\"font\":{\"color\":\"#2a3f5f\"},\"hovermode\":\"closest\",\"hoverlabel\":{\"align\":\"left\"},\"paper_bgcolor\":\"white\",\"plot_bgcolor\":\"#E5ECF6\",\"polar\":{\"bgcolor\":\"#E5ECF6\",\"angularaxis\":{\"gridcolor\":\"white\",\"linecolor\":\"white\",\"ticks\":\"\"},\"radialaxis\":{\"gridcolor\":\"white\",\"linecolor\":\"white\",\"ticks\":\"\"}},\"ternary\":{\"bgcolor\":\"#E5ECF6\",\"aaxis\":{\"gridcolor\":\"white\",\"linecolor\":\"white\",\"ticks\":\"\"},\"baxis\":{\"gridcolor\":\"white\",\"linecolor\":\"white\",\"ticks\":\"\"},\"caxis\":{\"gridcolor\":\"white\",\"linecolor\":\"white\",\"ticks\":\"\"}},\"coloraxis\":{\"colorbar\":{\"outlinewidth\":0,\"ticks\":\"\"}},\"colorscale\":{\"sequential\":[[0.0,\"#0d0887\"],[0.1111111111111111,\"#46039f\"],[0.2222222222222222,\"#7201a8\"],[0.3333333333333333,\"#9c179e\"],[0.4444444444444444,\"#bd3786\"],[0.5555555555555556,\"#d8576b\"],[0.6666666666666666,\"#ed7953\"],[0.7777777777777778,\"#fb9f3a\"],[0.8888888888888888,\"#fdca26\"],[1.0,\"#f0f921\"]],\"sequentialminus\":[[0.0,\"#0d0887\"],[0.1111111111111111,\"#46039f\"],[0.2222222222222222,\"#7201a8\"],[0.3333333333333333,\"#9c179e\"],[0.4444444444444444,\"#bd3786\"],[0.5555555555555556,\"#d8576b\"],[0.6666666666666666,\"#ed7953\"],[0.7777777777777778,\"#fb9f3a\"],[0.8888888888888888,\"#fdca26\"],[1.0,\"#f0f921\"]],\"diverging\":[[0,\"#8e0152\"],[0.1,\"#c51b7d\"],[0.2,\"#de77ae\"],[0.3,\"#f1b6da\"],[0.4,\"#fde0ef\"],[0.5,\"#f7f7f7\"],[0.6,\"#e6f5d0\"],[0.7,\"#b8e186\"],[0.8,\"#7fbc41\"],[0.9,\"#4d9221\"],[1,\"#276419\"]]},\"xaxis\":{\"gridcolor\":\"white\",\"linecolor\":\"white\",\"ticks\":\"\",\"title\":{\"standoff\":15},\"zerolinecolor\":\"white\",\"automargin\":true,\"zerolinewidth\":2},\"yaxis\":{\"gridcolor\":\"white\",\"linecolor\":\"white\",\"ticks\":\"\",\"title\":{\"standoff\":15},\"zerolinecolor\":\"white\",\"automargin\":true,\"zerolinewidth\":2},\"scene\":{\"xaxis\":{\"backgroundcolor\":\"#E5ECF6\",\"gridcolor\":\"white\",\"linecolor\":\"white\",\"showbackground\":true,\"ticks\":\"\",\"zerolinecolor\":\"white\",\"gridwidth\":2},\"yaxis\":{\"backgroundcolor\":\"#E5ECF6\",\"gridcolor\":\"white\",\"linecolor\":\"white\",\"showbackground\":true,\"ticks\":\"\",\"zerolinecolor\":\"white\",\"gridwidth\":2},\"zaxis\":{\"backgroundcolor\":\"#E5ECF6\",\"gridcolor\":\"white\",\"linecolor\":\"white\",\"showbackground\":true,\"ticks\":\"\",\"zerolinecolor\":\"white\",\"gridwidth\":2}},\"shapedefaults\":{\"line\":{\"color\":\"#2a3f5f\"}},\"annotationdefaults\":{\"arrowcolor\":\"#2a3f5f\",\"arrowhead\":0,\"arrowwidth\":1},\"geo\":{\"bgcolor\":\"white\",\"landcolor\":\"#E5ECF6\",\"subunitcolor\":\"white\",\"showland\":true,\"showlakes\":true,\"lakecolor\":\"white\"},\"title\":{\"x\":0.05},\"mapbox\":{\"style\":\"light\"}}},\"xaxis\":{\"anchor\":\"y\",\"domain\":[0.0,1.0],\"scaleanchor\":\"y\",\"constrain\":\"domain\"},\"yaxis\":{\"anchor\":\"x\",\"domain\":[0.0,1.0],\"autorange\":\"reversed\",\"constrain\":\"domain\"},\"coloraxis\":{\"colorscale\":[[0.0,\"#440154\"],[0.1111111111111111,\"#482878\"],[0.2222222222222222,\"#3e4989\"],[0.3333333333333333,\"#31688e\"],[0.4444444444444444,\"#26828e\"],[0.5555555555555556,\"#1f9e89\"],[0.6666666666666666,\"#35b779\"],[0.7777777777777778,\"#6ece58\"],[0.8888888888888888,\"#b5de2b\"],[1.0,\"#fde725\"]]},\"title\":{\"text\":\"Correlation Heatmap of Numeric Columns\"}},                        {\"responsive\": true}                    ).then(function(){\n",
       "                            \n",
       "var gd = document.getElementById('ad435b4c-b03b-4cf6-a21c-0788a9092f18');\n",
       "var x = new MutationObserver(function (mutations, observer) {{\n",
       "        var display = window.getComputedStyle(gd).display;\n",
       "        if (!display || display === 'none') {{\n",
       "            console.log([gd, 'removed!']);\n",
       "            Plotly.purge(gd);\n",
       "            observer.disconnect();\n",
       "        }}\n",
       "}});\n",
       "\n",
       "// Listen for the removal of the full notebook cells\n",
       "var notebookContainer = gd.closest('#notebook-container');\n",
       "if (notebookContainer) {{\n",
       "    x.observe(notebookContainer, {childList: true});\n",
       "}}\n",
       "\n",
       "// Listen for the clearing of the current output cell\n",
       "var outputEl = gd.closest('.output');\n",
       "if (outputEl) {{\n",
       "    x.observe(outputEl, {childList: true});\n",
       "}}\n",
       "\n",
       "                        })                };                });            </script>        </div>"
      ]
     },
     "metadata": {},
     "output_type": "display_data"
    }
   ],
   "source": [
    "import pandas as pd\n",
    "import plotly.express as px\n",
    "\n",
    "\n",
    "numeric_columns = ['Signal_Strength', 'Latency', 'Required_Bandwidth', 'Allocated_Bandwidth']\n",
    "df[numeric_columns] = df[numeric_columns].astype(float)\n",
    "\n",
    "# Calculate the correlation matrix\n",
    "correlation_matrix = df[numeric_columns].corr()\n",
    "\n",
    "# Create a heatmap to visualize the correlations\n",
    "fig = px.imshow(correlation_matrix,\n",
    "                x=numeric_columns,\n",
    "                y=numeric_columns,\n",
    "                color_continuous_scale='Viridis',\n",
    "                title='Correlation Heatmap of Numeric Columns')\n",
    "fig.show()\n"
   ]
  },
  {
   "cell_type": "code",
   "execution_count": 11,
   "id": "77a4d0ee",
   "metadata": {
    "execution": {
     "iopub.execute_input": "2023-09-04T13:23:33.719133Z",
     "iopub.status.busy": "2023-09-04T13:23:33.718464Z",
     "iopub.status.idle": "2023-09-04T13:23:33.938799Z",
     "shell.execute_reply": "2023-09-04T13:23:33.937933Z"
    },
    "papermill": {
     "duration": 0.233728,
     "end_time": "2023-09-04T13:23:33.941346",
     "exception": false,
     "start_time": "2023-09-04T13:23:33.707618",
     "status": "completed"
    },
    "tags": []
   },
   "outputs": [
    {
     "data": {
      "text/html": [
       "<div>                            <div id=\"f4764485-7081-49e7-ae33-8687ada43d14\" class=\"plotly-graph-div\" style=\"height:525px; width:100%;\"></div>            <script type=\"text/javascript\">                require([\"plotly\"], function(Plotly) {                    window.PLOTLYENV=window.PLOTLYENV || {};                                    if (document.getElementById(\"f4764485-7081-49e7-ae33-8687ada43d14\")) {                    Plotly.newPlot(                        \"f4764485-7081-49e7-ae33-8687ada43d14\",                        [{\"customdata\":[[\"User_1\"],[\"User_2\"],[\"User_3\"],[\"User_4\"],[\"User_5\"],[\"User_6\"],[\"User_7\"],[\"User_8\"],[\"User_9\"],[\"User_10\"],[\"User_11\"],[\"User_12\"],[\"User_13\"],[\"User_14\"],[\"User_15\"],[\"User_16\"],[\"User_17\"],[\"User_18\"],[\"User_19\"],[\"User_20\"],[\"User_21\"],[\"User_22\"],[\"User_23\"],[\"User_24\"],[\"User_25\"],[\"User_26\"],[\"User_27\"],[\"User_28\"],[\"User_29\"],[\"User_30\"],[\"User_31\"],[\"User_32\"],[\"User_33\"],[\"User_34\"],[\"User_35\"],[\"User_36\"],[\"User_37\"],[\"User_38\"],[\"User_39\"],[\"User_40\"],[\"User_41\"],[\"User_42\"],[\"User_43\"],[\"User_44\"],[\"User_45\"],[\"User_46\"],[\"User_47\"],[\"User_48\"],[\"User_49\"],[\"User_50\"],[\"User_51\"],[\"User_52\"],[\"User_53\"],[\"User_54\"],[\"User_55\"],[\"User_56\"],[\"User_57\"],[\"User_58\"],[\"User_59\"],[\"User_60\"],[\"User_61\"],[\"User_62\"],[\"User_63\"],[\"User_64\"],[\"User_65\"],[\"User_66\"],[\"User_67\"],[\"User_68\"],[\"User_69\"],[\"User_70\"],[\"User_71\"],[\"User_72\"],[\"User_73\"],[\"User_74\"],[\"User_75\"],[\"User_76\"],[\"User_77\"],[\"User_78\"],[\"User_79\"],[\"User_80\"],[\"User_81\"],[\"User_82\"],[\"User_83\"],[\"User_84\"],[\"User_85\"],[\"User_86\"],[\"User_87\"],[\"User_88\"],[\"User_89\"],[\"User_90\"],[\"User_91\"],[\"User_92\"],[\"User_93\"],[\"User_94\"],[\"User_95\"],[\"User_96\"],[\"User_97\"],[\"User_98\"],[\"User_99\"],[\"User_100\"],[\"User_101\"],[\"User_102\"],[\"User_103\"],[\"User_104\"],[\"User_105\"],[\"User_106\"],[\"User_107\"],[\"User_108\"],[\"User_109\"],[\"User_110\"],[\"User_111\"],[\"User_112\"],[\"User_113\"],[\"User_114\"],[\"User_115\"],[\"User_116\"],[\"User_117\"],[\"User_118\"],[\"User_119\"],[\"User_120\"],[\"User_121\"],[\"User_122\"],[\"User_123\"],[\"User_124\"],[\"User_125\"],[\"User_126\"],[\"User_127\"],[\"User_128\"],[\"User_129\"],[\"User_130\"],[\"User_131\"],[\"User_132\"],[\"User_133\"],[\"User_134\"],[\"User_135\"],[\"User_136\"],[\"User_137\"],[\"User_138\"],[\"User_139\"],[\"User_140\"],[\"User_141\"],[\"User_142\"],[\"User_143\"],[\"User_144\"],[\"User_145\"],[\"User_146\"],[\"User_147\"],[\"User_148\"],[\"User_149\"],[\"User_150\"],[\"User_151\"],[\"User_152\"],[\"User_153\"],[\"User_154\"],[\"User_155\"],[\"User_156\"],[\"User_157\"],[\"User_158\"],[\"User_159\"],[\"User_160\"],[\"User_161\"],[\"User_162\"],[\"User_163\"],[\"User_164\"],[\"User_165\"],[\"User_166\"],[\"User_167\"],[\"User_168\"],[\"User_169\"],[\"User_170\"],[\"User_171\"],[\"User_172\"],[\"User_173\"],[\"User_174\"],[\"User_175\"],[\"User_176\"],[\"User_177\"],[\"User_178\"],[\"User_179\"],[\"User_180\"],[\"User_181\"],[\"User_182\"],[\"User_183\"],[\"User_184\"],[\"User_185\"],[\"User_186\"],[\"User_187\"],[\"User_188\"],[\"User_189\"],[\"User_190\"],[\"User_191\"],[\"User_192\"],[\"User_193\"],[\"User_194\"],[\"User_195\"],[\"User_196\"],[\"User_197\"],[\"User_198\"],[\"User_199\"],[\"User_200\"],[\"User_201\"],[\"User_202\"],[\"User_203\"],[\"User_204\"],[\"User_205\"],[\"User_206\"],[\"User_207\"],[\"User_208\"],[\"User_209\"],[\"User_210\"],[\"User_211\"],[\"User_212\"],[\"User_213\"],[\"User_214\"],[\"User_215\"],[\"User_216\"],[\"User_217\"],[\"User_218\"],[\"User_219\"],[\"User_220\"],[\"User_221\"],[\"User_222\"],[\"User_223\"],[\"User_224\"],[\"User_225\"],[\"User_226\"],[\"User_227\"],[\"User_228\"],[\"User_229\"],[\"User_230\"],[\"User_231\"],[\"User_232\"],[\"User_233\"],[\"User_234\"],[\"User_235\"],[\"User_236\"],[\"User_237\"],[\"User_238\"],[\"User_239\"],[\"User_240\"],[\"User_241\"],[\"User_242\"],[\"User_243\"],[\"User_244\"],[\"User_245\"],[\"User_246\"],[\"User_247\"],[\"User_248\"],[\"User_249\"],[\"User_250\"],[\"User_251\"],[\"User_252\"],[\"User_253\"],[\"User_254\"],[\"User_255\"],[\"User_256\"],[\"User_257\"],[\"User_258\"],[\"User_259\"],[\"User_260\"],[\"User_261\"],[\"User_262\"],[\"User_263\"],[\"User_264\"],[\"User_265\"],[\"User_266\"],[\"User_267\"],[\"User_268\"],[\"User_269\"],[\"User_270\"],[\"User_271\"],[\"User_272\"],[\"User_273\"],[\"User_274\"],[\"User_275\"],[\"User_276\"],[\"User_277\"],[\"User_278\"],[\"User_279\"],[\"User_280\"],[\"User_281\"],[\"User_282\"],[\"User_283\"],[\"User_284\"],[\"User_285\"],[\"User_286\"],[\"User_287\"],[\"User_288\"],[\"User_289\"],[\"User_290\"],[\"User_291\"],[\"User_292\"],[\"User_293\"],[\"User_294\"],[\"User_295\"],[\"User_296\"],[\"User_297\"],[\"User_298\"],[\"User_299\"],[\"User_300\"],[\"User_301\"],[\"User_302\"],[\"User_303\"],[\"User_304\"],[\"User_305\"],[\"User_306\"],[\"User_307\"],[\"User_308\"],[\"User_309\"],[\"User_310\"],[\"User_311\"],[\"User_312\"],[\"User_313\"],[\"User_314\"],[\"User_315\"],[\"User_316\"],[\"User_317\"],[\"User_318\"],[\"User_319\"],[\"User_320\"],[\"User_321\"],[\"User_322\"],[\"User_323\"],[\"User_324\"],[\"User_325\"],[\"User_326\"],[\"User_327\"],[\"User_328\"],[\"User_329\"],[\"User_330\"],[\"User_331\"],[\"User_332\"],[\"User_333\"],[\"User_334\"],[\"User_335\"],[\"User_336\"],[\"User_337\"],[\"User_338\"],[\"User_339\"],[\"User_340\"],[\"User_341\"],[\"User_342\"],[\"User_343\"],[\"User_344\"],[\"User_345\"],[\"User_346\"],[\"User_347\"],[\"User_348\"],[\"User_349\"],[\"User_350\"],[\"User_351\"],[\"User_352\"],[\"User_353\"],[\"User_354\"],[\"User_355\"],[\"User_356\"],[\"User_357\"],[\"User_358\"],[\"User_359\"],[\"User_360\"],[\"User_361\"],[\"User_362\"],[\"User_363\"],[\"User_364\"],[\"User_365\"],[\"User_366\"],[\"User_367\"],[\"User_368\"],[\"User_369\"],[\"User_370\"],[\"User_371\"],[\"User_372\"],[\"User_373\"],[\"User_374\"],[\"User_375\"],[\"User_376\"],[\"User_377\"],[\"User_378\"],[\"User_379\"],[\"User_380\"],[\"User_381\"],[\"User_382\"],[\"User_383\"],[\"User_384\"],[\"User_385\"],[\"User_386\"],[\"User_387\"],[\"User_388\"],[\"User_389\"],[\"User_390\"],[\"User_391\"],[\"User_392\"],[\"User_393\"],[\"User_394\"],[\"User_395\"],[\"User_396\"],[\"User_397\"],[\"User_398\"],[\"User_399\"],[\"User_400\"]],\"hovertemplate\":\"Required_Bandwidth=%{x}\\u003cbr\\u003eAllocated_Bandwidth=%{y}\\u003cbr\\u003eUser_ID=%{customdata[0]}\\u003cbr\\u003eBandwidth_Allocation_Percentage=%{marker.color}\\u003cextra\\u003e\\u003c\\u002fextra\\u003e\",\"legendgroup\":\"\",\"marker\":{\"color\":[null,null,null,null,null,null,null,null,null,null,null,111.99999999999999,100.0,null,null,null,108.33333333333334,null,null,109.375,null,113.63636363636363,100.0,null,119.04761904761905,114.28571428571428,109.09090909090908,null,null,108.82352941176472,119.6078431372549,113.04347826086958,100.0,null,118.5185185185185,114.99999999999999,110.00000000000001,null,null,108.57142857142857,117.14285714285715,112.50000000000003,100.0,null,123.52941176470588,115.78947368421053,109.09090909090908,null,null,108.33333333333333,null,111.53846153846155,100.0,null,114.9532710280374,114.63414634146343,110.00000000000001,null,null,108.1081081081081,117.4757281553398,111.1111111111111,100.0,null,113.76146788990826,113.95348837209302,110.00000000000001,null,null,107.89473684210526,114.01869158878503,110.71428571428572,100.0,null,113.63636363636364,113.63636363636363,111.11111111111111,null,null,107.69230769230771,111.1111111111111,110.34482758620689,100.0,null,114.2857142857143,113.33333333333333,112.5,null,null,107.5,111.0091743119266,109.99999999999999,100.0,null,111.40350877192982,113.04347826086958,114.2857142857143,null,null,107.31707317073173,null,110.34482758620689,100.0,111.60714285714286,113.33333333333333,112.5,null,null,107.5,null,111.1111111111111,109.6774193548387,100.0,null,111.40350877192982,113.04347826086958,114.2857142857143,null,null,107.31707317073173,null,110.34482758620689,100.0,111.60714285714286,113.33333333333333,112.5,null,null,107.5,null,100.0,null,null,114.00000000000001,111.81818181818181,109.52380952380952,111.11111111111111,100.0,null,109.375,113.63636363636363,111.71171171171173,109.75609756097562,122.22222222222223,100.0,null,null,109.09090909090911,111.62790697674419,111.50442477876106,110.00000000000001,125.0,100.0,null,null,111.36363636363636,111.30434782608695,110.00000000000001,125.0,100.0,null,null,108.82352941176472,111.90476190476191,111.20689655172416,110.25641025641026,128.57142857142858,100.0,null,null,108.57142857142857,112.19512195121952,111.11111111111111,110.5263157894737,114.2857142857143,100.0,null,null,108.33333333333333,112.5,111.01694915254237,110.81081081081079,114.2857142857143,100.0,null,null,108.1081081081081,112.82051282051285,110.92436974789915,111.11111111111111,114.2857142857143,100.0,null,null,107.89473684210526,113.1578947368421,110.83333333333334,111.42857142857143,116.66666666666667,100.0,null,null,107.69230769230771,113.51351351351352,110.74380165289257,111.76470588235294,116.66666666666667,100.0,null,null,107.5,113.88888888888889,110.65573770491804,112.12121212121214,100.0,100.0,null,null,107.31707317073173,114.28571428571428,110.56910569105689,112.5,100.0,100.0,null,null,107.14285714285714,114.70588235294117,110.48387096774192,112.9032258064516,100.0,100.0,null,null,106.9767441860465,115.15151515151516,110.4,113.33333333333333,100.0,100.0,null,null,106.81818181818181,115.625,110.31746031746033,113.79310344827587,100.0,100.0,null,null,106.66666666666667,116.12903225806453,110.23622047244095,114.2857142857143,100.0,100.0,null,null,106.5217391304348,116.66666666666667,110.15625,114.81481481481481,100.0,100.0,null,null,106.38297872340425,117.24137931034481,110.07751937984496,115.38461538461537,100.0,100.0,null,null,106.25,117.85714285714286,110.00000000000001,115.99999999999999,100.0,100.0,null,null,106.12244897959184,118.5185185185185,109.92366412213741,116.66666666666667,100.0,100.0,null,null,106.0,119.23076923076923,109.84848484848486,117.3913043478261,100.0,100.0,null,null,105.88235294117649,120.0,109.77443609022555,118.18181818181816,100.0,100.0,null,null,105.76923076923077,120.83333333333333,109.70149253731343,119.04761904761905,100.0,100.0,null,null,105.66037735849056,121.73913043478262,109.62962962962963,120.0,100.0,100.0,null,null,105.55555555555556,122.72727272727273,109.55882352941177,121.05263157894737,100.0,100.0,null,null,105.45454545454544,123.80952380952381,109.48905109489051,122.22222222222223,100.0,100.0,null,null,105.35714285714286,125.0,109.42028985507247,123.52941176470588,100.0,100.0,null,null,105.26315789473684,126.3157894736842,109.3525179856115,125.0,100.0,100.0,null,null,105.17241379310344,127.77777777777777,109.28571428571429,126.66666666666666,100.0,100.0,null,null,105.08474576271185,129.41176470588235,109.21985815602837,128.57142857142858,100.0,100.0,null,null,105.0,131.25,109.1549295774648,130.76923076923077,100.0,100.0,null,null,104.91803278688525,133.33333333333331,109.09090909090908,133.33333333333334,100.0,100.0,null,null,104.83870967741935,135.71428571428572,109.02777777777777,136.36363636363635,100.0,100.0,null,null,104.76190476190477,138.46153846153845,108.9655172413793,140.0,100.0,100.0],\"coloraxis\":\"coloraxis\",\"symbol\":\"circle\"},\"mode\":\"markers\",\"name\":\"\",\"orientation\":\"v\",\"showlegend\":false,\"x\":[null,null,null,null,null,null,null,null,null,null,null,2.5,1.2,null,null,4.5,1.2,null,null,3.2,null,2.2,1.4,null,10.5,4.2,1.1,null,null,3.4,10.2,2.3,1.3,null,10.8,4.0,1.0,null,null,3.5,10.5,2.4,1.2,null,10.2,3.8,1.1,null,null,3.6,null,2.6,1.1,null,10.7,4.1,1.0,null,null,3.7,10.3,2.7,1.0,null,10.9,4.3,1.0,null,null,3.8,10.7,2.8,0.9,null,11.0,4.4,0.9,null,null,3.9,10.8,2.9,0.8,null,11.2,4.5,0.8,null,null,4.0,10.9,3.0,0.7,null,11.4,4.6,0.7,null,null,4.1,null,2.9,0.8,11.2,4.5,0.8,null,null,4.0,null,10.8,3.1,0.7,null,11.4,4.6,0.7,null,null,4.1,null,2.9,0.8,11.2,4.5,0.8,null,null,4.0,null,1.5,null,null,5.0,11.0,4.2,0.9,0.6,null,3.2,4.4,11.1,4.1,0.9,0.7,null,null,3.3,4.3,11.3,4.0,0.8,0.6,null,null,4.4,11.5,4.0,0.8,0.5,null,null,3.4,4.2,11.6,3.9,0.7,0.5,null,null,3.5,4.1,11.7,3.8,0.7,0.5,null,null,3.6,4.0,11.8,3.7,0.7,0.5,null,null,3.7,3.9,11.9,3.6,0.7,0.4,null,null,3.8,3.8,12.0,3.5,0.6,0.4,null,null,3.9,3.7,12.1,3.4,0.6,0.4,null,null,4.0,3.6,12.2,3.3,0.6,0.4,null,null,4.1,3.5,12.3,3.2,0.6,0.4,null,null,4.2,3.4,12.4,3.1,0.6,0.3,null,null,4.3,3.3,12.5,3.0,0.6,0.3,null,null,4.4,3.2,12.6,2.9,0.6,0.3,null,null,4.5,3.1,12.7,2.8,0.6,0.2,null,null,4.6,3.0,12.8,2.7,0.6,0.2,null,null,4.7,2.9,12.9,2.6,0.6,0.2,null,null,4.8,2.8,13.0,2.5,0.6,0.1,null,null,4.9,2.7,13.1,2.4,0.5,0.1,null,null,5.0,2.6,13.2,2.3,0.5,0.1,null,null,5.1,2.5,13.3,2.2,0.5,0.1,null,null,5.2,2.4,13.4,2.1,0.5,0.1,null,null,5.3,2.3,13.5,2.0,0.5,0.1,null,null,5.4,2.2,13.6,1.9,0.5,0.1,null,null,5.5,2.1,13.7,1.8,0.5,0.1,null,null,5.6,2.0,13.8,1.7,0.5,0.1,null,null,5.7,1.9,13.9,1.6,0.5,0.1,null,null,5.8,1.8,14.0,1.5,0.5,0.1,null,null,5.9,1.7,14.1,1.4,0.4,0.1,null,null,6.0,1.6,14.2,1.3,0.4,0.1,null,null,6.1,1.5,14.3,1.2,0.4,0.1,null,null,6.2,1.4,14.4,1.1,0.4,0.1,null,null,6.3,1.3,14.5,1.0,0.4,0.1],\"xaxis\":\"x\",\"y\":[null,null,null,1.5,null,null,null,null,3.5,null,null,2.8,1.2,null,null,null,1.3,null,null,3.5,null,2.5,1.4,null,12.5,4.8,1.2,null,null,3.7,12.2,2.6,1.3,null,12.8,4.6,1.1,null,null,3.8,12.3,2.7,1.2,null,12.6,4.4,1.2,null,null,3.9,12.5,2.9,1.1,null,12.3,4.7,1.1,null,null,4.0,12.1,3.0,1.0,null,12.4,4.9,1.1,null,null,4.1,12.2,3.1,0.9,null,12.5,5.0,1.0,null,null,4.2,12.0,3.2,0.8,null,12.8,5.1,0.9,null,null,4.3,12.1,3.3,0.7,null,12.7,5.2,0.8,null,null,4.4,null,3.2,0.8,12.5,5.1,0.9,null,null,4.3,null,12.0,3.4,0.7,null,12.7,5.2,0.8,null,null,4.4,null,3.2,0.8,12.5,5.1,0.9,null,null,4.3,null,1.5,null,null,5.7,12.3,4.6,1.0,0.6,null,3.5,5.0,12.4,4.5,1.1,0.7,null,null,3.6,4.8,12.6,4.4,1.0,0.6,null,null,4.9,12.8,4.4,1.0,0.5,null,null,3.7,4.7,12.9,4.3,0.9,0.5,null,null,3.8,4.6,13.0,4.2,0.8,0.5,null,null,3.9,4.5,13.1,4.1,0.8,0.5,null,null,4.0,4.4,13.2,4.0,0.8,0.4,null,null,4.1,4.3,13.3,3.9,0.7,0.4,null,null,4.2,4.2,13.4,3.8,0.7,0.4,null,null,4.3,4.1,13.5,3.7,0.6,0.4,null,null,4.4,4.0,13.6,3.6,0.6,0.4,null,null,4.5,3.9,13.7,3.5,0.6,0.3,null,null,4.6,3.8,13.8,3.4,0.6,0.3,null,null,4.7,3.7,13.9,3.3,0.6,0.3,null,null,4.8,3.6,14.0,3.2,0.6,0.2,null,null,4.9,3.5,14.1,3.1,0.6,0.2,null,null,5.0,3.4,14.2,3.0,0.6,0.2,null,null,5.1,3.3,14.3,2.9,0.6,0.1,null,null,5.2,3.2,14.4,2.8,0.5,0.1,null,null,5.3,3.1,14.5,2.7,0.5,0.1,null,null,5.4,3.0,14.6,2.6,0.5,0.1,null,null,5.5,2.9,14.7,2.5,0.5,0.1,null,null,5.6,2.8,14.8,2.4,0.5,0.1,null,null,5.7,2.7,14.9,2.3,0.5,0.1,null,null,5.8,2.6,15.0,2.2,0.5,0.1,null,null,5.9,2.5,15.1,2.1,0.5,0.1,null,null,6.0,2.4,15.2,2.0,0.5,0.1,null,null,6.1,2.3,15.3,1.9,0.5,0.1,null,null,6.2,2.2,15.4,1.8,0.4,0.1,null,null,6.3,2.1,15.5,1.7,0.4,0.1,null,null,6.4,2.0,15.6,1.6,0.4,0.1,null,null,6.5,1.9,15.7,1.5,0.4,0.1,null,null,6.6,1.8,15.8,1.4,0.4,0.1],\"yaxis\":\"y\",\"type\":\"scatter\"}],                        {\"template\":{\"data\":{\"histogram2dcontour\":[{\"type\":\"histogram2dcontour\",\"colorbar\":{\"outlinewidth\":0,\"ticks\":\"\"},\"colorscale\":[[0.0,\"#0d0887\"],[0.1111111111111111,\"#46039f\"],[0.2222222222222222,\"#7201a8\"],[0.3333333333333333,\"#9c179e\"],[0.4444444444444444,\"#bd3786\"],[0.5555555555555556,\"#d8576b\"],[0.6666666666666666,\"#ed7953\"],[0.7777777777777778,\"#fb9f3a\"],[0.8888888888888888,\"#fdca26\"],[1.0,\"#f0f921\"]]}],\"choropleth\":[{\"type\":\"choropleth\",\"colorbar\":{\"outlinewidth\":0,\"ticks\":\"\"}}],\"histogram2d\":[{\"type\":\"histogram2d\",\"colorbar\":{\"outlinewidth\":0,\"ticks\":\"\"},\"colorscale\":[[0.0,\"#0d0887\"],[0.1111111111111111,\"#46039f\"],[0.2222222222222222,\"#7201a8\"],[0.3333333333333333,\"#9c179e\"],[0.4444444444444444,\"#bd3786\"],[0.5555555555555556,\"#d8576b\"],[0.6666666666666666,\"#ed7953\"],[0.7777777777777778,\"#fb9f3a\"],[0.8888888888888888,\"#fdca26\"],[1.0,\"#f0f921\"]]}],\"heatmap\":[{\"type\":\"heatmap\",\"colorbar\":{\"outlinewidth\":0,\"ticks\":\"\"},\"colorscale\":[[0.0,\"#0d0887\"],[0.1111111111111111,\"#46039f\"],[0.2222222222222222,\"#7201a8\"],[0.3333333333333333,\"#9c179e\"],[0.4444444444444444,\"#bd3786\"],[0.5555555555555556,\"#d8576b\"],[0.6666666666666666,\"#ed7953\"],[0.7777777777777778,\"#fb9f3a\"],[0.8888888888888888,\"#fdca26\"],[1.0,\"#f0f921\"]]}],\"heatmapgl\":[{\"type\":\"heatmapgl\",\"colorbar\":{\"outlinewidth\":0,\"ticks\":\"\"},\"colorscale\":[[0.0,\"#0d0887\"],[0.1111111111111111,\"#46039f\"],[0.2222222222222222,\"#7201a8\"],[0.3333333333333333,\"#9c179e\"],[0.4444444444444444,\"#bd3786\"],[0.5555555555555556,\"#d8576b\"],[0.6666666666666666,\"#ed7953\"],[0.7777777777777778,\"#fb9f3a\"],[0.8888888888888888,\"#fdca26\"],[1.0,\"#f0f921\"]]}],\"contourcarpet\":[{\"type\":\"contourcarpet\",\"colorbar\":{\"outlinewidth\":0,\"ticks\":\"\"}}],\"contour\":[{\"type\":\"contour\",\"colorbar\":{\"outlinewidth\":0,\"ticks\":\"\"},\"colorscale\":[[0.0,\"#0d0887\"],[0.1111111111111111,\"#46039f\"],[0.2222222222222222,\"#7201a8\"],[0.3333333333333333,\"#9c179e\"],[0.4444444444444444,\"#bd3786\"],[0.5555555555555556,\"#d8576b\"],[0.6666666666666666,\"#ed7953\"],[0.7777777777777778,\"#fb9f3a\"],[0.8888888888888888,\"#fdca26\"],[1.0,\"#f0f921\"]]}],\"surface\":[{\"type\":\"surface\",\"colorbar\":{\"outlinewidth\":0,\"ticks\":\"\"},\"colorscale\":[[0.0,\"#0d0887\"],[0.1111111111111111,\"#46039f\"],[0.2222222222222222,\"#7201a8\"],[0.3333333333333333,\"#9c179e\"],[0.4444444444444444,\"#bd3786\"],[0.5555555555555556,\"#d8576b\"],[0.6666666666666666,\"#ed7953\"],[0.7777777777777778,\"#fb9f3a\"],[0.8888888888888888,\"#fdca26\"],[1.0,\"#f0f921\"]]}],\"mesh3d\":[{\"type\":\"mesh3d\",\"colorbar\":{\"outlinewidth\":0,\"ticks\":\"\"}}],\"scatter\":[{\"fillpattern\":{\"fillmode\":\"overlay\",\"size\":10,\"solidity\":0.2},\"type\":\"scatter\"}],\"parcoords\":[{\"type\":\"parcoords\",\"line\":{\"colorbar\":{\"outlinewidth\":0,\"ticks\":\"\"}}}],\"scatterpolargl\":[{\"type\":\"scatterpolargl\",\"marker\":{\"colorbar\":{\"outlinewidth\":0,\"ticks\":\"\"}}}],\"bar\":[{\"error_x\":{\"color\":\"#2a3f5f\"},\"error_y\":{\"color\":\"#2a3f5f\"},\"marker\":{\"line\":{\"color\":\"#E5ECF6\",\"width\":0.5},\"pattern\":{\"fillmode\":\"overlay\",\"size\":10,\"solidity\":0.2}},\"type\":\"bar\"}],\"scattergeo\":[{\"type\":\"scattergeo\",\"marker\":{\"colorbar\":{\"outlinewidth\":0,\"ticks\":\"\"}}}],\"scatterpolar\":[{\"type\":\"scatterpolar\",\"marker\":{\"colorbar\":{\"outlinewidth\":0,\"ticks\":\"\"}}}],\"histogram\":[{\"marker\":{\"pattern\":{\"fillmode\":\"overlay\",\"size\":10,\"solidity\":0.2}},\"type\":\"histogram\"}],\"scattergl\":[{\"type\":\"scattergl\",\"marker\":{\"colorbar\":{\"outlinewidth\":0,\"ticks\":\"\"}}}],\"scatter3d\":[{\"type\":\"scatter3d\",\"line\":{\"colorbar\":{\"outlinewidth\":0,\"ticks\":\"\"}},\"marker\":{\"colorbar\":{\"outlinewidth\":0,\"ticks\":\"\"}}}],\"scattermapbox\":[{\"type\":\"scattermapbox\",\"marker\":{\"colorbar\":{\"outlinewidth\":0,\"ticks\":\"\"}}}],\"scatterternary\":[{\"type\":\"scatterternary\",\"marker\":{\"colorbar\":{\"outlinewidth\":0,\"ticks\":\"\"}}}],\"scattercarpet\":[{\"type\":\"scattercarpet\",\"marker\":{\"colorbar\":{\"outlinewidth\":0,\"ticks\":\"\"}}}],\"carpet\":[{\"aaxis\":{\"endlinecolor\":\"#2a3f5f\",\"gridcolor\":\"white\",\"linecolor\":\"white\",\"minorgridcolor\":\"white\",\"startlinecolor\":\"#2a3f5f\"},\"baxis\":{\"endlinecolor\":\"#2a3f5f\",\"gridcolor\":\"white\",\"linecolor\":\"white\",\"minorgridcolor\":\"white\",\"startlinecolor\":\"#2a3f5f\"},\"type\":\"carpet\"}],\"table\":[{\"cells\":{\"fill\":{\"color\":\"#EBF0F8\"},\"line\":{\"color\":\"white\"}},\"header\":{\"fill\":{\"color\":\"#C8D4E3\"},\"line\":{\"color\":\"white\"}},\"type\":\"table\"}],\"barpolar\":[{\"marker\":{\"line\":{\"color\":\"#E5ECF6\",\"width\":0.5},\"pattern\":{\"fillmode\":\"overlay\",\"size\":10,\"solidity\":0.2}},\"type\":\"barpolar\"}],\"pie\":[{\"automargin\":true,\"type\":\"pie\"}]},\"layout\":{\"autotypenumbers\":\"strict\",\"colorway\":[\"#636efa\",\"#EF553B\",\"#00cc96\",\"#ab63fa\",\"#FFA15A\",\"#19d3f3\",\"#FF6692\",\"#B6E880\",\"#FF97FF\",\"#FECB52\"],\"font\":{\"color\":\"#2a3f5f\"},\"hovermode\":\"closest\",\"hoverlabel\":{\"align\":\"left\"},\"paper_bgcolor\":\"white\",\"plot_bgcolor\":\"#E5ECF6\",\"polar\":{\"bgcolor\":\"#E5ECF6\",\"angularaxis\":{\"gridcolor\":\"white\",\"linecolor\":\"white\",\"ticks\":\"\"},\"radialaxis\":{\"gridcolor\":\"white\",\"linecolor\":\"white\",\"ticks\":\"\"}},\"ternary\":{\"bgcolor\":\"#E5ECF6\",\"aaxis\":{\"gridcolor\":\"white\",\"linecolor\":\"white\",\"ticks\":\"\"},\"baxis\":{\"gridcolor\":\"white\",\"linecolor\":\"white\",\"ticks\":\"\"},\"caxis\":{\"gridcolor\":\"white\",\"linecolor\":\"white\",\"ticks\":\"\"}},\"coloraxis\":{\"colorbar\":{\"outlinewidth\":0,\"ticks\":\"\"}},\"colorscale\":{\"sequential\":[[0.0,\"#0d0887\"],[0.1111111111111111,\"#46039f\"],[0.2222222222222222,\"#7201a8\"],[0.3333333333333333,\"#9c179e\"],[0.4444444444444444,\"#bd3786\"],[0.5555555555555556,\"#d8576b\"],[0.6666666666666666,\"#ed7953\"],[0.7777777777777778,\"#fb9f3a\"],[0.8888888888888888,\"#fdca26\"],[1.0,\"#f0f921\"]],\"sequentialminus\":[[0.0,\"#0d0887\"],[0.1111111111111111,\"#46039f\"],[0.2222222222222222,\"#7201a8\"],[0.3333333333333333,\"#9c179e\"],[0.4444444444444444,\"#bd3786\"],[0.5555555555555556,\"#d8576b\"],[0.6666666666666666,\"#ed7953\"],[0.7777777777777778,\"#fb9f3a\"],[0.8888888888888888,\"#fdca26\"],[1.0,\"#f0f921\"]],\"diverging\":[[0,\"#8e0152\"],[0.1,\"#c51b7d\"],[0.2,\"#de77ae\"],[0.3,\"#f1b6da\"],[0.4,\"#fde0ef\"],[0.5,\"#f7f7f7\"],[0.6,\"#e6f5d0\"],[0.7,\"#b8e186\"],[0.8,\"#7fbc41\"],[0.9,\"#4d9221\"],[1,\"#276419\"]]},\"xaxis\":{\"gridcolor\":\"white\",\"linecolor\":\"white\",\"ticks\":\"\",\"title\":{\"standoff\":15},\"zerolinecolor\":\"white\",\"automargin\":true,\"zerolinewidth\":2},\"yaxis\":{\"gridcolor\":\"white\",\"linecolor\":\"white\",\"ticks\":\"\",\"title\":{\"standoff\":15},\"zerolinecolor\":\"white\",\"automargin\":true,\"zerolinewidth\":2},\"scene\":{\"xaxis\":{\"backgroundcolor\":\"#E5ECF6\",\"gridcolor\":\"white\",\"linecolor\":\"white\",\"showbackground\":true,\"ticks\":\"\",\"zerolinecolor\":\"white\",\"gridwidth\":2},\"yaxis\":{\"backgroundcolor\":\"#E5ECF6\",\"gridcolor\":\"white\",\"linecolor\":\"white\",\"showbackground\":true,\"ticks\":\"\",\"zerolinecolor\":\"white\",\"gridwidth\":2},\"zaxis\":{\"backgroundcolor\":\"#E5ECF6\",\"gridcolor\":\"white\",\"linecolor\":\"white\",\"showbackground\":true,\"ticks\":\"\",\"zerolinecolor\":\"white\",\"gridwidth\":2}},\"shapedefaults\":{\"line\":{\"color\":\"#2a3f5f\"}},\"annotationdefaults\":{\"arrowcolor\":\"#2a3f5f\",\"arrowhead\":0,\"arrowwidth\":1},\"geo\":{\"bgcolor\":\"white\",\"landcolor\":\"#E5ECF6\",\"subunitcolor\":\"white\",\"showland\":true,\"showlakes\":true,\"lakecolor\":\"white\"},\"title\":{\"x\":0.05},\"mapbox\":{\"style\":\"light\"}}},\"xaxis\":{\"anchor\":\"y\",\"domain\":[0.0,1.0],\"title\":{\"text\":\"Required_Bandwidth\"}},\"yaxis\":{\"anchor\":\"x\",\"domain\":[0.0,1.0],\"title\":{\"text\":\"Allocated_Bandwidth\"}},\"coloraxis\":{\"colorbar\":{\"title\":{\"text\":\"Bandwidth_Allocation_Percentage\"}},\"colorscale\":[[0.0,\"#0d0887\"],[0.1111111111111111,\"#46039f\"],[0.2222222222222222,\"#7201a8\"],[0.3333333333333333,\"#9c179e\"],[0.4444444444444444,\"#bd3786\"],[0.5555555555555556,\"#d8576b\"],[0.6666666666666666,\"#ed7953\"],[0.7777777777777778,\"#fb9f3a\"],[0.8888888888888888,\"#fdca26\"],[1.0,\"#f0f921\"]]},\"legend\":{\"tracegroupgap\":0},\"title\":{\"text\":\"Bandwidth Allocation Analysis\"}},                        {\"responsive\": true}                    ).then(function(){\n",
       "                            \n",
       "var gd = document.getElementById('f4764485-7081-49e7-ae33-8687ada43d14');\n",
       "var x = new MutationObserver(function (mutations, observer) {{\n",
       "        var display = window.getComputedStyle(gd).display;\n",
       "        if (!display || display === 'none') {{\n",
       "            console.log([gd, 'removed!']);\n",
       "            Plotly.purge(gd);\n",
       "            observer.disconnect();\n",
       "        }}\n",
       "}});\n",
       "\n",
       "// Listen for the removal of the full notebook cells\n",
       "var notebookContainer = gd.closest('#notebook-container');\n",
       "if (notebookContainer) {{\n",
       "    x.observe(notebookContainer, {childList: true});\n",
       "}}\n",
       "\n",
       "// Listen for the clearing of the current output cell\n",
       "var outputEl = gd.closest('.output');\n",
       "if (outputEl) {{\n",
       "    x.observe(outputEl, {childList: true});\n",
       "}}\n",
       "\n",
       "                        })                };                });            </script>        </div>"
      ]
     },
     "metadata": {},
     "output_type": "display_data"
    }
   ],
   "source": [
    "import plotly.express as px\n",
    "\n",
    "# Assuming you have already loaded your dataset into a DataFrame called 'df'\n",
    "\n",
    "# Convert bandwidth columns to numeric data types\n",
    "df['Required_Bandwidth'] = pd.to_numeric(df['Required_Bandwidth'])\n",
    "df['Allocated_Bandwidth'] = pd.to_numeric(df['Allocated_Bandwidth'])\n",
    "\n",
    "# Calculate the percentage of allocated bandwidth compared to required bandwidth\n",
    "df['Bandwidth_Allocation_Percentage'] = (df['Allocated_Bandwidth'] / df['Required_Bandwidth']) * 100\n",
    "\n",
    "# Create a scatter plot to visualize bandwidth allocation percentages\n",
    "fig = px.scatter(df, x='Required_Bandwidth', y='Allocated_Bandwidth',\n",
    "                 color='Bandwidth_Allocation_Percentage', hover_data=['User_ID'],\n",
    "                 title='Bandwidth Allocation Analysis')\n",
    "fig.show()\n"
   ]
  },
  {
   "cell_type": "code",
   "execution_count": 12,
   "id": "d752453c",
   "metadata": {
    "execution": {
     "iopub.execute_input": "2023-09-04T13:23:33.963441Z",
     "iopub.status.busy": "2023-09-04T13:23:33.962224Z",
     "iopub.status.idle": "2023-09-04T13:23:34.126473Z",
     "shell.execute_reply": "2023-09-04T13:23:34.125180Z"
    },
    "papermill": {
     "duration": 0.178074,
     "end_time": "2023-09-04T13:23:34.129313",
     "exception": false,
     "start_time": "2023-09-04T13:23:33.951239",
     "status": "completed"
    },
    "tags": []
   },
   "outputs": [
    {
     "data": {
      "text/html": [
       "<div>                            <div id=\"6d188393-5025-421c-8cd6-33e2512f5c0d\" class=\"plotly-graph-div\" style=\"height:525px; width:100%;\"></div>            <script type=\"text/javascript\">                require([\"plotly\"], function(Plotly) {                    window.PLOTLYENV=window.PLOTLYENV || {};                                    if (document.getElementById(\"6d188393-5025-421c-8cd6-33e2512f5c0d\")) {                    Plotly.newPlot(                        \"6d188393-5025-421c-8cd6-33e2512f5c0d\",                        [{\"alignmentgroup\":\"True\",\"hovertemplate\":\"Application_Type=%{x}\\u003cbr\\u003ecount=%{y}\\u003cextra\\u003e\\u003c\\u002fextra\\u003e\",\"legendgroup\":\"Video_Call\",\"marker\":{\"color\":\"#636efa\",\"pattern\":{\"shape\":\"\"}},\"name\":\"Video_Call\",\"offsetgroup\":\"Video_Call\",\"orientation\":\"v\",\"showlegend\":true,\"textposition\":\"auto\",\"x\":[\"Video_Call\",\"Video_Call\",\"Video_Call\",\"Video_Call\",\"Video_Call\",\"Video_Call\",\"Video_Call\",\"Video_Call\",\"Video_Call\",\"Video_Call\",\"Video_Call\",\"Video_Call\",\"Video_Call\",\"Video_Call\",\"Video_Call\",\"Video_Call\",\"Video_Call\",\"Video_Call\",\"Video_Call\",\"Video_Call\",\"Video_Call\",\"Video_Call\",\"Video_Call\",\"Video_Call\",\"Video_Call\",\"Video_Call\",\"Video_Call\",\"Video_Call\",\"Video_Call\",\"Video_Call\",\"Video_Call\",\"Video_Call\",\"Video_Call\",\"Video_Call\",\"Video_Call\",\"Video_Call\",\"Video_Call\",\"Video_Call\",\"Video_Call\",\"Video_Call\",\"Video_Call\",\"Video_Call\",\"Video_Call\",\"Video_Call\",\"Video_Call\",\"Video_Call\",\"Video_Call\",\"Video_Call\",\"Video_Call\",\"Video_Call\",\"Video_Call\",\"Video_Call\",\"Video_Call\",\"Video_Call\",\"Video_Call\",\"Video_Call\",\"Video_Call\",\"Video_Call\"],\"xaxis\":\"x\",\"y\":[1,1,1,1,1,1,1,1,1,1,1,1,1,1,1,1,1,1,1,1,1,1,1,1,1,1,1,1,1,1,1,1,1,1,1,1,1,1,1,1,1,1,1,1,1,1,1,1,1,1,1,1,1,1,1,1,1,1],\"yaxis\":\"y\",\"type\":\"bar\"},{\"alignmentgroup\":\"True\",\"hovertemplate\":\"Application_Type=%{x}\\u003cbr\\u003ecount=%{y}\\u003cextra\\u003e\\u003c\\u002fextra\\u003e\",\"legendgroup\":\"Voice_Call\",\"marker\":{\"color\":\"#EF553B\",\"pattern\":{\"shape\":\"\"}},\"name\":\"Voice_Call\",\"offsetgroup\":\"Voice_Call\",\"orientation\":\"v\",\"showlegend\":true,\"textposition\":\"auto\",\"x\":[\"Voice_Call\"],\"xaxis\":\"x\",\"y\":[1],\"yaxis\":\"y\",\"type\":\"bar\"},{\"alignmentgroup\":\"True\",\"hovertemplate\":\"Application_Type=%{x}\\u003cbr\\u003ecount=%{y}\\u003cextra\\u003e\\u003c\\u002fextra\\u003e\",\"legendgroup\":\"Streaming\",\"marker\":{\"color\":\"#00cc96\",\"pattern\":{\"shape\":\"\"}},\"name\":\"Streaming\",\"offsetgroup\":\"Streaming\",\"orientation\":\"v\",\"showlegend\":true,\"textposition\":\"auto\",\"x\":[\"Streaming\",\"Streaming\",\"Streaming\",\"Streaming\",\"Streaming\",\"Streaming\",\"Streaming\",\"Streaming\",\"Streaming\",\"Streaming\",\"Streaming\",\"Streaming\",\"Streaming\",\"Streaming\",\"Streaming\",\"Streaming\",\"Streaming\",\"Streaming\",\"Streaming\",\"Streaming\",\"Streaming\",\"Streaming\",\"Streaming\",\"Streaming\",\"Streaming\",\"Streaming\",\"Streaming\",\"Streaming\",\"Streaming\",\"Streaming\",\"Streaming\",\"Streaming\",\"Streaming\",\"Streaming\",\"Streaming\",\"Streaming\",\"Streaming\",\"Streaming\",\"Streaming\",\"Streaming\",\"Streaming\",\"Streaming\",\"Streaming\",\"Streaming\",\"Streaming\",\"Streaming\",\"Streaming\"],\"xaxis\":\"x\",\"y\":[1,1,1,1,1,1,1,1,1,1,1,1,1,1,1,1,1,1,1,1,1,1,1,1,1,1,1,1,1,1,1,1,1,1,1,1,1,1,1,1,1,1,1,1,1,1,1],\"yaxis\":\"y\",\"type\":\"bar\"},{\"alignmentgroup\":\"True\",\"hovertemplate\":\"Application_Type=%{x}\\u003cbr\\u003ecount=%{y}\\u003cextra\\u003e\\u003c\\u002fextra\\u003e\",\"legendgroup\":\"Emergency_Service\",\"marker\":{\"color\":\"#ab63fa\",\"pattern\":{\"shape\":\"\"}},\"name\":\"Emergency_Service\",\"offsetgroup\":\"Emergency_Service\",\"orientation\":\"v\",\"showlegend\":true,\"textposition\":\"auto\",\"x\":[\"Emergency_Service\",\"Emergency_Service\",\"Emergency_Service\",\"Emergency_Service\",\"Emergency_Service\",\"Emergency_Service\",\"Emergency_Service\",\"Emergency_Service\",\"Emergency_Service\",\"Emergency_Service\",\"Emergency_Service\",\"Emergency_Service\",\"Emergency_Service\",\"Emergency_Service\",\"Emergency_Service\",\"Emergency_Service\",\"Emergency_Service\",\"Emergency_Service\",\"Emergency_Service\",\"Emergency_Service\",\"Emergency_Service\",\"Emergency_Service\",\"Emergency_Service\",\"Emergency_Service\",\"Emergency_Service\",\"Emergency_Service\",\"Emergency_Service\",\"Emergency_Service\",\"Emergency_Service\",\"Emergency_Service\",\"Emergency_Service\",\"Emergency_Service\",\"Emergency_Service\",\"Emergency_Service\",\"Emergency_Service\",\"Emergency_Service\",\"Emergency_Service\",\"Emergency_Service\",\"Emergency_Service\",\"Emergency_Service\",\"Emergency_Service\",\"Emergency_Service\",\"Emergency_Service\",\"Emergency_Service\",\"Emergency_Service\",\"Emergency_Service\",\"Emergency_Service\"],\"xaxis\":\"x\",\"y\":[1,1,1,1,1,1,1,1,1,1,1,1,1,1,1,1,1,1,1,1,1,1,1,1,1,1,1,1,1,1,1,1,1,1,1,1,1,1,1,1,1,1,1,1,1,1,1],\"yaxis\":\"y\",\"type\":\"bar\"},{\"alignmentgroup\":\"True\",\"hovertemplate\":\"Application_Type=%{x}\\u003cbr\\u003ecount=%{y}\\u003cextra\\u003e\\u003c\\u002fextra\\u003e\",\"legendgroup\":\"Online_Gaming\",\"marker\":{\"color\":\"#FFA15A\",\"pattern\":{\"shape\":\"\"}},\"name\":\"Online_Gaming\",\"offsetgroup\":\"Online_Gaming\",\"orientation\":\"v\",\"showlegend\":true,\"textposition\":\"auto\",\"x\":[\"Online_Gaming\",\"Online_Gaming\",\"Online_Gaming\",\"Online_Gaming\",\"Online_Gaming\",\"Online_Gaming\",\"Online_Gaming\",\"Online_Gaming\",\"Online_Gaming\",\"Online_Gaming\",\"Online_Gaming\",\"Online_Gaming\",\"Online_Gaming\",\"Online_Gaming\",\"Online_Gaming\",\"Online_Gaming\",\"Online_Gaming\",\"Online_Gaming\",\"Online_Gaming\",\"Online_Gaming\",\"Online_Gaming\",\"Online_Gaming\",\"Online_Gaming\",\"Online_Gaming\",\"Online_Gaming\",\"Online_Gaming\",\"Online_Gaming\",\"Online_Gaming\",\"Online_Gaming\",\"Online_Gaming\",\"Online_Gaming\",\"Online_Gaming\",\"Online_Gaming\",\"Online_Gaming\",\"Online_Gaming\",\"Online_Gaming\",\"Online_Gaming\",\"Online_Gaming\",\"Online_Gaming\",\"Online_Gaming\",\"Online_Gaming\",\"Online_Gaming\",\"Online_Gaming\",\"Online_Gaming\",\"Online_Gaming\"],\"xaxis\":\"x\",\"y\":[1,1,1,1,1,1,1,1,1,1,1,1,1,1,1,1,1,1,1,1,1,1,1,1,1,1,1,1,1,1,1,1,1,1,1,1,1,1,1,1,1,1,1,1,1],\"yaxis\":\"y\",\"type\":\"bar\"},{\"alignmentgroup\":\"True\",\"hovertemplate\":\"Application_Type=%{x}\\u003cbr\\u003ecount=%{y}\\u003cextra\\u003e\\u003c\\u002fextra\\u003e\",\"legendgroup\":\"Background_Download\",\"marker\":{\"color\":\"#19d3f3\",\"pattern\":{\"shape\":\"\"}},\"name\":\"Background_Download\",\"offsetgroup\":\"Background_Download\",\"orientation\":\"v\",\"showlegend\":true,\"textposition\":\"auto\",\"x\":[\"Background_Download\",\"Background_Download\",\"Background_Download\",\"Background_Download\",\"Background_Download\",\"Background_Download\",\"Background_Download\",\"Background_Download\",\"Background_Download\",\"Background_Download\",\"Background_Download\",\"Background_Download\",\"Background_Download\",\"Background_Download\",\"Background_Download\",\"Background_Download\",\"Background_Download\",\"Background_Download\",\"Background_Download\",\"Background_Download\",\"Background_Download\",\"Background_Download\",\"Background_Download\",\"Background_Download\",\"Background_Download\",\"Background_Download\",\"Background_Download\",\"Background_Download\",\"Background_Download\",\"Background_Download\",\"Background_Download\",\"Background_Download\",\"Background_Download\",\"Background_Download\",\"Background_Download\",\"Background_Download\",\"Background_Download\",\"Background_Download\",\"Background_Download\",\"Background_Download\",\"Background_Download\",\"Background_Download\",\"Background_Download\",\"Background_Download\",\"Background_Download\",\"Background_Download\",\"Background_Download\"],\"xaxis\":\"x\",\"y\":[1,1,1,1,1,1,1,1,1,1,1,1,1,1,1,1,1,1,1,1,1,1,1,1,1,1,1,1,1,1,1,1,1,1,1,1,1,1,1,1,1,1,1,1,1,1,1],\"yaxis\":\"y\",\"type\":\"bar\"},{\"alignmentgroup\":\"True\",\"hovertemplate\":\"Application_Type=%{x}\\u003cbr\\u003ecount=%{y}\\u003cextra\\u003e\\u003c\\u002fextra\\u003e\",\"legendgroup\":\"Web_Browsing\",\"marker\":{\"color\":\"#FF6692\",\"pattern\":{\"shape\":\"\"}},\"name\":\"Web_Browsing\",\"offsetgroup\":\"Web_Browsing\",\"orientation\":\"v\",\"showlegend\":true,\"textposition\":\"auto\",\"x\":[\"Web_Browsing\",\"Web_Browsing\",\"Web_Browsing\",\"Web_Browsing\",\"Web_Browsing\",\"Web_Browsing\",\"Web_Browsing\",\"Web_Browsing\",\"Web_Browsing\",\"Web_Browsing\",\"Web_Browsing\",\"Web_Browsing\",\"Web_Browsing\",\"Web_Browsing\",\"Web_Browsing\",\"Web_Browsing\",\"Web_Browsing\",\"Web_Browsing\",\"Web_Browsing\",\"Web_Browsing\",\"Web_Browsing\",\"Web_Browsing\",\"Web_Browsing\",\"Web_Browsing\",\"Web_Browsing\",\"Web_Browsing\",\"Web_Browsing\",\"Web_Browsing\",\"Web_Browsing\",\"Web_Browsing\",\"Web_Browsing\",\"Web_Browsing\",\"Web_Browsing\",\"Web_Browsing\",\"Web_Browsing\",\"Web_Browsing\",\"Web_Browsing\",\"Web_Browsing\",\"Web_Browsing\",\"Web_Browsing\",\"Web_Browsing\",\"Web_Browsing\",\"Web_Browsing\",\"Web_Browsing\",\"Web_Browsing\",\"Web_Browsing\",\"Web_Browsing\",\"Web_Browsing\"],\"xaxis\":\"x\",\"y\":[1,1,1,1,1,1,1,1,1,1,1,1,1,1,1,1,1,1,1,1,1,1,1,1,1,1,1,1,1,1,1,1,1,1,1,1,1,1,1,1,1,1,1,1,1,1,1,1],\"yaxis\":\"y\",\"type\":\"bar\"},{\"alignmentgroup\":\"True\",\"hovertemplate\":\"Application_Type=%{x}\\u003cbr\\u003ecount=%{y}\\u003cextra\\u003e\\u003c\\u002fextra\\u003e\",\"legendgroup\":\"IoT_Temperature\",\"marker\":{\"color\":\"#B6E880\",\"pattern\":{\"shape\":\"\"}},\"name\":\"IoT_Temperature\",\"offsetgroup\":\"IoT_Temperature\",\"orientation\":\"v\",\"showlegend\":true,\"textposition\":\"auto\",\"x\":[\"IoT_Temperature\",\"IoT_Temperature\",\"IoT_Temperature\",\"IoT_Temperature\",\"IoT_Temperature\",\"IoT_Temperature\",\"IoT_Temperature\",\"IoT_Temperature\",\"IoT_Temperature\",\"IoT_Temperature\",\"IoT_Temperature\",\"IoT_Temperature\",\"IoT_Temperature\"],\"xaxis\":\"x\",\"y\":[1,1,1,1,1,1,1,1,1,1,1,1,1],\"yaxis\":\"y\",\"type\":\"bar\"},{\"alignmentgroup\":\"True\",\"hovertemplate\":\"Application_Type=%{x}\\u003cbr\\u003ecount=%{y}\\u003cextra\\u003e\\u003c\\u002fextra\\u003e\",\"legendgroup\":\"Video_Streaming\",\"marker\":{\"color\":\"#FF97FF\",\"pattern\":{\"shape\":\"\"}},\"name\":\"Video_Streaming\",\"offsetgroup\":\"Video_Streaming\",\"orientation\":\"v\",\"showlegend\":true,\"textposition\":\"auto\",\"x\":[\"Video_Streaming\",\"Video_Streaming\",\"Video_Streaming\",\"Video_Streaming\",\"Video_Streaming\",\"Video_Streaming\",\"Video_Streaming\",\"Video_Streaming\",\"Video_Streaming\",\"Video_Streaming\",\"Video_Streaming\",\"Video_Streaming\",\"Video_Streaming\",\"Video_Streaming\",\"Video_Streaming\",\"Video_Streaming\",\"Video_Streaming\",\"Video_Streaming\",\"Video_Streaming\",\"Video_Streaming\",\"Video_Streaming\",\"Video_Streaming\",\"Video_Streaming\",\"Video_Streaming\",\"Video_Streaming\",\"Video_Streaming\",\"Video_Streaming\",\"Video_Streaming\",\"Video_Streaming\",\"Video_Streaming\",\"Video_Streaming\",\"Video_Streaming\",\"Video_Streaming\",\"Video_Streaming\",\"Video_Streaming\",\"Video_Streaming\",\"Video_Streaming\",\"Video_Streaming\",\"Video_Streaming\",\"Video_Streaming\",\"Video_Streaming\",\"Video_Streaming\",\"Video_Streaming\",\"Video_Streaming\",\"Video_Streaming\",\"Video_Streaming\",\"Video_Streaming\"],\"xaxis\":\"x\",\"y\":[1,1,1,1,1,1,1,1,1,1,1,1,1,1,1,1,1,1,1,1,1,1,1,1,1,1,1,1,1,1,1,1,1,1,1,1,1,1,1,1,1,1,1,1,1,1,1],\"yaxis\":\"y\",\"type\":\"bar\"},{\"alignmentgroup\":\"True\",\"hovertemplate\":\"Application_Type=%{x}\\u003cbr\\u003ecount=%{y}\\u003cextra\\u003e\\u003c\\u002fextra\\u003e\",\"legendgroup\":\"File_Download\",\"marker\":{\"color\":\"#FECB52\",\"pattern\":{\"shape\":\"\"}},\"name\":\"File_Download\",\"offsetgroup\":\"File_Download\",\"orientation\":\"v\",\"showlegend\":true,\"textposition\":\"auto\",\"x\":[\"File_Download\"],\"xaxis\":\"x\",\"y\":[1],\"yaxis\":\"y\",\"type\":\"bar\"},{\"alignmentgroup\":\"True\",\"hovertemplate\":\"Application_Type=%{x}\\u003cbr\\u003ecount=%{y}\\u003cextra\\u003e\\u003c\\u002fextra\\u003e\",\"legendgroup\":\"VoIP_Call\",\"marker\":{\"color\":\"#636efa\",\"pattern\":{\"shape\":\"\"}},\"name\":\"VoIP_Call\",\"offsetgroup\":\"VoIP_Call\",\"orientation\":\"v\",\"showlegend\":true,\"textposition\":\"auto\",\"x\":[\"VoIP_Call\",\"VoIP_Call\",\"VoIP_Call\",\"VoIP_Call\",\"VoIP_Call\",\"VoIP_Call\",\"VoIP_Call\",\"VoIP_Call\",\"VoIP_Call\",\"VoIP_Call\",\"VoIP_Call\",\"VoIP_Call\",\"VoIP_Call\",\"VoIP_Call\",\"VoIP_Call\",\"VoIP_Call\",\"VoIP_Call\",\"VoIP_Call\",\"VoIP_Call\",\"VoIP_Call\",\"VoIP_Call\",\"VoIP_Call\",\"VoIP_Call\",\"VoIP_Call\",\"VoIP_Call\",\"VoIP_Call\",\"VoIP_Call\",\"VoIP_Call\",\"VoIP_Call\",\"VoIP_Call\",\"VoIP_Call\",\"VoIP_Call\",\"VoIP_Call\",\"VoIP_Call\",\"VoIP_Call\",\"VoIP_Call\",\"VoIP_Call\",\"VoIP_Call\",\"VoIP_Call\",\"VoIP_Call\",\"VoIP_Call\",\"VoIP_Call\",\"VoIP_Call\",\"VoIP_Call\",\"VoIP_Call\",\"VoIP_Call\"],\"xaxis\":\"x\",\"y\":[1,1,1,1,1,1,1,1,1,1,1,1,1,1,1,1,1,1,1,1,1,1,1,1,1,1,1,1,1,1,1,1,1,1,1,1,1,1,1,1,1,1,1,1,1,1],\"yaxis\":\"y\",\"type\":\"bar\"}],                        {\"template\":{\"data\":{\"histogram2dcontour\":[{\"type\":\"histogram2dcontour\",\"colorbar\":{\"outlinewidth\":0,\"ticks\":\"\"},\"colorscale\":[[0.0,\"#0d0887\"],[0.1111111111111111,\"#46039f\"],[0.2222222222222222,\"#7201a8\"],[0.3333333333333333,\"#9c179e\"],[0.4444444444444444,\"#bd3786\"],[0.5555555555555556,\"#d8576b\"],[0.6666666666666666,\"#ed7953\"],[0.7777777777777778,\"#fb9f3a\"],[0.8888888888888888,\"#fdca26\"],[1.0,\"#f0f921\"]]}],\"choropleth\":[{\"type\":\"choropleth\",\"colorbar\":{\"outlinewidth\":0,\"ticks\":\"\"}}],\"histogram2d\":[{\"type\":\"histogram2d\",\"colorbar\":{\"outlinewidth\":0,\"ticks\":\"\"},\"colorscale\":[[0.0,\"#0d0887\"],[0.1111111111111111,\"#46039f\"],[0.2222222222222222,\"#7201a8\"],[0.3333333333333333,\"#9c179e\"],[0.4444444444444444,\"#bd3786\"],[0.5555555555555556,\"#d8576b\"],[0.6666666666666666,\"#ed7953\"],[0.7777777777777778,\"#fb9f3a\"],[0.8888888888888888,\"#fdca26\"],[1.0,\"#f0f921\"]]}],\"heatmap\":[{\"type\":\"heatmap\",\"colorbar\":{\"outlinewidth\":0,\"ticks\":\"\"},\"colorscale\":[[0.0,\"#0d0887\"],[0.1111111111111111,\"#46039f\"],[0.2222222222222222,\"#7201a8\"],[0.3333333333333333,\"#9c179e\"],[0.4444444444444444,\"#bd3786\"],[0.5555555555555556,\"#d8576b\"],[0.6666666666666666,\"#ed7953\"],[0.7777777777777778,\"#fb9f3a\"],[0.8888888888888888,\"#fdca26\"],[1.0,\"#f0f921\"]]}],\"heatmapgl\":[{\"type\":\"heatmapgl\",\"colorbar\":{\"outlinewidth\":0,\"ticks\":\"\"},\"colorscale\":[[0.0,\"#0d0887\"],[0.1111111111111111,\"#46039f\"],[0.2222222222222222,\"#7201a8\"],[0.3333333333333333,\"#9c179e\"],[0.4444444444444444,\"#bd3786\"],[0.5555555555555556,\"#d8576b\"],[0.6666666666666666,\"#ed7953\"],[0.7777777777777778,\"#fb9f3a\"],[0.8888888888888888,\"#fdca26\"],[1.0,\"#f0f921\"]]}],\"contourcarpet\":[{\"type\":\"contourcarpet\",\"colorbar\":{\"outlinewidth\":0,\"ticks\":\"\"}}],\"contour\":[{\"type\":\"contour\",\"colorbar\":{\"outlinewidth\":0,\"ticks\":\"\"},\"colorscale\":[[0.0,\"#0d0887\"],[0.1111111111111111,\"#46039f\"],[0.2222222222222222,\"#7201a8\"],[0.3333333333333333,\"#9c179e\"],[0.4444444444444444,\"#bd3786\"],[0.5555555555555556,\"#d8576b\"],[0.6666666666666666,\"#ed7953\"],[0.7777777777777778,\"#fb9f3a\"],[0.8888888888888888,\"#fdca26\"],[1.0,\"#f0f921\"]]}],\"surface\":[{\"type\":\"surface\",\"colorbar\":{\"outlinewidth\":0,\"ticks\":\"\"},\"colorscale\":[[0.0,\"#0d0887\"],[0.1111111111111111,\"#46039f\"],[0.2222222222222222,\"#7201a8\"],[0.3333333333333333,\"#9c179e\"],[0.4444444444444444,\"#bd3786\"],[0.5555555555555556,\"#d8576b\"],[0.6666666666666666,\"#ed7953\"],[0.7777777777777778,\"#fb9f3a\"],[0.8888888888888888,\"#fdca26\"],[1.0,\"#f0f921\"]]}],\"mesh3d\":[{\"type\":\"mesh3d\",\"colorbar\":{\"outlinewidth\":0,\"ticks\":\"\"}}],\"scatter\":[{\"fillpattern\":{\"fillmode\":\"overlay\",\"size\":10,\"solidity\":0.2},\"type\":\"scatter\"}],\"parcoords\":[{\"type\":\"parcoords\",\"line\":{\"colorbar\":{\"outlinewidth\":0,\"ticks\":\"\"}}}],\"scatterpolargl\":[{\"type\":\"scatterpolargl\",\"marker\":{\"colorbar\":{\"outlinewidth\":0,\"ticks\":\"\"}}}],\"bar\":[{\"error_x\":{\"color\":\"#2a3f5f\"},\"error_y\":{\"color\":\"#2a3f5f\"},\"marker\":{\"line\":{\"color\":\"#E5ECF6\",\"width\":0.5},\"pattern\":{\"fillmode\":\"overlay\",\"size\":10,\"solidity\":0.2}},\"type\":\"bar\"}],\"scattergeo\":[{\"type\":\"scattergeo\",\"marker\":{\"colorbar\":{\"outlinewidth\":0,\"ticks\":\"\"}}}],\"scatterpolar\":[{\"type\":\"scatterpolar\",\"marker\":{\"colorbar\":{\"outlinewidth\":0,\"ticks\":\"\"}}}],\"histogram\":[{\"marker\":{\"pattern\":{\"fillmode\":\"overlay\",\"size\":10,\"solidity\":0.2}},\"type\":\"histogram\"}],\"scattergl\":[{\"type\":\"scattergl\",\"marker\":{\"colorbar\":{\"outlinewidth\":0,\"ticks\":\"\"}}}],\"scatter3d\":[{\"type\":\"scatter3d\",\"line\":{\"colorbar\":{\"outlinewidth\":0,\"ticks\":\"\"}},\"marker\":{\"colorbar\":{\"outlinewidth\":0,\"ticks\":\"\"}}}],\"scattermapbox\":[{\"type\":\"scattermapbox\",\"marker\":{\"colorbar\":{\"outlinewidth\":0,\"ticks\":\"\"}}}],\"scatterternary\":[{\"type\":\"scatterternary\",\"marker\":{\"colorbar\":{\"outlinewidth\":0,\"ticks\":\"\"}}}],\"scattercarpet\":[{\"type\":\"scattercarpet\",\"marker\":{\"colorbar\":{\"outlinewidth\":0,\"ticks\":\"\"}}}],\"carpet\":[{\"aaxis\":{\"endlinecolor\":\"#2a3f5f\",\"gridcolor\":\"white\",\"linecolor\":\"white\",\"minorgridcolor\":\"white\",\"startlinecolor\":\"#2a3f5f\"},\"baxis\":{\"endlinecolor\":\"#2a3f5f\",\"gridcolor\":\"white\",\"linecolor\":\"white\",\"minorgridcolor\":\"white\",\"startlinecolor\":\"#2a3f5f\"},\"type\":\"carpet\"}],\"table\":[{\"cells\":{\"fill\":{\"color\":\"#EBF0F8\"},\"line\":{\"color\":\"white\"}},\"header\":{\"fill\":{\"color\":\"#C8D4E3\"},\"line\":{\"color\":\"white\"}},\"type\":\"table\"}],\"barpolar\":[{\"marker\":{\"line\":{\"color\":\"#E5ECF6\",\"width\":0.5},\"pattern\":{\"fillmode\":\"overlay\",\"size\":10,\"solidity\":0.2}},\"type\":\"barpolar\"}],\"pie\":[{\"automargin\":true,\"type\":\"pie\"}]},\"layout\":{\"autotypenumbers\":\"strict\",\"colorway\":[\"#636efa\",\"#EF553B\",\"#00cc96\",\"#ab63fa\",\"#FFA15A\",\"#19d3f3\",\"#FF6692\",\"#B6E880\",\"#FF97FF\",\"#FECB52\"],\"font\":{\"color\":\"#2a3f5f\"},\"hovermode\":\"closest\",\"hoverlabel\":{\"align\":\"left\"},\"paper_bgcolor\":\"white\",\"plot_bgcolor\":\"#E5ECF6\",\"polar\":{\"bgcolor\":\"#E5ECF6\",\"angularaxis\":{\"gridcolor\":\"white\",\"linecolor\":\"white\",\"ticks\":\"\"},\"radialaxis\":{\"gridcolor\":\"white\",\"linecolor\":\"white\",\"ticks\":\"\"}},\"ternary\":{\"bgcolor\":\"#E5ECF6\",\"aaxis\":{\"gridcolor\":\"white\",\"linecolor\":\"white\",\"ticks\":\"\"},\"baxis\":{\"gridcolor\":\"white\",\"linecolor\":\"white\",\"ticks\":\"\"},\"caxis\":{\"gridcolor\":\"white\",\"linecolor\":\"white\",\"ticks\":\"\"}},\"coloraxis\":{\"colorbar\":{\"outlinewidth\":0,\"ticks\":\"\"}},\"colorscale\":{\"sequential\":[[0.0,\"#0d0887\"],[0.1111111111111111,\"#46039f\"],[0.2222222222222222,\"#7201a8\"],[0.3333333333333333,\"#9c179e\"],[0.4444444444444444,\"#bd3786\"],[0.5555555555555556,\"#d8576b\"],[0.6666666666666666,\"#ed7953\"],[0.7777777777777778,\"#fb9f3a\"],[0.8888888888888888,\"#fdca26\"],[1.0,\"#f0f921\"]],\"sequentialminus\":[[0.0,\"#0d0887\"],[0.1111111111111111,\"#46039f\"],[0.2222222222222222,\"#7201a8\"],[0.3333333333333333,\"#9c179e\"],[0.4444444444444444,\"#bd3786\"],[0.5555555555555556,\"#d8576b\"],[0.6666666666666666,\"#ed7953\"],[0.7777777777777778,\"#fb9f3a\"],[0.8888888888888888,\"#fdca26\"],[1.0,\"#f0f921\"]],\"diverging\":[[0,\"#8e0152\"],[0.1,\"#c51b7d\"],[0.2,\"#de77ae\"],[0.3,\"#f1b6da\"],[0.4,\"#fde0ef\"],[0.5,\"#f7f7f7\"],[0.6,\"#e6f5d0\"],[0.7,\"#b8e186\"],[0.8,\"#7fbc41\"],[0.9,\"#4d9221\"],[1,\"#276419\"]]},\"xaxis\":{\"gridcolor\":\"white\",\"linecolor\":\"white\",\"ticks\":\"\",\"title\":{\"standoff\":15},\"zerolinecolor\":\"white\",\"automargin\":true,\"zerolinewidth\":2},\"yaxis\":{\"gridcolor\":\"white\",\"linecolor\":\"white\",\"ticks\":\"\",\"title\":{\"standoff\":15},\"zerolinecolor\":\"white\",\"automargin\":true,\"zerolinewidth\":2},\"scene\":{\"xaxis\":{\"backgroundcolor\":\"#E5ECF6\",\"gridcolor\":\"white\",\"linecolor\":\"white\",\"showbackground\":true,\"ticks\":\"\",\"zerolinecolor\":\"white\",\"gridwidth\":2},\"yaxis\":{\"backgroundcolor\":\"#E5ECF6\",\"gridcolor\":\"white\",\"linecolor\":\"white\",\"showbackground\":true,\"ticks\":\"\",\"zerolinecolor\":\"white\",\"gridwidth\":2},\"zaxis\":{\"backgroundcolor\":\"#E5ECF6\",\"gridcolor\":\"white\",\"linecolor\":\"white\",\"showbackground\":true,\"ticks\":\"\",\"zerolinecolor\":\"white\",\"gridwidth\":2}},\"shapedefaults\":{\"line\":{\"color\":\"#2a3f5f\"}},\"annotationdefaults\":{\"arrowcolor\":\"#2a3f5f\",\"arrowhead\":0,\"arrowwidth\":1},\"geo\":{\"bgcolor\":\"white\",\"landcolor\":\"#E5ECF6\",\"subunitcolor\":\"white\",\"showland\":true,\"showlakes\":true,\"lakecolor\":\"white\"},\"title\":{\"x\":0.05},\"mapbox\":{\"style\":\"light\"}}},\"xaxis\":{\"anchor\":\"y\",\"domain\":[0.0,1.0],\"title\":{\"text\":\"Application_Type\"},\"categoryorder\":\"array\",\"categoryarray\":[\"Video_Call\",\"Voice_Call\",\"Streaming\",\"Emergency_Service\",\"Online_Gaming\",\"Background_Download\",\"Web_Browsing\",\"IoT_Temperature\",\"Video_Streaming\",\"File_Download\",\"VoIP_Call\"]},\"yaxis\":{\"anchor\":\"x\",\"domain\":[0.0,1.0],\"title\":{\"text\":\"count\"}},\"legend\":{\"title\":{\"text\":\"Application_Type\"},\"tracegroupgap\":0},\"title\":{\"text\":\"Distribution of Application Types\"},\"barmode\":\"relative\"},                        {\"responsive\": true}                    ).then(function(){\n",
       "                            \n",
       "var gd = document.getElementById('6d188393-5025-421c-8cd6-33e2512f5c0d');\n",
       "var x = new MutationObserver(function (mutations, observer) {{\n",
       "        var display = window.getComputedStyle(gd).display;\n",
       "        if (!display || display === 'none') {{\n",
       "            console.log([gd, 'removed!']);\n",
       "            Plotly.purge(gd);\n",
       "            observer.disconnect();\n",
       "        }}\n",
       "}});\n",
       "\n",
       "// Listen for the removal of the full notebook cells\n",
       "var notebookContainer = gd.closest('#notebook-container');\n",
       "if (notebookContainer) {{\n",
       "    x.observe(notebookContainer, {childList: true});\n",
       "}}\n",
       "\n",
       "// Listen for the clearing of the current output cell\n",
       "var outputEl = gd.closest('.output');\n",
       "if (outputEl) {{\n",
       "    x.observe(outputEl, {childList: true});\n",
       "}}\n",
       "\n",
       "                        })                };                });            </script>        </div>"
      ]
     },
     "metadata": {},
     "output_type": "display_data"
    }
   ],
   "source": [
    "import plotly.express as px\n",
    "\n",
    "fig = px.bar(df, x='Application_Type', color='Application_Type',\n",
    "             title='Distribution of Application Types')\n",
    "fig.show()\n"
   ]
  },
  {
   "cell_type": "code",
   "execution_count": 13,
   "id": "0b576e92",
   "metadata": {
    "execution": {
     "iopub.execute_input": "2023-09-04T13:23:34.155965Z",
     "iopub.status.busy": "2023-09-04T13:23:34.155338Z",
     "iopub.status.idle": "2023-09-04T13:23:34.252367Z",
     "shell.execute_reply": "2023-09-04T13:23:34.251095Z"
    },
    "papermill": {
     "duration": 0.111616,
     "end_time": "2023-09-04T13:23:34.254844",
     "exception": false,
     "start_time": "2023-09-04T13:23:34.143228",
     "status": "completed"
    },
    "tags": []
   },
   "outputs": [
    {
     "data": {
      "text/html": [
       "<div>                            <div id=\"0f7e37eb-055f-47d7-afd4-21e1e7531f97\" class=\"plotly-graph-div\" style=\"height:525px; width:100%;\"></div>            <script type=\"text/javascript\">                require([\"plotly\"], function(Plotly) {                    window.PLOTLYENV=window.PLOTLYENV || {};                                    if (document.getElementById(\"0f7e37eb-055f-47d7-afd4-21e1e7531f97\")) {                    Plotly.newPlot(                        \"0f7e37eb-055f-47d7-afd4-21e1e7531f97\",                        [{\"alignmentgroup\":\"True\",\"hovertemplate\":\"Resource_Allocation=%{x}\\u003cbr\\u003ecount=%{y}\\u003cextra\\u003e\\u003c\\u002fextra\\u003e\",\"legendgroup\":\"70%\",\"marker\":{\"color\":\"#636efa\",\"pattern\":{\"shape\":\"\"}},\"name\":\"70%\",\"offsetgroup\":\"70%\",\"orientation\":\"v\",\"showlegend\":true,\"textposition\":\"auto\",\"x\":[\"70%\",\"70%\",\"70%\",\"70%\",\"70%\",\"70%\",\"70%\",\"70%\",\"70%\",\"70%\",\"70%\",\"70%\",\"70%\",\"70%\",\"70%\",\"70%\",\"70%\",\"70%\",\"70%\",\"70%\",\"70%\",\"70%\",\"70%\",\"70%\",\"70%\",\"70%\",\"70%\",\"70%\",\"70%\",\"70%\",\"70%\",\"70%\",\"70%\",\"70%\",\"70%\",\"70%\",\"70%\",\"70%\",\"70%\",\"70%\",\"70%\",\"70%\",\"70%\",\"70%\",\"70%\",\"70%\",\"70%\",\"70%\",\"70%\",\"70%\",\"70%\",\"70%\",\"70%\",\"70%\",\"70%\",\"70%\",\"70%\",\"70%\",\"70%\",\"70%\",\"70%\",\"70%\",\"70%\",\"70%\",\"70%\",\"70%\",\"70%\",\"70%\",\"70%\",\"70%\",\"70%\",\"70%\",\"70%\",\"70%\",\"70%\",\"70%\",\"70%\",\"70%\",\"70%\",\"70%\",\"70%\",\"70%\",\"70%\",\"70%\",\"70%\",\"70%\",\"70%\",\"70%\",\"70%\",\"70%\",\"70%\",\"70%\",\"70%\",\"70%\",\"70%\",\"70%\",\"70%\",\"70%\",\"70%\",\"70%\",\"70%\",\"70%\",\"70%\",\"70%\",\"70%\",\"70%\",\"70%\",\"70%\",\"70%\",\"70%\",\"70%\",\"70%\",\"70%\",\"70%\",\"70%\",\"70%\",\"70%\",\"70%\",\"70%\",\"70%\",\"70%\",\"70%\",\"70%\",\"70%\",\"70%\",\"70%\",\"70%\",\"70%\",\"70%\",\"70%\",\"70%\",\"70%\",\"70%\",\"70%\",\"70%\",\"70%\",\"70%\",\"70%\",\"70%\",\"70%\",\"70%\",\"70%\",\"70%\",\"70%\",\"70%\",\"70%\",\"70%\",\"70%\"],\"xaxis\":\"x\",\"y\":[1,1,1,1,1,1,1,1,1,1,1,1,1,1,1,1,1,1,1,1,1,1,1,1,1,1,1,1,1,1,1,1,1,1,1,1,1,1,1,1,1,1,1,1,1,1,1,1,1,1,1,1,1,1,1,1,1,1,1,1,1,1,1,1,1,1,1,1,1,1,1,1,1,1,1,1,1,1,1,1,1,1,1,1,1,1,1,1,1,1,1,1,1,1,1,1,1,1,1,1,1,1,1,1,1,1,1,1,1,1,1,1,1,1,1,1,1,1,1,1,1,1,1,1,1,1,1,1,1,1,1,1,1,1,1,1,1,1,1,1,1,1,1,1,1,1,1,1],\"yaxis\":\"y\",\"type\":\"bar\"},{\"alignmentgroup\":\"True\",\"hovertemplate\":\"Resource_Allocation=%{x}\\u003cbr\\u003ecount=%{y}\\u003cextra\\u003e\\u003c\\u002fextra\\u003e\",\"legendgroup\":\"80%\",\"marker\":{\"color\":\"#EF553B\",\"pattern\":{\"shape\":\"\"}},\"name\":\"80%\",\"offsetgroup\":\"80%\",\"orientation\":\"v\",\"showlegend\":true,\"textposition\":\"auto\",\"x\":[\"80%\",\"80%\",\"80%\",\"80%\",\"80%\",\"80%\",\"80%\",\"80%\",\"80%\",\"80%\",\"80%\",\"80%\",\"80%\",\"80%\",\"80%\",\"80%\",\"80%\",\"80%\",\"80%\",\"80%\",\"80%\",\"80%\",\"80%\",\"80%\",\"80%\",\"80%\",\"80%\",\"80%\",\"80%\",\"80%\",\"80%\",\"80%\",\"80%\",\"80%\",\"80%\",\"80%\",\"80%\",\"80%\",\"80%\",\"80%\",\"80%\",\"80%\",\"80%\",\"80%\",\"80%\",\"80%\"],\"xaxis\":\"x\",\"y\":[1,1,1,1,1,1,1,1,1,1,1,1,1,1,1,1,1,1,1,1,1,1,1,1,1,1,1,1,1,1,1,1,1,1,1,1,1,1,1,1,1,1,1,1,1,1],\"yaxis\":\"y\",\"type\":\"bar\"},{\"alignmentgroup\":\"True\",\"hovertemplate\":\"Resource_Allocation=%{x}\\u003cbr\\u003ecount=%{y}\\u003cextra\\u003e\\u003c\\u002fextra\\u003e\",\"legendgroup\":\"75%\",\"marker\":{\"color\":\"#00cc96\",\"pattern\":{\"shape\":\"\"}},\"name\":\"75%\",\"offsetgroup\":\"75%\",\"orientation\":\"v\",\"showlegend\":true,\"textposition\":\"auto\",\"x\":[\"75%\",\"75%\",\"75%\",\"75%\",\"75%\",\"75%\",\"75%\",\"75%\",\"75%\",\"75%\",\"75%\",\"75%\",\"75%\",\"75%\",\"75%\",\"75%\",\"75%\",\"75%\",\"75%\",\"75%\",\"75%\",\"75%\",\"75%\",\"75%\",\"75%\",\"75%\",\"75%\",\"75%\",\"75%\",\"75%\",\"75%\",\"75%\",\"75%\",\"75%\",\"75%\",\"75%\",\"75%\",\"75%\",\"75%\",\"75%\",\"75%\",\"75%\",\"75%\",\"75%\",\"75%\",\"75%\",\"75%\",\"75%\",\"75%\",\"75%\",\"75%\",\"75%\",\"75%\",\"75%\",\"75%\",\"75%\",\"75%\",\"75%\"],\"xaxis\":\"x\",\"y\":[1,1,1,1,1,1,1,1,1,1,1,1,1,1,1,1,1,1,1,1,1,1,1,1,1,1,1,1,1,1,1,1,1,1,1,1,1,1,1,1,1,1,1,1,1,1,1,1,1,1,1,1,1,1,1,1,1,1],\"yaxis\":\"y\",\"type\":\"bar\"},{\"alignmentgroup\":\"True\",\"hovertemplate\":\"Resource_Allocation=%{x}\\u003cbr\\u003ecount=%{y}\\u003cextra\\u003e\\u003c\\u002fextra\\u003e\",\"legendgroup\":\"90%\",\"marker\":{\"color\":\"#ab63fa\",\"pattern\":{\"shape\":\"\"}},\"name\":\"90%\",\"offsetgroup\":\"90%\",\"orientation\":\"v\",\"showlegend\":true,\"textposition\":\"auto\",\"x\":[\"90%\",\"90%\",\"90%\",\"90%\",\"90%\",\"90%\",\"90%\",\"90%\",\"90%\",\"90%\",\"90%\",\"90%\",\"90%\",\"90%\",\"90%\",\"90%\",\"90%\",\"90%\",\"90%\",\"90%\",\"90%\",\"90%\",\"90%\",\"90%\",\"90%\",\"90%\",\"90%\",\"90%\",\"90%\",\"90%\",\"90%\",\"90%\",\"90%\",\"90%\",\"90%\",\"90%\",\"90%\",\"90%\",\"90%\",\"90%\",\"90%\",\"90%\",\"90%\",\"90%\",\"90%\",\"90%\",\"90%\"],\"xaxis\":\"x\",\"y\":[1,1,1,1,1,1,1,1,1,1,1,1,1,1,1,1,1,1,1,1,1,1,1,1,1,1,1,1,1,1,1,1,1,1,1,1,1,1,1,1,1,1,1,1,1,1,1],\"yaxis\":\"y\",\"type\":\"bar\"},{\"alignmentgroup\":\"True\",\"hovertemplate\":\"Resource_Allocation=%{x}\\u003cbr\\u003ecount=%{y}\\u003cextra\\u003e\\u003c\\u002fextra\\u003e\",\"legendgroup\":\"85%\",\"marker\":{\"color\":\"#FFA15A\",\"pattern\":{\"shape\":\"\"}},\"name\":\"85%\",\"offsetgroup\":\"85%\",\"orientation\":\"v\",\"showlegend\":true,\"textposition\":\"auto\",\"x\":[\"85%\",\"85%\",\"85%\",\"85%\",\"85%\",\"85%\",\"85%\",\"85%\",\"85%\",\"85%\",\"85%\",\"85%\",\"85%\",\"85%\",\"85%\",\"85%\",\"85%\",\"85%\",\"85%\",\"85%\",\"85%\",\"85%\",\"85%\",\"85%\",\"85%\",\"85%\",\"85%\",\"85%\",\"85%\",\"85%\",\"85%\",\"85%\",\"85%\",\"85%\",\"85%\",\"85%\",\"85%\",\"85%\",\"85%\",\"85%\",\"85%\",\"85%\",\"85%\",\"85%\",\"85%\",\"85%\",\"85%\",\"85%\"],\"xaxis\":\"x\",\"y\":[1,1,1,1,1,1,1,1,1,1,1,1,1,1,1,1,1,1,1,1,1,1,1,1,1,1,1,1,1,1,1,1,1,1,1,1,1,1,1,1,1,1,1,1,1,1,1,1],\"yaxis\":\"y\",\"type\":\"bar\"},{\"alignmentgroup\":\"True\",\"hovertemplate\":\"Resource_Allocation=%{x}\\u003cbr\\u003ecount=%{y}\\u003cextra\\u003e\\u003c\\u002fextra\\u003e\",\"legendgroup\":\"60%\",\"marker\":{\"color\":\"#19d3f3\",\"pattern\":{\"shape\":\"\"}},\"name\":\"60%\",\"offsetgroup\":\"60%\",\"orientation\":\"v\",\"showlegend\":true,\"textposition\":\"auto\",\"x\":[\"60%\",\"60%\",\"60%\",\"60%\",\"60%\",\"60%\",\"60%\",\"60%\",\"60%\",\"60%\",\"60%\",\"60%\",\"60%\",\"60%\",\"60%\",\"60%\",\"60%\",\"60%\",\"60%\",\"60%\",\"60%\",\"60%\",\"60%\",\"60%\",\"60%\",\"60%\",\"60%\",\"60%\",\"60%\",\"60%\",\"60%\",\"60%\",\"60%\",\"60%\",\"60%\",\"60%\",\"60%\",\"60%\",\"60%\",\"60%\",\"60%\",\"60%\",\"60%\",\"60%\",\"60%\",\"60%\",\"60%\"],\"xaxis\":\"x\",\"y\":[1,1,1,1,1,1,1,1,1,1,1,1,1,1,1,1,1,1,1,1,1,1,1,1,1,1,1,1,1,1,1,1,1,1,1,1,1,1,1,1,1,1,1,1,1,1,1],\"yaxis\":\"y\",\"type\":\"bar\"},{\"alignmentgroup\":\"True\",\"hovertemplate\":\"Resource_Allocation=%{x}\\u003cbr\\u003ecount=%{y}\\u003cextra\\u003e\\u003c\\u002fextra\\u003e\",\"legendgroup\":\"50%\",\"marker\":{\"color\":\"#FF6692\",\"pattern\":{\"shape\":\"\"}},\"name\":\"50%\",\"offsetgroup\":\"50%\",\"orientation\":\"v\",\"showlegend\":true,\"textposition\":\"auto\",\"x\":[\"50%\"],\"xaxis\":\"x\",\"y\":[1],\"yaxis\":\"y\",\"type\":\"bar\"},{\"alignmentgroup\":\"True\",\"hovertemplate\":\"Resource_Allocation=%{x}\\u003cbr\\u003ecount=%{y}\\u003cextra\\u003e\\u003c\\u002fextra\\u003e\",\"legendgroup\":\"65%\",\"marker\":{\"color\":\"#B6E880\",\"pattern\":{\"shape\":\"\"}},\"name\":\"65%\",\"offsetgroup\":\"65%\",\"orientation\":\"v\",\"showlegend\":true,\"textposition\":\"auto\",\"x\":[\"65%\",\"65%\",\"65%\",\"65%\"],\"xaxis\":\"x\",\"y\":[1,1,1,1],\"yaxis\":\"y\",\"type\":\"bar\"},{\"alignmentgroup\":\"True\",\"hovertemplate\":\"Resource_Allocation=%{x}\\u003cbr\\u003ecount=%{y}\\u003cextra\\u003e\\u003c\\u002fextra\\u003e\",\"legendgroup\":\"55%\",\"marker\":{\"color\":\"#FF97FF\",\"pattern\":{\"shape\":\"\"}},\"name\":\"55%\",\"offsetgroup\":\"55%\",\"orientation\":\"v\",\"showlegend\":true,\"textposition\":\"auto\",\"x\":[\"55%\"],\"xaxis\":\"x\",\"y\":[1],\"yaxis\":\"y\",\"type\":\"bar\"}],                        {\"template\":{\"data\":{\"histogram2dcontour\":[{\"type\":\"histogram2dcontour\",\"colorbar\":{\"outlinewidth\":0,\"ticks\":\"\"},\"colorscale\":[[0.0,\"#0d0887\"],[0.1111111111111111,\"#46039f\"],[0.2222222222222222,\"#7201a8\"],[0.3333333333333333,\"#9c179e\"],[0.4444444444444444,\"#bd3786\"],[0.5555555555555556,\"#d8576b\"],[0.6666666666666666,\"#ed7953\"],[0.7777777777777778,\"#fb9f3a\"],[0.8888888888888888,\"#fdca26\"],[1.0,\"#f0f921\"]]}],\"choropleth\":[{\"type\":\"choropleth\",\"colorbar\":{\"outlinewidth\":0,\"ticks\":\"\"}}],\"histogram2d\":[{\"type\":\"histogram2d\",\"colorbar\":{\"outlinewidth\":0,\"ticks\":\"\"},\"colorscale\":[[0.0,\"#0d0887\"],[0.1111111111111111,\"#46039f\"],[0.2222222222222222,\"#7201a8\"],[0.3333333333333333,\"#9c179e\"],[0.4444444444444444,\"#bd3786\"],[0.5555555555555556,\"#d8576b\"],[0.6666666666666666,\"#ed7953\"],[0.7777777777777778,\"#fb9f3a\"],[0.8888888888888888,\"#fdca26\"],[1.0,\"#f0f921\"]]}],\"heatmap\":[{\"type\":\"heatmap\",\"colorbar\":{\"outlinewidth\":0,\"ticks\":\"\"},\"colorscale\":[[0.0,\"#0d0887\"],[0.1111111111111111,\"#46039f\"],[0.2222222222222222,\"#7201a8\"],[0.3333333333333333,\"#9c179e\"],[0.4444444444444444,\"#bd3786\"],[0.5555555555555556,\"#d8576b\"],[0.6666666666666666,\"#ed7953\"],[0.7777777777777778,\"#fb9f3a\"],[0.8888888888888888,\"#fdca26\"],[1.0,\"#f0f921\"]]}],\"heatmapgl\":[{\"type\":\"heatmapgl\",\"colorbar\":{\"outlinewidth\":0,\"ticks\":\"\"},\"colorscale\":[[0.0,\"#0d0887\"],[0.1111111111111111,\"#46039f\"],[0.2222222222222222,\"#7201a8\"],[0.3333333333333333,\"#9c179e\"],[0.4444444444444444,\"#bd3786\"],[0.5555555555555556,\"#d8576b\"],[0.6666666666666666,\"#ed7953\"],[0.7777777777777778,\"#fb9f3a\"],[0.8888888888888888,\"#fdca26\"],[1.0,\"#f0f921\"]]}],\"contourcarpet\":[{\"type\":\"contourcarpet\",\"colorbar\":{\"outlinewidth\":0,\"ticks\":\"\"}}],\"contour\":[{\"type\":\"contour\",\"colorbar\":{\"outlinewidth\":0,\"ticks\":\"\"},\"colorscale\":[[0.0,\"#0d0887\"],[0.1111111111111111,\"#46039f\"],[0.2222222222222222,\"#7201a8\"],[0.3333333333333333,\"#9c179e\"],[0.4444444444444444,\"#bd3786\"],[0.5555555555555556,\"#d8576b\"],[0.6666666666666666,\"#ed7953\"],[0.7777777777777778,\"#fb9f3a\"],[0.8888888888888888,\"#fdca26\"],[1.0,\"#f0f921\"]]}],\"surface\":[{\"type\":\"surface\",\"colorbar\":{\"outlinewidth\":0,\"ticks\":\"\"},\"colorscale\":[[0.0,\"#0d0887\"],[0.1111111111111111,\"#46039f\"],[0.2222222222222222,\"#7201a8\"],[0.3333333333333333,\"#9c179e\"],[0.4444444444444444,\"#bd3786\"],[0.5555555555555556,\"#d8576b\"],[0.6666666666666666,\"#ed7953\"],[0.7777777777777778,\"#fb9f3a\"],[0.8888888888888888,\"#fdca26\"],[1.0,\"#f0f921\"]]}],\"mesh3d\":[{\"type\":\"mesh3d\",\"colorbar\":{\"outlinewidth\":0,\"ticks\":\"\"}}],\"scatter\":[{\"fillpattern\":{\"fillmode\":\"overlay\",\"size\":10,\"solidity\":0.2},\"type\":\"scatter\"}],\"parcoords\":[{\"type\":\"parcoords\",\"line\":{\"colorbar\":{\"outlinewidth\":0,\"ticks\":\"\"}}}],\"scatterpolargl\":[{\"type\":\"scatterpolargl\",\"marker\":{\"colorbar\":{\"outlinewidth\":0,\"ticks\":\"\"}}}],\"bar\":[{\"error_x\":{\"color\":\"#2a3f5f\"},\"error_y\":{\"color\":\"#2a3f5f\"},\"marker\":{\"line\":{\"color\":\"#E5ECF6\",\"width\":0.5},\"pattern\":{\"fillmode\":\"overlay\",\"size\":10,\"solidity\":0.2}},\"type\":\"bar\"}],\"scattergeo\":[{\"type\":\"scattergeo\",\"marker\":{\"colorbar\":{\"outlinewidth\":0,\"ticks\":\"\"}}}],\"scatterpolar\":[{\"type\":\"scatterpolar\",\"marker\":{\"colorbar\":{\"outlinewidth\":0,\"ticks\":\"\"}}}],\"histogram\":[{\"marker\":{\"pattern\":{\"fillmode\":\"overlay\",\"size\":10,\"solidity\":0.2}},\"type\":\"histogram\"}],\"scattergl\":[{\"type\":\"scattergl\",\"marker\":{\"colorbar\":{\"outlinewidth\":0,\"ticks\":\"\"}}}],\"scatter3d\":[{\"type\":\"scatter3d\",\"line\":{\"colorbar\":{\"outlinewidth\":0,\"ticks\":\"\"}},\"marker\":{\"colorbar\":{\"outlinewidth\":0,\"ticks\":\"\"}}}],\"scattermapbox\":[{\"type\":\"scattermapbox\",\"marker\":{\"colorbar\":{\"outlinewidth\":0,\"ticks\":\"\"}}}],\"scatterternary\":[{\"type\":\"scatterternary\",\"marker\":{\"colorbar\":{\"outlinewidth\":0,\"ticks\":\"\"}}}],\"scattercarpet\":[{\"type\":\"scattercarpet\",\"marker\":{\"colorbar\":{\"outlinewidth\":0,\"ticks\":\"\"}}}],\"carpet\":[{\"aaxis\":{\"endlinecolor\":\"#2a3f5f\",\"gridcolor\":\"white\",\"linecolor\":\"white\",\"minorgridcolor\":\"white\",\"startlinecolor\":\"#2a3f5f\"},\"baxis\":{\"endlinecolor\":\"#2a3f5f\",\"gridcolor\":\"white\",\"linecolor\":\"white\",\"minorgridcolor\":\"white\",\"startlinecolor\":\"#2a3f5f\"},\"type\":\"carpet\"}],\"table\":[{\"cells\":{\"fill\":{\"color\":\"#EBF0F8\"},\"line\":{\"color\":\"white\"}},\"header\":{\"fill\":{\"color\":\"#C8D4E3\"},\"line\":{\"color\":\"white\"}},\"type\":\"table\"}],\"barpolar\":[{\"marker\":{\"line\":{\"color\":\"#E5ECF6\",\"width\":0.5},\"pattern\":{\"fillmode\":\"overlay\",\"size\":10,\"solidity\":0.2}},\"type\":\"barpolar\"}],\"pie\":[{\"automargin\":true,\"type\":\"pie\"}]},\"layout\":{\"autotypenumbers\":\"strict\",\"colorway\":[\"#636efa\",\"#EF553B\",\"#00cc96\",\"#ab63fa\",\"#FFA15A\",\"#19d3f3\",\"#FF6692\",\"#B6E880\",\"#FF97FF\",\"#FECB52\"],\"font\":{\"color\":\"#2a3f5f\"},\"hovermode\":\"closest\",\"hoverlabel\":{\"align\":\"left\"},\"paper_bgcolor\":\"white\",\"plot_bgcolor\":\"#E5ECF6\",\"polar\":{\"bgcolor\":\"#E5ECF6\",\"angularaxis\":{\"gridcolor\":\"white\",\"linecolor\":\"white\",\"ticks\":\"\"},\"radialaxis\":{\"gridcolor\":\"white\",\"linecolor\":\"white\",\"ticks\":\"\"}},\"ternary\":{\"bgcolor\":\"#E5ECF6\",\"aaxis\":{\"gridcolor\":\"white\",\"linecolor\":\"white\",\"ticks\":\"\"},\"baxis\":{\"gridcolor\":\"white\",\"linecolor\":\"white\",\"ticks\":\"\"},\"caxis\":{\"gridcolor\":\"white\",\"linecolor\":\"white\",\"ticks\":\"\"}},\"coloraxis\":{\"colorbar\":{\"outlinewidth\":0,\"ticks\":\"\"}},\"colorscale\":{\"sequential\":[[0.0,\"#0d0887\"],[0.1111111111111111,\"#46039f\"],[0.2222222222222222,\"#7201a8\"],[0.3333333333333333,\"#9c179e\"],[0.4444444444444444,\"#bd3786\"],[0.5555555555555556,\"#d8576b\"],[0.6666666666666666,\"#ed7953\"],[0.7777777777777778,\"#fb9f3a\"],[0.8888888888888888,\"#fdca26\"],[1.0,\"#f0f921\"]],\"sequentialminus\":[[0.0,\"#0d0887\"],[0.1111111111111111,\"#46039f\"],[0.2222222222222222,\"#7201a8\"],[0.3333333333333333,\"#9c179e\"],[0.4444444444444444,\"#bd3786\"],[0.5555555555555556,\"#d8576b\"],[0.6666666666666666,\"#ed7953\"],[0.7777777777777778,\"#fb9f3a\"],[0.8888888888888888,\"#fdca26\"],[1.0,\"#f0f921\"]],\"diverging\":[[0,\"#8e0152\"],[0.1,\"#c51b7d\"],[0.2,\"#de77ae\"],[0.3,\"#f1b6da\"],[0.4,\"#fde0ef\"],[0.5,\"#f7f7f7\"],[0.6,\"#e6f5d0\"],[0.7,\"#b8e186\"],[0.8,\"#7fbc41\"],[0.9,\"#4d9221\"],[1,\"#276419\"]]},\"xaxis\":{\"gridcolor\":\"white\",\"linecolor\":\"white\",\"ticks\":\"\",\"title\":{\"standoff\":15},\"zerolinecolor\":\"white\",\"automargin\":true,\"zerolinewidth\":2},\"yaxis\":{\"gridcolor\":\"white\",\"linecolor\":\"white\",\"ticks\":\"\",\"title\":{\"standoff\":15},\"zerolinecolor\":\"white\",\"automargin\":true,\"zerolinewidth\":2},\"scene\":{\"xaxis\":{\"backgroundcolor\":\"#E5ECF6\",\"gridcolor\":\"white\",\"linecolor\":\"white\",\"showbackground\":true,\"ticks\":\"\",\"zerolinecolor\":\"white\",\"gridwidth\":2},\"yaxis\":{\"backgroundcolor\":\"#E5ECF6\",\"gridcolor\":\"white\",\"linecolor\":\"white\",\"showbackground\":true,\"ticks\":\"\",\"zerolinecolor\":\"white\",\"gridwidth\":2},\"zaxis\":{\"backgroundcolor\":\"#E5ECF6\",\"gridcolor\":\"white\",\"linecolor\":\"white\",\"showbackground\":true,\"ticks\":\"\",\"zerolinecolor\":\"white\",\"gridwidth\":2}},\"shapedefaults\":{\"line\":{\"color\":\"#2a3f5f\"}},\"annotationdefaults\":{\"arrowcolor\":\"#2a3f5f\",\"arrowhead\":0,\"arrowwidth\":1},\"geo\":{\"bgcolor\":\"white\",\"landcolor\":\"#E5ECF6\",\"subunitcolor\":\"white\",\"showland\":true,\"showlakes\":true,\"lakecolor\":\"white\"},\"title\":{\"x\":0.05},\"mapbox\":{\"style\":\"light\"}}},\"xaxis\":{\"anchor\":\"y\",\"domain\":[0.0,1.0],\"title\":{\"text\":\"Resource_Allocation\"},\"categoryorder\":\"array\",\"categoryarray\":[\"70%\",\"80%\",\"75%\",\"90%\",\"85%\",\"60%\",\"50%\",\"65%\",\"55%\"]},\"yaxis\":{\"anchor\":\"x\",\"domain\":[0.0,1.0],\"title\":{\"text\":\"count\"}},\"legend\":{\"title\":{\"text\":\"Resource_Allocation\"},\"tracegroupgap\":0},\"title\":{\"text\":\"Distribution of Resource Allocation with Color\"},\"barmode\":\"relative\"},                        {\"responsive\": true}                    ).then(function(){\n",
       "                            \n",
       "var gd = document.getElementById('0f7e37eb-055f-47d7-afd4-21e1e7531f97');\n",
       "var x = new MutationObserver(function (mutations, observer) {{\n",
       "        var display = window.getComputedStyle(gd).display;\n",
       "        if (!display || display === 'none') {{\n",
       "            console.log([gd, 'removed!']);\n",
       "            Plotly.purge(gd);\n",
       "            observer.disconnect();\n",
       "        }}\n",
       "}});\n",
       "\n",
       "// Listen for the removal of the full notebook cells\n",
       "var notebookContainer = gd.closest('#notebook-container');\n",
       "if (notebookContainer) {{\n",
       "    x.observe(notebookContainer, {childList: true});\n",
       "}}\n",
       "\n",
       "// Listen for the clearing of the current output cell\n",
       "var outputEl = gd.closest('.output');\n",
       "if (outputEl) {{\n",
       "    x.observe(outputEl, {childList: true});\n",
       "}}\n",
       "\n",
       "                        })                };                });            </script>        </div>"
      ]
     },
     "metadata": {},
     "output_type": "display_data"
    }
   ],
   "source": [
    "import plotly.express as px\n",
    "\n",
    "# Create a bar plot to visualize the distribution of Resource_Allocation values with color\n",
    "fig = px.bar(df, x='Resource_Allocation', color='Resource_Allocation',\n",
    "             title='Distribution of Resource Allocation with Color')\n",
    "fig.show()\n"
   ]
  },
  {
   "cell_type": "code",
   "execution_count": 14,
   "id": "dff2f8a1",
   "metadata": {
    "execution": {
     "iopub.execute_input": "2023-09-04T13:23:34.276806Z",
     "iopub.status.busy": "2023-09-04T13:23:34.276382Z",
     "iopub.status.idle": "2023-09-04T13:23:39.121061Z",
     "shell.execute_reply": "2023-09-04T13:23:39.120044Z"
    },
    "papermill": {
     "duration": 4.85857,
     "end_time": "2023-09-04T13:23:39.123564",
     "exception": false,
     "start_time": "2023-09-04T13:23:34.264994",
     "status": "completed"
    },
    "tags": []
   },
   "outputs": [
    {
     "name": "stderr",
     "output_type": "stream",
     "text": [
      "/opt/conda/lib/python3.10/site-packages/seaborn/axisgrid.py:118: UserWarning:\n",
      "\n",
      "The figure layout has changed to tight\n",
      "\n",
      "/tmp/ipykernel_20/445901331.py:8: UserWarning:\n",
      "\n",
      "The figure layout has changed to tight\n",
      "\n"
     ]
    },
    {
     "data": {
      "image/png": "[encoded data removed]",
      "text/plain": [
       "<Figure size 1000x1000 with 20 Axes>"
      ]
     },
     "metadata": {},
     "output_type": "display_data"
    }
   ],
   "source": [
    "import seaborn as sns\n",
    "import matplotlib.pyplot as plt\n",
    "\n",
    "# Create a pairplot of the specified columns\n",
    "sns.pairplot(df[['Signal_Strength', 'Latency', 'Required_Bandwidth', 'Allocated_Bandwidth']])\n",
    "\n",
    "# Adjust the figure layout\n",
    "plt.tight_layout()\n",
    "\n",
    "# Show the pairplot\n",
    "plt.show()\n",
    "\n"
   ]
  },
  {
   "cell_type": "markdown",
   "id": "038ad88f",
   "metadata": {
    "papermill": {
     "duration": 0.011114,
     "end_time": "2023-09-04T13:23:39.146254",
     "exception": false,
     "start_time": "2023-09-04T13:23:39.135140",
     "status": "completed"
    },
    "tags": []
   },
   "source": [
    "# 3.Hypothesis Testing"
   ]
  },
  {
   "cell_type": "code",
   "execution_count": 15,
   "id": "b9de9662",
   "metadata": {
    "execution": {
     "iopub.execute_input": "2023-09-04T13:23:39.170064Z",
     "iopub.status.busy": "2023-09-04T13:23:39.169643Z",
     "iopub.status.idle": "2023-09-04T13:23:39.177387Z",
     "shell.execute_reply": "2023-09-04T13:23:39.176179Z"
    },
    "papermill": {
     "duration": 0.022542,
     "end_time": "2023-09-04T13:23:39.179771",
     "exception": false,
     "start_time": "2023-09-04T13:23:39.157229",
     "status": "completed"
    },
    "tags": []
   },
   "outputs": [
    {
     "name": "stdout",
     "output_type": "stream",
     "text": [
      "Insufficient data points for the Shapiro-Wilk test.\n"
     ]
    }
   ],
   "source": [
    "from scipy.stats import shapiro\n",
    "\n",
    "# Assuming 'Signal_Strength' is a numeric column in your DataFrame\n",
    "signal_strength_data = df['Signal_Strength'].dropna()\n",
    "\n",
    "# Check if there are enough data points for the test\n",
    "if len(signal_strength_data) >= 3:\n",
    "    # Perform Shapiro-Wilk normality test\n",
    "    statistic, p_value = shapiro(signal_strength_data)\n",
    "\n",
    "    # Set significance level (alpha)\n",
    "    alpha = 0.05\n",
    "\n",
    "    # Interpret the results\n",
    "    if p_value < alpha:\n",
    "        print(\"Signal Strength does not follow a normal distribution (reject H0)\")\n",
    "    else:\n",
    "        print(\"Signal Strength follows a normal distribution (fail to reject H0)\")\n",
    "else:\n",
    "    print(\"Insufficient data points for the Shapiro-Wilk test.\")\n"
   ]
  },
  {
   "cell_type": "code",
   "execution_count": 16,
   "id": "00209f54",
   "metadata": {
    "execution": {
     "iopub.execute_input": "2023-09-04T13:23:39.204713Z",
     "iopub.status.busy": "2023-09-04T13:23:39.204340Z",
     "iopub.status.idle": "2023-09-04T13:23:39.211561Z",
     "shell.execute_reply": "2023-09-04T13:23:39.210514Z"
    },
    "papermill": {
     "duration": 0.022001,
     "end_time": "2023-09-04T13:23:39.213804",
     "exception": false,
     "start_time": "2023-09-04T13:23:39.191803",
     "status": "completed"
    },
    "tags": []
   },
   "outputs": [
    {
     "name": "stdout",
     "output_type": "stream",
     "text": [
      "Insufficient data points for the Shapiro-Wilk test.\n"
     ]
    }
   ],
   "source": [
    "from scipy.stats import shapiro\n",
    "\n",
    "# Assuming 'Latency' is a numeric column in your DataFrame\n",
    "latency_data = df['Latency'].dropna()\n",
    "\n",
    "# Check if there are enough data points for the test\n",
    "if len(latency_data) >= 3:\n",
    "    # Perform Shapiro-Wilk normality test\n",
    "    statistic, p_value = shapiro(latency_data)\n",
    "\n",
    "    # Set significance level (alpha)\n",
    "    alpha = 0.05\n",
    "\n",
    "    # Interpret the results\n",
    "    if p_value < alpha:\n",
    "        print(\"Latency does not follow a normal distribution (reject H0)\")\n",
    "    else:\n",
    "        print(\"Latency follows a normal distribution (fail to reject H0)\")\n",
    "else:\n",
    "    print(\"Insufficient data points for the Shapiro-Wilk test.\")\n",
    "\n"
   ]
  },
  {
   "cell_type": "code",
   "execution_count": 17,
   "id": "574d4899",
   "metadata": {
    "execution": {
     "iopub.execute_input": "2023-09-04T13:23:39.240333Z",
     "iopub.status.busy": "2023-09-04T13:23:39.239958Z",
     "iopub.status.idle": "2023-09-04T13:23:39.247377Z",
     "shell.execute_reply": "2023-09-04T13:23:39.246125Z"
    },
    "papermill": {
     "duration": 0.024268,
     "end_time": "2023-09-04T13:23:39.249702",
     "exception": false,
     "start_time": "2023-09-04T13:23:39.225434",
     "status": "completed"
    },
    "tags": []
   },
   "outputs": [
    {
     "name": "stdout",
     "output_type": "stream",
     "text": [
      "Insufficient data points for the Shapiro-Wilk test.\n"
     ]
    }
   ],
   "source": [
    "from scipy.stats import shapiro\n",
    "\n",
    "# Assuming 'Latency' is a numeric column in your DataFrame\n",
    "latency_data = df['Latency'].dropna()\n",
    "\n",
    "# Check if there are enough data points for the test (at least 3)\n",
    "if len(latency_data) >= 3:\n",
    "    # Perform Shapiro-Wilk normality test\n",
    "    statistic, p_value = shapiro(latency_data)\n",
    "\n",
    "    # Set significance level (alpha)\n",
    "    alpha = 0.05\n",
    "\n",
    "    # Interpret the results\n",
    "    if p_value < alpha:\n",
    "        print(\"Latency does not follow a normal distribution (reject H0)\")\n",
    "    else:\n",
    "        print(\"Latency follows a normal distribution (fail to reject H0)\")\n",
    "else:\n",
    "    print(\"Insufficient data points for the Shapiro-Wilk test.\")\n",
    "\n"
   ]
  },
  {
   "cell_type": "markdown",
   "id": "4d33e537",
   "metadata": {
    "papermill": {
     "duration": 0.010738,
     "end_time": "2023-09-04T13:23:39.272135",
     "exception": false,
     "start_time": "2023-09-04T13:23:39.261397",
     "status": "completed"
    },
    "tags": []
   },
   "source": [
    "**Signal Strength Distribution**: The 'Signal_Strength' column does not follow a normal distribution, indicating that the signal strength data is not normally distributed and may require non-parametric statistical methods for analysis.\n",
    "\n",
    "**Latency Distribution**: The 'Latency' column also does not follow a normal distribution, suggesting that the latency data does not exhibit a typical normal distribution pattern.\n",
    "\n",
    "**Signal Strength and Latency Relationship**: There is a statistically significant relationship between 'Signal_Strength' and 'Latency,' meaning changes in one variable may be associated with changes in the other. Further analysis is needed to understand the nature of this relationship."
   ]
  },
  {
   "cell_type": "code",
   "execution_count": 18,
   "id": "13dfaa71",
   "metadata": {
    "execution": {
     "iopub.execute_input": "2023-09-04T13:23:39.297041Z",
     "iopub.status.busy": "2023-09-04T13:23:39.296613Z",
     "iopub.status.idle": "2023-09-04T13:23:39.318088Z",
     "shell.execute_reply": "2023-09-04T13:23:39.316797Z"
    },
    "papermill": {
     "duration": 0.037049,
     "end_time": "2023-09-04T13:23:39.320514",
     "exception": false,
     "start_time": "2023-09-04T13:23:39.283465",
     "status": "completed"
    },
    "tags": []
   },
   "outputs": [
    {
     "name": "stdout",
     "output_type": "stream",
     "text": [
      "                    Signal_Strength            Latency           \n",
      "                               mean median var    mean median var\n",
      "Application_Type                                                 \n",
      "Background_Download             NaN    NaN NaN     NaN    NaN NaN\n",
      "Emergency_Service               NaN    NaN NaN     NaN    NaN NaN\n",
      "File_Download                   NaN    NaN NaN     NaN    NaN NaN\n",
      "IoT_Temperature                 NaN    NaN NaN     NaN    NaN NaN\n",
      "Online_Gaming                   NaN    NaN NaN     NaN    NaN NaN\n",
      "Streaming                       NaN    NaN NaN     NaN    NaN NaN\n",
      "Video_Call                      NaN    NaN NaN     NaN    NaN NaN\n",
      "Video_Streaming                 NaN    NaN NaN     NaN    NaN NaN\n",
      "VoIP_Call                       NaN    NaN NaN     NaN    NaN NaN\n",
      "Voice_Call                      NaN    NaN NaN     NaN    NaN NaN\n",
      "Web_Browsing                    NaN    NaN NaN     NaN    NaN NaN\n"
     ]
    }
   ],
   "source": [
    "import pandas as pd\n",
    "\n",
    "# Group data by 'Application_Type' and calculate statistics\n",
    "app_type_stats = df.groupby('Application_Type')[['Signal_Strength', 'Latency']].agg(['mean', 'median', 'var'])\n",
    "\n",
    "# Display the statistics\n",
    "print(app_type_stats)\n"
   ]
  },
  {
   "cell_type": "code",
   "execution_count": 19,
   "id": "e3b737cc",
   "metadata": {
    "execution": {
     "iopub.execute_input": "2023-09-04T13:23:39.346566Z",
     "iopub.status.busy": "2023-09-04T13:23:39.346179Z",
     "iopub.status.idle": "2023-09-04T13:23:39.420862Z",
     "shell.execute_reply": "2023-09-04T13:23:39.418645Z"
    },
    "papermill": {
     "duration": 0.092371,
     "end_time": "2023-09-04T13:23:39.425534",
     "exception": false,
     "start_time": "2023-09-04T13:23:39.333163",
     "status": "completed"
    },
    "tags": []
   },
   "outputs": [
    {
     "data": {
      "text/html": [
       "<div>                            <div id=\"162cfb80-58bb-4acd-b723-73757a5bd5b4\" class=\"plotly-graph-div\" style=\"height:525px; width:100%;\"></div>            <script type=\"text/javascript\">                require([\"plotly\"], function(Plotly) {                    window.PLOTLYENV=window.PLOTLYENV || {};                                    if (document.getElementById(\"162cfb80-58bb-4acd-b723-73757a5bd5b4\")) {                    Plotly.newPlot(                        \"162cfb80-58bb-4acd-b723-73757a5bd5b4\",                        [{\"alignmentgroup\":\"True\",\"hovertemplate\":\"Resource_Allocation=%{x}\\u003cbr\\u003ecount=%{y}\\u003cextra\\u003e\\u003c\\u002fextra\\u003e\",\"legendgroup\":\"\",\"marker\":{\"color\":\"#636efa\",\"pattern\":{\"shape\":\"\"}},\"name\":\"\",\"offsetgroup\":\"\",\"orientation\":\"v\",\"showlegend\":false,\"textposition\":\"auto\",\"x\":[\"70%\",\"80%\",\"75%\",\"90%\",\"85%\",\"70%\",\"60%\",\"50%\",\"80%\",\"70%\",\"70%\",\"75%\",\"65%\",\"85%\",\"60%\",\"70%\",\"80%\",\"55%\",\"70%\",\"75%\",\"75%\",\"80%\",\"70%\",\"90%\",\"75%\",\"85%\",\"70%\",\"60%\",\"65%\",\"70%\",\"75%\",\"80%\",\"70%\",\"90%\",\"75%\",\"85%\",\"70%\",\"60%\",\"65%\",\"70%\",\"70%\",\"75%\",\"70%\",\"90%\",\"80%\",\"85%\",\"70%\",\"60%\",\"65%\",\"70%\",\"80%\",\"85%\",\"70%\",\"90%\",\"75%\",\"85%\",\"70%\",\"60%\",\"75%\",\"70%\",\"70%\",\"80%\",\"70%\",\"90%\",\"75%\",\"85%\",\"70%\",\"60%\",\"75%\",\"70%\",\"70%\",\"80%\",\"70%\",\"90%\",\"75%\",\"85%\",\"70%\",\"60%\",\"75%\",\"70%\",\"70%\",\"80%\",\"70%\",\"90%\",\"75%\",\"85%\",\"70%\",\"60%\",\"75%\",\"70%\",\"70%\",\"80%\",\"70%\",\"90%\",\"75%\",\"85%\",\"70%\",\"60%\",\"75%\",\"70%\",\"90%\",\"80%\",\"70%\",\"75%\",\"85%\",\"70%\",\"60%\",\"75%\",\"70%\",\"90%\",\"70%\",\"80%\",\"70%\",\"90%\",\"75%\",\"85%\",\"70%\",\"60%\",\"75%\",\"70%\",\"90%\",\"80%\",\"70%\",\"75%\",\"85%\",\"70%\",\"60%\",\"75%\",\"70%\",\"90%\",\"70%\",\"60%\",\"90%\",\"85%\",\"75%\",\"70%\",\"70%\",\"70%\",\"60%\",\"80%\",\"85%\",\"75%\",\"70%\",\"70%\",\"70%\",\"60%\",\"90%\",\"80%\",\"85%\",\"75%\",\"70%\",\"70%\",\"70%\",\"60%\",\"90%\",\"85%\",\"75%\",\"70%\",\"70%\",\"70%\",\"60%\",\"90%\",\"80%\",\"85%\",\"75%\",\"70%\",\"70%\",\"70%\",\"60%\",\"90%\",\"80%\",\"85%\",\"75%\",\"70%\",\"70%\",\"70%\",\"60%\",\"90%\",\"80%\",\"85%\",\"75%\",\"70%\",\"70%\",\"70%\",\"60%\",\"90%\",\"80%\",\"85%\",\"75%\",\"70%\",\"70%\",\"70%\",\"60%\",\"90%\",\"80%\",\"85%\",\"75%\",\"70%\",\"70%\",\"70%\",\"60%\",\"90%\",\"80%\",\"85%\",\"75%\",\"70%\",\"70%\",\"70%\",\"60%\",\"90%\",\"80%\",\"85%\",\"75%\",\"70%\",\"70%\",\"70%\",\"60%\",\"90%\",\"80%\",\"85%\",\"75%\",\"70%\",\"70%\",\"70%\",\"60%\",\"90%\",\"80%\",\"85%\",\"75%\",\"70%\",\"70%\",\"70%\",\"60%\",\"90%\",\"80%\",\"85%\",\"75%\",\"70%\",\"70%\",\"70%\",\"60%\",\"90%\",\"80%\",\"85%\",\"75%\",\"70%\",\"70%\",\"70%\",\"60%\",\"90%\",\"80%\",\"85%\",\"75%\",\"70%\",\"70%\",\"70%\",\"60%\",\"90%\",\"80%\",\"85%\",\"75%\",\"70%\",\"70%\",\"70%\",\"60%\",\"90%\",\"80%\",\"85%\",\"75%\",\"70%\",\"70%\",\"70%\",\"60%\",\"90%\",\"80%\",\"85%\",\"75%\",\"70%\",\"70%\",\"70%\",\"60%\",\"90%\",\"80%\",\"85%\",\"75%\",\"70%\",\"70%\",\"70%\",\"60%\",\"90%\",\"80%\",\"85%\",\"75%\",\"70%\",\"70%\",\"70%\",\"60%\",\"90%\",\"80%\",\"85%\",\"75%\",\"70%\",\"70%\",\"70%\",\"60%\",\"90%\",\"80%\",\"85%\",\"75%\",\"70%\",\"70%\",\"70%\",\"60%\",\"90%\",\"80%\",\"85%\",\"75%\",\"70%\",\"70%\",\"70%\",\"60%\",\"90%\",\"80%\",\"85%\",\"75%\",\"70%\",\"70%\",\"70%\",\"60%\",\"90%\",\"80%\",\"85%\",\"75%\",\"70%\",\"70%\",\"70%\",\"60%\",\"90%\",\"80%\",\"85%\",\"75%\",\"70%\",\"70%\",\"70%\",\"60%\",\"90%\",\"80%\",\"85%\",\"75%\",\"70%\",\"70%\",\"70%\",\"60%\",\"90%\",\"80%\",\"85%\",\"75%\",\"70%\",\"70%\",\"70%\",\"60%\",\"90%\",\"80%\",\"85%\",\"75%\",\"70%\",\"70%\",\"70%\",\"60%\",\"90%\",\"80%\",\"85%\",\"75%\",\"70%\",\"70%\",\"70%\",\"60%\",\"90%\",\"80%\",\"85%\",\"75%\",\"70%\",\"70%\",\"70%\",\"60%\",\"90%\",\"80%\",\"85%\",\"75%\",\"70%\",\"70%\",\"70%\",\"60%\",\"90%\",\"80%\",\"85%\",\"75%\",\"70%\",\"70%\",\"70%\"],\"xaxis\":\"x\",\"y\":[1,1,1,1,1,1,1,1,1,1,1,1,1,1,1,1,1,1,1,1,1,1,1,1,1,1,1,1,1,1,1,1,1,1,1,1,1,1,1,1,1,1,1,1,1,1,1,1,1,1,1,1,1,1,1,1,1,1,1,1,1,1,1,1,1,1,1,1,1,1,1,1,1,1,1,1,1,1,1,1,1,1,1,1,1,1,1,1,1,1,1,1,1,1,1,1,1,1,1,1,1,1,1,1,1,1,1,1,1,1,1,1,1,1,1,1,1,1,1,1,1,1,1,1,1,1,1,1,1,1,1,1,1,1,1,1,1,1,1,1,1,1,1,1,1,1,1,1,1,1,1,1,1,1,1,1,1,1,1,1,1,1,1,1,1,1,1,1,1,1,1,1,1,1,1,1,1,1,1,1,1,1,1,1,1,1,1,1,1,1,1,1,1,1,1,1,1,1,1,1,1,1,1,1,1,1,1,1,1,1,1,1,1,1,1,1,1,1,1,1,1,1,1,1,1,1,1,1,1,1,1,1,1,1,1,1,1,1,1,1,1,1,1,1,1,1,1,1,1,1,1,1,1,1,1,1,1,1,1,1,1,1,1,1,1,1,1,1,1,1,1,1,1,1,1,1,1,1,1,1,1,1,1,1,1,1,1,1,1,1,1,1,1,1,1,1,1,1,1,1,1,1,1,1,1,1,1,1,1,1,1,1,1,1,1,1,1,1,1,1,1,1,1,1,1,1,1,1,1,1,1,1,1,1,1,1,1,1,1,1,1,1,1,1,1,1,1,1,1,1,1,1,1,1,1,1,1,1,1,1,1,1,1,1,1,1,1,1,1,1,1,1,1,1,1,1,1,1,1,1,1,1,1,1,1,1,1,1,1,1,1,1,1,1,1,1,1,1,1,1],\"yaxis\":\"y\",\"type\":\"bar\"}],                        {\"template\":{\"data\":{\"histogram2dcontour\":[{\"type\":\"histogram2dcontour\",\"colorbar\":{\"outlinewidth\":0,\"ticks\":\"\"},\"colorscale\":[[0.0,\"#0d0887\"],[0.1111111111111111,\"#46039f\"],[0.2222222222222222,\"#7201a8\"],[0.3333333333333333,\"#9c179e\"],[0.4444444444444444,\"#bd3786\"],[0.5555555555555556,\"#d8576b\"],[0.6666666666666666,\"#ed7953\"],[0.7777777777777778,\"#fb9f3a\"],[0.8888888888888888,\"#fdca26\"],[1.0,\"#f0f921\"]]}],\"choropleth\":[{\"type\":\"choropleth\",\"colorbar\":{\"outlinewidth\":0,\"ticks\":\"\"}}],\"histogram2d\":[{\"type\":\"histogram2d\",\"colorbar\":{\"outlinewidth\":0,\"ticks\":\"\"},\"colorscale\":[[0.0,\"#0d0887\"],[0.1111111111111111,\"#46039f\"],[0.2222222222222222,\"#7201a8\"],[0.3333333333333333,\"#9c179e\"],[0.4444444444444444,\"#bd3786\"],[0.5555555555555556,\"#d8576b\"],[0.6666666666666666,\"#ed7953\"],[0.7777777777777778,\"#fb9f3a\"],[0.8888888888888888,\"#fdca26\"],[1.0,\"#f0f921\"]]}],\"heatmap\":[{\"type\":\"heatmap\",\"colorbar\":{\"outlinewidth\":0,\"ticks\":\"\"},\"colorscale\":[[0.0,\"#0d0887\"],[0.1111111111111111,\"#46039f\"],[0.2222222222222222,\"#7201a8\"],[0.3333333333333333,\"#9c179e\"],[0.4444444444444444,\"#bd3786\"],[0.5555555555555556,\"#d8576b\"],[0.6666666666666666,\"#ed7953\"],[0.7777777777777778,\"#fb9f3a\"],[0.8888888888888888,\"#fdca26\"],[1.0,\"#f0f921\"]]}],\"heatmapgl\":[{\"type\":\"heatmapgl\",\"colorbar\":{\"outlinewidth\":0,\"ticks\":\"\"},\"colorscale\":[[0.0,\"#0d0887\"],[0.1111111111111111,\"#46039f\"],[0.2222222222222222,\"#7201a8\"],[0.3333333333333333,\"#9c179e\"],[0.4444444444444444,\"#bd3786\"],[0.5555555555555556,\"#d8576b\"],[0.6666666666666666,\"#ed7953\"],[0.7777777777777778,\"#fb9f3a\"],[0.8888888888888888,\"#fdca26\"],[1.0,\"#f0f921\"]]}],\"contourcarpet\":[{\"type\":\"contourcarpet\",\"colorbar\":{\"outlinewidth\":0,\"ticks\":\"\"}}],\"contour\":[{\"type\":\"contour\",\"colorbar\":{\"outlinewidth\":0,\"ticks\":\"\"},\"colorscale\":[[0.0,\"#0d0887\"],[0.1111111111111111,\"#46039f\"],[0.2222222222222222,\"#7201a8\"],[0.3333333333333333,\"#9c179e\"],[0.4444444444444444,\"#bd3786\"],[0.5555555555555556,\"#d8576b\"],[0.6666666666666666,\"#ed7953\"],[0.7777777777777778,\"#fb9f3a\"],[0.8888888888888888,\"#fdca26\"],[1.0,\"#f0f921\"]]}],\"surface\":[{\"type\":\"surface\",\"colorbar\":{\"outlinewidth\":0,\"ticks\":\"\"},\"colorscale\":[[0.0,\"#0d0887\"],[0.1111111111111111,\"#46039f\"],[0.2222222222222222,\"#7201a8\"],[0.3333333333333333,\"#9c179e\"],[0.4444444444444444,\"#bd3786\"],[0.5555555555555556,\"#d8576b\"],[0.6666666666666666,\"#ed7953\"],[0.7777777777777778,\"#fb9f3a\"],[0.8888888888888888,\"#fdca26\"],[1.0,\"#f0f921\"]]}],\"mesh3d\":[{\"type\":\"mesh3d\",\"colorbar\":{\"outlinewidth\":0,\"ticks\":\"\"}}],\"scatter\":[{\"fillpattern\":{\"fillmode\":\"overlay\",\"size\":10,\"solidity\":0.2},\"type\":\"scatter\"}],\"parcoords\":[{\"type\":\"parcoords\",\"line\":{\"colorbar\":{\"outlinewidth\":0,\"ticks\":\"\"}}}],\"scatterpolargl\":[{\"type\":\"scatterpolargl\",\"marker\":{\"colorbar\":{\"outlinewidth\":0,\"ticks\":\"\"}}}],\"bar\":[{\"error_x\":{\"color\":\"#2a3f5f\"},\"error_y\":{\"color\":\"#2a3f5f\"},\"marker\":{\"line\":{\"color\":\"#E5ECF6\",\"width\":0.5},\"pattern\":{\"fillmode\":\"overlay\",\"size\":10,\"solidity\":0.2}},\"type\":\"bar\"}],\"scattergeo\":[{\"type\":\"scattergeo\",\"marker\":{\"colorbar\":{\"outlinewidth\":0,\"ticks\":\"\"}}}],\"scatterpolar\":[{\"type\":\"scatterpolar\",\"marker\":{\"colorbar\":{\"outlinewidth\":0,\"ticks\":\"\"}}}],\"histogram\":[{\"marker\":{\"pattern\":{\"fillmode\":\"overlay\",\"size\":10,\"solidity\":0.2}},\"type\":\"histogram\"}],\"scattergl\":[{\"type\":\"scattergl\",\"marker\":{\"colorbar\":{\"outlinewidth\":0,\"ticks\":\"\"}}}],\"scatter3d\":[{\"type\":\"scatter3d\",\"line\":{\"colorbar\":{\"outlinewidth\":0,\"ticks\":\"\"}},\"marker\":{\"colorbar\":{\"outlinewidth\":0,\"ticks\":\"\"}}}],\"scattermapbox\":[{\"type\":\"scattermapbox\",\"marker\":{\"colorbar\":{\"outlinewidth\":0,\"ticks\":\"\"}}}],\"scatterternary\":[{\"type\":\"scatterternary\",\"marker\":{\"colorbar\":{\"outlinewidth\":0,\"ticks\":\"\"}}}],\"scattercarpet\":[{\"type\":\"scattercarpet\",\"marker\":{\"colorbar\":{\"outlinewidth\":0,\"ticks\":\"\"}}}],\"carpet\":[{\"aaxis\":{\"endlinecolor\":\"#2a3f5f\",\"gridcolor\":\"white\",\"linecolor\":\"white\",\"minorgridcolor\":\"white\",\"startlinecolor\":\"#2a3f5f\"},\"baxis\":{\"endlinecolor\":\"#2a3f5f\",\"gridcolor\":\"white\",\"linecolor\":\"white\",\"minorgridcolor\":\"white\",\"startlinecolor\":\"#2a3f5f\"},\"type\":\"carpet\"}],\"table\":[{\"cells\":{\"fill\":{\"color\":\"#EBF0F8\"},\"line\":{\"color\":\"white\"}},\"header\":{\"fill\":{\"color\":\"#C8D4E3\"},\"line\":{\"color\":\"white\"}},\"type\":\"table\"}],\"barpolar\":[{\"marker\":{\"line\":{\"color\":\"#E5ECF6\",\"width\":0.5},\"pattern\":{\"fillmode\":\"overlay\",\"size\":10,\"solidity\":0.2}},\"type\":\"barpolar\"}],\"pie\":[{\"automargin\":true,\"type\":\"pie\"}]},\"layout\":{\"autotypenumbers\":\"strict\",\"colorway\":[\"#636efa\",\"#EF553B\",\"#00cc96\",\"#ab63fa\",\"#FFA15A\",\"#19d3f3\",\"#FF6692\",\"#B6E880\",\"#FF97FF\",\"#FECB52\"],\"font\":{\"color\":\"#2a3f5f\"},\"hovermode\":\"closest\",\"hoverlabel\":{\"align\":\"left\"},\"paper_bgcolor\":\"white\",\"plot_bgcolor\":\"#E5ECF6\",\"polar\":{\"bgcolor\":\"#E5ECF6\",\"angularaxis\":{\"gridcolor\":\"white\",\"linecolor\":\"white\",\"ticks\":\"\"},\"radialaxis\":{\"gridcolor\":\"white\",\"linecolor\":\"white\",\"ticks\":\"\"}},\"ternary\":{\"bgcolor\":\"#E5ECF6\",\"aaxis\":{\"gridcolor\":\"white\",\"linecolor\":\"white\",\"ticks\":\"\"},\"baxis\":{\"gridcolor\":\"white\",\"linecolor\":\"white\",\"ticks\":\"\"},\"caxis\":{\"gridcolor\":\"white\",\"linecolor\":\"white\",\"ticks\":\"\"}},\"coloraxis\":{\"colorbar\":{\"outlinewidth\":0,\"ticks\":\"\"}},\"colorscale\":{\"sequential\":[[0.0,\"#0d0887\"],[0.1111111111111111,\"#46039f\"],[0.2222222222222222,\"#7201a8\"],[0.3333333333333333,\"#9c179e\"],[0.4444444444444444,\"#bd3786\"],[0.5555555555555556,\"#d8576b\"],[0.6666666666666666,\"#ed7953\"],[0.7777777777777778,\"#fb9f3a\"],[0.8888888888888888,\"#fdca26\"],[1.0,\"#f0f921\"]],\"sequentialminus\":[[0.0,\"#0d0887\"],[0.1111111111111111,\"#46039f\"],[0.2222222222222222,\"#7201a8\"],[0.3333333333333333,\"#9c179e\"],[0.4444444444444444,\"#bd3786\"],[0.5555555555555556,\"#d8576b\"],[0.6666666666666666,\"#ed7953\"],[0.7777777777777778,\"#fb9f3a\"],[0.8888888888888888,\"#fdca26\"],[1.0,\"#f0f921\"]],\"diverging\":[[0,\"#8e0152\"],[0.1,\"#c51b7d\"],[0.2,\"#de77ae\"],[0.3,\"#f1b6da\"],[0.4,\"#fde0ef\"],[0.5,\"#f7f7f7\"],[0.6,\"#e6f5d0\"],[0.7,\"#b8e186\"],[0.8,\"#7fbc41\"],[0.9,\"#4d9221\"],[1,\"#276419\"]]},\"xaxis\":{\"gridcolor\":\"white\",\"linecolor\":\"white\",\"ticks\":\"\",\"title\":{\"standoff\":15},\"zerolinecolor\":\"white\",\"automargin\":true,\"zerolinewidth\":2},\"yaxis\":{\"gridcolor\":\"white\",\"linecolor\":\"white\",\"ticks\":\"\",\"title\":{\"standoff\":15},\"zerolinecolor\":\"white\",\"automargin\":true,\"zerolinewidth\":2},\"scene\":{\"xaxis\":{\"backgroundcolor\":\"#E5ECF6\",\"gridcolor\":\"white\",\"linecolor\":\"white\",\"showbackground\":true,\"ticks\":\"\",\"zerolinecolor\":\"white\",\"gridwidth\":2},\"yaxis\":{\"backgroundcolor\":\"#E5ECF6\",\"gridcolor\":\"white\",\"linecolor\":\"white\",\"showbackground\":true,\"ticks\":\"\",\"zerolinecolor\":\"white\",\"gridwidth\":2},\"zaxis\":{\"backgroundcolor\":\"#E5ECF6\",\"gridcolor\":\"white\",\"linecolor\":\"white\",\"showbackground\":true,\"ticks\":\"\",\"zerolinecolor\":\"white\",\"gridwidth\":2}},\"shapedefaults\":{\"line\":{\"color\":\"#2a3f5f\"}},\"annotationdefaults\":{\"arrowcolor\":\"#2a3f5f\",\"arrowhead\":0,\"arrowwidth\":1},\"geo\":{\"bgcolor\":\"white\",\"landcolor\":\"#E5ECF6\",\"subunitcolor\":\"white\",\"showland\":true,\"showlakes\":true,\"lakecolor\":\"white\"},\"title\":{\"x\":0.05},\"mapbox\":{\"style\":\"light\"}}},\"xaxis\":{\"anchor\":\"y\",\"domain\":[0.0,1.0],\"title\":{\"text\":\"Resource_Allocation\"}},\"yaxis\":{\"anchor\":\"x\",\"domain\":[0.0,1.0],\"title\":{\"text\":\"count\"}},\"legend\":{\"tracegroupgap\":0},\"title\":{\"text\":\"Distribution of Resource Allocation\"},\"barmode\":\"relative\"},                        {\"responsive\": true}                    ).then(function(){\n",
       "                            \n",
       "var gd = document.getElementById('162cfb80-58bb-4acd-b723-73757a5bd5b4');\n",
       "var x = new MutationObserver(function (mutations, observer) {{\n",
       "        var display = window.getComputedStyle(gd).display;\n",
       "        if (!display || display === 'none') {{\n",
       "            console.log([gd, 'removed!']);\n",
       "            Plotly.purge(gd);\n",
       "            observer.disconnect();\n",
       "        }}\n",
       "}});\n",
       "\n",
       "// Listen for the removal of the full notebook cells\n",
       "var notebookContainer = gd.closest('#notebook-container');\n",
       "if (notebookContainer) {{\n",
       "    x.observe(notebookContainer, {childList: true});\n",
       "}}\n",
       "\n",
       "// Listen for the clearing of the current output cell\n",
       "var outputEl = gd.closest('.output');\n",
       "if (outputEl) {{\n",
       "    x.observe(outputEl, {childList: true});\n",
       "}}\n",
       "\n",
       "                        })                };                });            </script>        </div>"
      ]
     },
     "metadata": {},
     "output_type": "display_data"
    }
   ],
   "source": [
    "fig = px.bar(df, x='Resource_Allocation', title='Distribution of Resource Allocation')\n",
    "fig.show()\n"
   ]
  },
  {
   "cell_type": "code",
   "execution_count": null,
   "id": "18f03570",
   "metadata": {
    "papermill": {
     "duration": 0.012417,
     "end_time": "2023-09-04T13:23:39.450055",
     "exception": false,
     "start_time": "2023-09-04T13:23:39.437638",
     "status": "completed"
    },
    "tags": []
   },
   "outputs": [],
   "source": []
  }
 ],
 "kernelspec": {
  "display_name": "Python 3",
  "language": "python",
  "name": "python3"
 },
 "language_info": {
  "codemirror_mode": {
   "name": "ipython",
   "version": 3
  },
  "file_extension": ".py",
  "mimetype": "text/x-python",
  "name": "python",
  "nbconvert_exporter": "python",
  "pygments_lexer": "ipython3",
  "version": "3.6.4"
 },
 "metadata": {
  "kernelspec": {
   "display_name": "Python 3",
   "language": "python",
   "name": "python3"
  },
  "language_info": {
   "codemirror_mode": {
    "name": "ipython",
    "version": 3
   },
   "file_extension": ".py",
   "mimetype": "text/x-python",
   "name": "python",
   "nbconvert_exporter": "python",
   "pygments_lexer": "ipython3",
   "version": "3.10.12"
  },
  "papermill": {
   "default_parameters": {},
   "duration": 16.126409,
   "end_time": "2023-09-04T13:23:40.385545",
   "environment_variables": {},
   "exception": null,
   "input_path": "__notebook__.ipynb",
   "output_path": "__notebook__.ipynb",
   "parameters": {},
   "start_time": "2023-09-04T13:23:24.259136",
   "version": "2.4.0"
  }
 },
 "nbformat": 4,
 "nbformat_minor": 5
}
